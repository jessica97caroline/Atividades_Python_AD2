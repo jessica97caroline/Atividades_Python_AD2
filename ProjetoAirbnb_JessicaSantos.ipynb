{
  "cells": [
    {
      "cell_type": "markdown",
      "metadata": {
        "id": "view-in-github",
        "colab_type": "text"
      },
      "source": [
        "<a href=\"https://colab.research.google.com/github/jessica97caroline/Atividades_Python_AD2/blob/main/ProjetoAirbnb_JessicaSantos.ipynb\" target=\"_parent\"><img src=\"https://colab.research.google.com/assets/colab-badge.svg\" alt=\"Open In Colab\"/></a>"
      ]
    },
    {
      "cell_type": "markdown",
      "metadata": {
        "id": "PmOsBOb0uKhO"
      },
      "source": [
        "# **Análise Exploratória de Dados - Case Airbnb**\n",
        "\n",
        "Aluno: Jéssica Caroline dos Santos\n",
        "\n",
        "Curso: Bootcamp Analista de Dados - Martech - AD2\n",
        "\n",
        "Escola: SoulCode Academy\n",
        "\n",
        "Período: Semana 6 - ETL\n",
        "\n",
        "Professor: Franciane Rodrigues\n",
        "\n",
        "---\n",
        "\n",
        "\n"
      ]
    },
    {
      "cell_type": "markdown",
      "source": [
        "## **Informações gerais**\n",
        "\n",
        "Este documento apresenta uma análise exploratória de dados do Airbnb. Neste estudo, buscamos compreender as informações contidas nos dados coletados a fim de identificar padrões e tendências que possam influenciar a satisfação dos hóspedes.\n",
        "\n",
        "\n",
        "Para realizar essa análise, utilizamos o Google Colab, uma plataforma que nos permite explorar e visualizar os dados de forma interativa. Além disso, contamos com o suporte do Google Drive e do Google Cloud para armazenar e compartilhar os dados de forma segura e colaborativa.\n",
        "\n",
        "\n",
        "Ao identificar padrões e tendências nos dados, podemos fornecer insights valiosos para proprietários de acomodações, ajudando-os a otimizar suas ofertas e melhorar a experiência dos hóspedes. Além disso, essas informações podem ser úteis para os próprios viajantes, auxiliando-os na escolha da acomodação ideal para suas necessidades."
      ],
      "metadata": {
        "id": "O1DmASG2x2PA"
      }
    },
    {
      "cell_type": "markdown",
      "source": [
        "### **Sobre este arquivo:**\n",
        "\n",
        "| Nome da coluna   | Descrição | Tipo |\n",
        "| ------------ | ------ |------ |\n",
        "| realSum   |  O preço total do anúncio do Airbnb    | Numérico |\n",
        "| room_type  | O tipo de quarto oferecido (quarto privado, quarto compartilhado, casa inteira/apto) | Categórico   |\n",
        "| room_shared  | Se o quarto é compartilhado ou não | Boleano     |\n",
        "| room_private  | Se o quarto é privado ou não. | Boleano    |\n",
        "| person_capacity  | O número máximo de pessoas que podem ser acomodadas em um único anúncio. | Numérico   |\n",
        "| host_is_superhost  | Se um determinado host é ou não identificado como superhost* no Airbnb. | Boleano    |\n",
        "| multi  | Se vários quartos são fornecidos em uma listagem individual ou não. | Boleano    |\n",
        "| biz  | Se uma listagem específica oferece instalações de negócios, como área de reunião/salas de conferência, além de opções de acomodação. | Boleano    |\n",
        "| cleanliness_rating  | A classificação associada à limpeza | Numérico    |\n",
        "| guest_satisfaction_overall  | A classificação geral que mostra o grau de satisfação dos hóspedes com a estadia | Numérico    |\n",
        "| bedrooms  | quantidade total de quartos disponíveis entre todas as propriedades em um único id de hospedagem | Numérico    |\n",
        "| dist  | Distância do centro da cidade associada a cada propriedade alugada (quilometros/milhas) | Numérico    |\n",
        "| metro_dist  | Distância da estação de metrô associada a cada propriedade alugada (quilometros/milhas | Numérico    |\n",
        "| attr_index  | índice de atração do local do anúncio | Numérico    |\n",
        "| rest_index  | índice do restaurante do local da listagem | Numérico   |\n",
        "| attr_index_norm  | índice de atração normalizado | Numérico    |\n",
        "| rest_index_norm  | índice de restaurante normalizado | Numérico    |\n",
        "| lng  | Medição da longitude correspondente a cada unidade alugada. | Numérico    |\n",
        "| lat  | Medição da latitude correspondente a cada unidade de aluguel. | Numérico    |\n",
        "\n",
        "*O status de superhost, uma distinção concedida aos anfitriões que atendem a critérios específicos, será analisado para entender seu impacto na experiência dos hóspedes e no sucesso dos anfitriões.\n",
        "Acesso:\n",
        "https://www.kaggle.com/datasets/thedevastator/airbnb-price-determinants-in-europe\n"
      ],
      "metadata": {
        "id": "Gvwcd2M01tnB"
      }
    },
    {
      "cell_type": "markdown",
      "source": [
        "**Procedimento de Importação e Instalação de Bibliotecas**"
      ],
      "metadata": {
        "id": "zuNGeMaa2FW8"
      }
    },
    {
      "cell_type": "code",
      "execution_count": null,
      "metadata": {
        "id": "DnfeUOnTPNFU"
      },
      "outputs": [],
      "source": [
        "!pip install gcsfs      # biblioteca Python que permite interagir com o Google Cloud Storage (GCS)\n",
        "!pip install pandera    # biblioteca Python para validação de dados"
      ]
    },
    {
      "cell_type": "code",
      "execution_count": 341,
      "metadata": {
        "id": "B5jkcyWXiL5z"
      },
      "outputs": [],
      "source": [
        "import os                           # Interage com o sistema operacional\n",
        "import pandas as pd                 # Fornece ferramentas para manipulação, limpeza, análise e visualização de dados.\n",
        "import numpy as np                  # Fornece suporte para matrizes multidimensionais, funções matemáticas avançadas e manipulação eficiente de dados numéricos\n",
        "import pandera as pa                # Adiciona recursos de validação de dados ao pandas, permite a definição de esquemas e regras para verificar a qualidade e integridade dos dados.\n",
        "import datetime as dt               # Permite trabalhar com datas e horários de forma eficiente\n",
        "import folium\n",
        "import matplotlib.pyplot as plt     # Biblioteca de visualização\n",
        "import seaborn as sns\n",
        "\n",
        "from google.cloud import storage    # Módulo com funcionalidades para interagir com o Google Cloud Platform (GCP)"
      ]
    },
    {
      "cell_type": "code",
      "execution_count": 336,
      "metadata": {
        "id": "yDK3TgMRjAdZ"
      },
      "outputs": [],
      "source": [
        "import warnings\n",
        "warnings.filterwarnings(\"ignore\")   # Ignora advertências"
      ]
    },
    {
      "cell_type": "code",
      "execution_count": 337,
      "metadata": {
        "id": "Fkbob1pEjJ7j"
      },
      "outputs": [],
      "source": [
        "pd.set_option('display.max_columns',100)    # Limita a quantidade de colunas no DataFrame"
      ]
    },
    {
      "cell_type": "markdown",
      "metadata": {
        "id": "pDBu6V6Fjl3t"
      },
      "source": [
        "# **Coleta dos Dados**"
      ]
    },
    {
      "cell_type": "markdown",
      "metadata": {
        "id": "RAAGzOkAMyQF"
      },
      "source": [
        "### **Google Drive**"
      ]
    },
    {
      "cell_type": "code",
      "execution_count": null,
      "metadata": {
        "colab": {
          "base_uri": "https://localhost:8080/"
        },
        "id": "oF9xlGMYjpun",
        "outputId": "c0651cb3-e8b9-4542-a367-97966f27e010"
      },
      "outputs": [
        {
          "output_type": "stream",
          "name": "stdout",
          "text": [
            "Drive already mounted at /content/drive; to attempt to forcibly remount, call drive.mount(\"/content/drive\", force_remount=True).\n"
          ]
        }
      ],
      "source": [
        "from google.colab import drive      # permite acessar e montar o Google Drive no ambiente de desenvolvimento do Google Colab\n",
        "drive.mount('/content/drive')"
      ]
    },
    {
      "cell_type": "code",
      "execution_count": null,
      "metadata": {
        "id": "IdN8Nc-ak_JX"
      },
      "outputs": [],
      "source": [
        "df = pd.read_csv('/content/drive/MyDrive/case_airbnb/bd_airbnb.csv',  # lê e armazena o arquivo no dataframe 'df'\n",
        "                 sep=',',\n",
        "                 encoding='ISO-8859-1',\n",
        "                 dayfirst = True)"
      ]
    },
    {
      "cell_type": "markdown",
      "metadata": {
        "id": "SSVecAGoNVPo"
      },
      "source": [
        "###**Google Cloud**"
      ]
    },
    {
      "cell_type": "markdown",
      "metadata": {
        "id": "NDQUoVq7Oqvf"
      },
      "source": [
        "####Acesso atráves da chave de segurança"
      ]
    },
    {
      "cell_type": "code",
      "execution_count": null,
      "metadata": {
        "id": "0-b2vKVQunWw"
      },
      "outputs": [],
      "source": [
        "serviceAccount = '/projetoairbnb-9c055dd4d325.json'\n",
        "os.environ['GOOGLE_APPLICATION_CREDENTIALS'] = serviceAccount"
      ]
    },
    {
      "cell_type": "markdown",
      "metadata": {
        "id": "7DXy8XYZPhNU"
      },
      "source": [
        "##### Acesso ao arquivo armazenado na bucket da GCP"
      ]
    },
    {
      "cell_type": "code",
      "execution_count": null,
      "metadata": {
        "id": "Mi_INTjZNbBn"
      },
      "outputs": [],
      "source": [
        "client = storage.Client()\n",
        "bucket = client.get_bucket('bucket_case_airbnb')                 # nome da bucket\n",
        "bucket.blob('bd_airbnb.csv')                                     # nome do arquivo\n",
        "path = 'gs://bucket_case_airbnb/Dado_Bruto/bd_airbnb.csv'        # URL gsutil"
      ]
    },
    {
      "cell_type": "markdown",
      "metadata": {
        "id": "xXrmsnmjQUWU"
      },
      "source": [
        "#### Leitura, armazenamento e cópia de segurança da base de dados"
      ]
    },
    {
      "cell_type": "code",
      "execution_count": null,
      "metadata": {
        "id": "hNZiDRgyNatg"
      },
      "outputs": [],
      "source": [
        "df = pd.read_csv(path,\n",
        "                 sep=',',\n",
        "                 encoding='ISO-8859-1',\n",
        "                 dayfirst = True)\n",
        "dfback = df.copy()"
      ]
    },
    {
      "cell_type": "markdown",
      "metadata": {
        "id": "Hgfm9wfawEx7"
      },
      "source": [
        "# **Limpeza e pré-processamento**"
      ]
    },
    {
      "cell_type": "code",
      "execution_count": null,
      "metadata": {
        "id": "APtBrD3RxNlu"
      },
      "outputs": [],
      "source": [
        "df   # Visualização do DataFrame"
      ]
    },
    {
      "cell_type": "code",
      "execution_count": null,
      "metadata": {
        "id": "ZbW4uPIsxdU-"
      },
      "outputs": [],
      "source": [
        "df.head()   # Visualiza as 5 primeiras linhas"
      ]
    },
    {
      "cell_type": "code",
      "execution_count": 376,
      "metadata": {
        "id": "XgXTrb3n0U99",
        "colab": {
          "base_uri": "https://localhost:8080/",
          "height": 339
        },
        "outputId": "1634f918-9903-4453-9976-22aec9e5c51f"
      },
      "outputs": [
        {
          "output_type": "execute_result",
          "data": {
            "text/plain": [
              "               ID  preco_total tipo_acomodacao quarto_compartilhado  \\\n",
              "(6.02, 7.02]  NaN          NaN             NaN                  NaN   \n",
              "(7.02, 8.02]  NaN          NaN             NaN                  NaN   \n",
              "(8.02, 9.02]  NaN          NaN             NaN                  NaN   \n",
              "(9.02, 10.02] NaN          NaN             NaN                  NaN   \n",
              "nan           NaN          NaN             NaN                  NaN   \n",
              "\n",
              "              quarto_privado  capacidade_maxima superhost  biz  limpeza  \\\n",
              "(6.02, 7.02]             NaN                NaN       NaN  NaN      NaN   \n",
              "(7.02, 8.02]             NaN                NaN       NaN  NaN      NaN   \n",
              "(8.02, 9.02]             NaN                NaN       NaN  NaN      NaN   \n",
              "(9.02, 10.02]            NaN                NaN       NaN  NaN      NaN   \n",
              "nan                      NaN                NaN       NaN  NaN      NaN   \n",
              "\n",
              "               avaliacao_geral  qnt_quartos  distancia_centro  \\\n",
              "(6.02, 7.02]               NaN          NaN               NaN   \n",
              "(7.02, 8.02]               NaN          NaN               NaN   \n",
              "(8.02, 9.02]               NaN          NaN               NaN   \n",
              "(9.02, 10.02]              NaN          NaN               NaN   \n",
              "nan                        NaN          NaN               NaN   \n",
              "\n",
              "               distancia_metro  atracao  restaurante  longitude  latitude  \\\n",
              "(6.02, 7.02]               NaN      NaN          NaN        NaN       NaN   \n",
              "(7.02, 8.02]               NaN      NaN          NaN        NaN       NaN   \n",
              "(8.02, 9.02]               NaN      NaN          NaN        NaN       NaN   \n",
              "(9.02, 10.02]              NaN      NaN          NaN        NaN       NaN   \n",
              "nan                        NaN      NaN          NaN        NaN       NaN   \n",
              "\n",
              "              intervalo  \n",
              "(6.02, 7.02]        NaN  \n",
              "(7.02, 8.02]        NaN  \n",
              "(8.02, 9.02]        NaN  \n",
              "(9.02, 10.02]       NaN  \n",
              "nan                 NaN  "
            ],
            "text/html": [
              "\n",
              "  <div id=\"df-5a1b0bd2-9dad-4503-bdf4-5e14a240d997\">\n",
              "    <div class=\"colab-df-container\">\n",
              "      <div>\n",
              "<style scoped>\n",
              "    .dataframe tbody tr th:only-of-type {\n",
              "        vertical-align: middle;\n",
              "    }\n",
              "\n",
              "    .dataframe tbody tr th {\n",
              "        vertical-align: top;\n",
              "    }\n",
              "\n",
              "    .dataframe thead th {\n",
              "        text-align: right;\n",
              "    }\n",
              "</style>\n",
              "<table border=\"1\" class=\"dataframe\">\n",
              "  <thead>\n",
              "    <tr style=\"text-align: right;\">\n",
              "      <th></th>\n",
              "      <th>ID</th>\n",
              "      <th>preco_total</th>\n",
              "      <th>tipo_acomodacao</th>\n",
              "      <th>quarto_compartilhado</th>\n",
              "      <th>quarto_privado</th>\n",
              "      <th>capacidade_maxima</th>\n",
              "      <th>superhost</th>\n",
              "      <th>biz</th>\n",
              "      <th>limpeza</th>\n",
              "      <th>avaliacao_geral</th>\n",
              "      <th>qnt_quartos</th>\n",
              "      <th>distancia_centro</th>\n",
              "      <th>distancia_metro</th>\n",
              "      <th>atracao</th>\n",
              "      <th>restaurante</th>\n",
              "      <th>longitude</th>\n",
              "      <th>latitude</th>\n",
              "      <th>intervalo</th>\n",
              "    </tr>\n",
              "  </thead>\n",
              "  <tbody>\n",
              "    <tr>\n",
              "      <th>(6.02, 7.02]</th>\n",
              "      <td>NaN</td>\n",
              "      <td>NaN</td>\n",
              "      <td>NaN</td>\n",
              "      <td>NaN</td>\n",
              "      <td>NaN</td>\n",
              "      <td>NaN</td>\n",
              "      <td>NaN</td>\n",
              "      <td>NaN</td>\n",
              "      <td>NaN</td>\n",
              "      <td>NaN</td>\n",
              "      <td>NaN</td>\n",
              "      <td>NaN</td>\n",
              "      <td>NaN</td>\n",
              "      <td>NaN</td>\n",
              "      <td>NaN</td>\n",
              "      <td>NaN</td>\n",
              "      <td>NaN</td>\n",
              "      <td>NaN</td>\n",
              "    </tr>\n",
              "    <tr>\n",
              "      <th>(7.02, 8.02]</th>\n",
              "      <td>NaN</td>\n",
              "      <td>NaN</td>\n",
              "      <td>NaN</td>\n",
              "      <td>NaN</td>\n",
              "      <td>NaN</td>\n",
              "      <td>NaN</td>\n",
              "      <td>NaN</td>\n",
              "      <td>NaN</td>\n",
              "      <td>NaN</td>\n",
              "      <td>NaN</td>\n",
              "      <td>NaN</td>\n",
              "      <td>NaN</td>\n",
              "      <td>NaN</td>\n",
              "      <td>NaN</td>\n",
              "      <td>NaN</td>\n",
              "      <td>NaN</td>\n",
              "      <td>NaN</td>\n",
              "      <td>NaN</td>\n",
              "    </tr>\n",
              "    <tr>\n",
              "      <th>(8.02, 9.02]</th>\n",
              "      <td>NaN</td>\n",
              "      <td>NaN</td>\n",
              "      <td>NaN</td>\n",
              "      <td>NaN</td>\n",
              "      <td>NaN</td>\n",
              "      <td>NaN</td>\n",
              "      <td>NaN</td>\n",
              "      <td>NaN</td>\n",
              "      <td>NaN</td>\n",
              "      <td>NaN</td>\n",
              "      <td>NaN</td>\n",
              "      <td>NaN</td>\n",
              "      <td>NaN</td>\n",
              "      <td>NaN</td>\n",
              "      <td>NaN</td>\n",
              "      <td>NaN</td>\n",
              "      <td>NaN</td>\n",
              "      <td>NaN</td>\n",
              "    </tr>\n",
              "    <tr>\n",
              "      <th>(9.02, 10.02]</th>\n",
              "      <td>NaN</td>\n",
              "      <td>NaN</td>\n",
              "      <td>NaN</td>\n",
              "      <td>NaN</td>\n",
              "      <td>NaN</td>\n",
              "      <td>NaN</td>\n",
              "      <td>NaN</td>\n",
              "      <td>NaN</td>\n",
              "      <td>NaN</td>\n",
              "      <td>NaN</td>\n",
              "      <td>NaN</td>\n",
              "      <td>NaN</td>\n",
              "      <td>NaN</td>\n",
              "      <td>NaN</td>\n",
              "      <td>NaN</td>\n",
              "      <td>NaN</td>\n",
              "      <td>NaN</td>\n",
              "      <td>NaN</td>\n",
              "    </tr>\n",
              "    <tr>\n",
              "      <th>nan</th>\n",
              "      <td>NaN</td>\n",
              "      <td>NaN</td>\n",
              "      <td>NaN</td>\n",
              "      <td>NaN</td>\n",
              "      <td>NaN</td>\n",
              "      <td>NaN</td>\n",
              "      <td>NaN</td>\n",
              "      <td>NaN</td>\n",
              "      <td>NaN</td>\n",
              "      <td>NaN</td>\n",
              "      <td>NaN</td>\n",
              "      <td>NaN</td>\n",
              "      <td>NaN</td>\n",
              "      <td>NaN</td>\n",
              "      <td>NaN</td>\n",
              "      <td>NaN</td>\n",
              "      <td>NaN</td>\n",
              "      <td>NaN</td>\n",
              "    </tr>\n",
              "  </tbody>\n",
              "</table>\n",
              "</div>\n",
              "      <button class=\"colab-df-convert\" onclick=\"convertToInteractive('df-5a1b0bd2-9dad-4503-bdf4-5e14a240d997')\"\n",
              "              title=\"Convert this dataframe to an interactive table.\"\n",
              "              style=\"display:none;\">\n",
              "        \n",
              "  <svg xmlns=\"http://www.w3.org/2000/svg\" height=\"24px\"viewBox=\"0 0 24 24\"\n",
              "       width=\"24px\">\n",
              "    <path d=\"M0 0h24v24H0V0z\" fill=\"none\"/>\n",
              "    <path d=\"M18.56 5.44l.94 2.06.94-2.06 2.06-.94-2.06-.94-.94-2.06-.94 2.06-2.06.94zm-11 1L8.5 8.5l.94-2.06 2.06-.94-2.06-.94L8.5 2.5l-.94 2.06-2.06.94zm10 10l.94 2.06.94-2.06 2.06-.94-2.06-.94-.94-2.06-.94 2.06-2.06.94z\"/><path d=\"M17.41 7.96l-1.37-1.37c-.4-.4-.92-.59-1.43-.59-.52 0-1.04.2-1.43.59L10.3 9.45l-7.72 7.72c-.78.78-.78 2.05 0 2.83L4 21.41c.39.39.9.59 1.41.59.51 0 1.02-.2 1.41-.59l7.78-7.78 2.81-2.81c.8-.78.8-2.07 0-2.86zM5.41 20L4 18.59l7.72-7.72 1.47 1.35L5.41 20z\"/>\n",
              "  </svg>\n",
              "      </button>\n",
              "      \n",
              "  <style>\n",
              "    .colab-df-container {\n",
              "      display:flex;\n",
              "      flex-wrap:wrap;\n",
              "      gap: 12px;\n",
              "    }\n",
              "\n",
              "    .colab-df-convert {\n",
              "      background-color: #E8F0FE;\n",
              "      border: none;\n",
              "      border-radius: 50%;\n",
              "      cursor: pointer;\n",
              "      display: none;\n",
              "      fill: #1967D2;\n",
              "      height: 32px;\n",
              "      padding: 0 0 0 0;\n",
              "      width: 32px;\n",
              "    }\n",
              "\n",
              "    .colab-df-convert:hover {\n",
              "      background-color: #E2EBFA;\n",
              "      box-shadow: 0px 1px 2px rgba(60, 64, 67, 0.3), 0px 1px 3px 1px rgba(60, 64, 67, 0.15);\n",
              "      fill: #174EA6;\n",
              "    }\n",
              "\n",
              "    [theme=dark] .colab-df-convert {\n",
              "      background-color: #3B4455;\n",
              "      fill: #D2E3FC;\n",
              "    }\n",
              "\n",
              "    [theme=dark] .colab-df-convert:hover {\n",
              "      background-color: #434B5C;\n",
              "      box-shadow: 0px 1px 3px 1px rgba(0, 0, 0, 0.15);\n",
              "      filter: drop-shadow(0px 1px 2px rgba(0, 0, 0, 0.3));\n",
              "      fill: #FFFFFF;\n",
              "    }\n",
              "  </style>\n",
              "\n",
              "      <script>\n",
              "        const buttonEl =\n",
              "          document.querySelector('#df-5a1b0bd2-9dad-4503-bdf4-5e14a240d997 button.colab-df-convert');\n",
              "        buttonEl.style.display =\n",
              "          google.colab.kernel.accessAllowed ? 'block' : 'none';\n",
              "\n",
              "        async function convertToInteractive(key) {\n",
              "          const element = document.querySelector('#df-5a1b0bd2-9dad-4503-bdf4-5e14a240d997');\n",
              "          const dataTable =\n",
              "            await google.colab.kernel.invokeFunction('convertToInteractive',\n",
              "                                                     [key], {});\n",
              "          if (!dataTable) return;\n",
              "\n",
              "          const docLinkHtml = 'Like what you see? Visit the ' +\n",
              "            '<a target=\"_blank\" href=https://colab.research.google.com/notebooks/data_table.ipynb>data table notebook</a>'\n",
              "            + ' to learn more about interactive tables.';\n",
              "          element.innerHTML = '';\n",
              "          dataTable['output_type'] = 'display_data';\n",
              "          await google.colab.output.renderOutput(dataTable, element);\n",
              "          const docLink = document.createElement('div');\n",
              "          docLink.innerHTML = docLinkHtml;\n",
              "          element.appendChild(docLink);\n",
              "        }\n",
              "      </script>\n",
              "    </div>\n",
              "  </div>\n",
              "  "
            ]
          },
          "metadata": {},
          "execution_count": 376
        }
      ],
      "source": [
        "df.tail()   # Visualiza as 5 ultimas linhas"
      ]
    },
    {
      "cell_type": "code",
      "execution_count": 377,
      "metadata": {
        "id": "tW14uo7h0k89",
        "colab": {
          "base_uri": "https://localhost:8080/",
          "height": 357
        },
        "outputId": "e958c5c2-18e7-4546-cc80-a6b81dcbe42f"
      },
      "outputs": [
        {
          "output_type": "execute_result",
          "data": {
            "text/plain": [
              "        ID  preco_total tipo_acomodacao quarto_compartilhado quarto_privado  \\\n",
              "167  167.0          NaN  Quarto Privado                False           True   \n",
              "431  431.0          NaN  Quarto Privado                False           True   \n",
              "813  813.0          NaN  Quarto Privado                False           True   \n",
              "175  175.0          NaN  Quarto Privado                False           True   \n",
              "200  200.0          NaN  Quarto Privado                False           True   \n",
              "\n",
              "     capacidade_maxima superhost  biz  limpeza  avaliacao_geral  qnt_quartos  \\\n",
              "167                2.0     False  0.0     90.0             91.0          1.0   \n",
              "431                2.0     False  0.0     90.0             81.0          1.0   \n",
              "813                2.0     False  0.0     90.0             97.0          1.0   \n",
              "175                2.0     False  0.0     90.0             93.0          0.0   \n",
              "200                2.0     False  0.0    100.0             91.0          1.0   \n",
              "\n",
              "     distancia_centro  distancia_metro     atracao  restaurante  longitude  \\\n",
              "167              3.17             0.91  203.655313   232.546129    4.87500   \n",
              "431              2.90             1.61  194.502308   243.675407    4.85729   \n",
              "813              1.33             1.25  337.863674   439.795579    4.87453   \n",
              "175              0.16             0.37  625.906794  1022.004125    4.89161   \n",
              "200              0.76             0.45  369.528486   550.865834    4.89400   \n",
              "\n",
              "     latitude     intervalo  \n",
              "167  52.34700  (3.02, 4.02]  \n",
              "431  52.35914  (2.02, 3.02]  \n",
              "813  52.36959  (1.02, 2.02]  \n",
              "175  52.37436  (0.02, 1.02]  \n",
              "200  52.38000  (0.02, 1.02]  "
            ],
            "text/html": [
              "\n",
              "  <div id=\"df-27c2ac90-b2b6-42a4-b2a8-b9d9ac200b4e\">\n",
              "    <div class=\"colab-df-container\">\n",
              "      <div>\n",
              "<style scoped>\n",
              "    .dataframe tbody tr th:only-of-type {\n",
              "        vertical-align: middle;\n",
              "    }\n",
              "\n",
              "    .dataframe tbody tr th {\n",
              "        vertical-align: top;\n",
              "    }\n",
              "\n",
              "    .dataframe thead th {\n",
              "        text-align: right;\n",
              "    }\n",
              "</style>\n",
              "<table border=\"1\" class=\"dataframe\">\n",
              "  <thead>\n",
              "    <tr style=\"text-align: right;\">\n",
              "      <th></th>\n",
              "      <th>ID</th>\n",
              "      <th>preco_total</th>\n",
              "      <th>tipo_acomodacao</th>\n",
              "      <th>quarto_compartilhado</th>\n",
              "      <th>quarto_privado</th>\n",
              "      <th>capacidade_maxima</th>\n",
              "      <th>superhost</th>\n",
              "      <th>biz</th>\n",
              "      <th>limpeza</th>\n",
              "      <th>avaliacao_geral</th>\n",
              "      <th>qnt_quartos</th>\n",
              "      <th>distancia_centro</th>\n",
              "      <th>distancia_metro</th>\n",
              "      <th>atracao</th>\n",
              "      <th>restaurante</th>\n",
              "      <th>longitude</th>\n",
              "      <th>latitude</th>\n",
              "      <th>intervalo</th>\n",
              "    </tr>\n",
              "  </thead>\n",
              "  <tbody>\n",
              "    <tr>\n",
              "      <th>167</th>\n",
              "      <td>167.0</td>\n",
              "      <td>NaN</td>\n",
              "      <td>Quarto Privado</td>\n",
              "      <td>False</td>\n",
              "      <td>True</td>\n",
              "      <td>2.0</td>\n",
              "      <td>False</td>\n",
              "      <td>0.0</td>\n",
              "      <td>90.0</td>\n",
              "      <td>91.0</td>\n",
              "      <td>1.0</td>\n",
              "      <td>3.17</td>\n",
              "      <td>0.91</td>\n",
              "      <td>203.655313</td>\n",
              "      <td>232.546129</td>\n",
              "      <td>4.87500</td>\n",
              "      <td>52.34700</td>\n",
              "      <td>(3.02, 4.02]</td>\n",
              "    </tr>\n",
              "    <tr>\n",
              "      <th>431</th>\n",
              "      <td>431.0</td>\n",
              "      <td>NaN</td>\n",
              "      <td>Quarto Privado</td>\n",
              "      <td>False</td>\n",
              "      <td>True</td>\n",
              "      <td>2.0</td>\n",
              "      <td>False</td>\n",
              "      <td>0.0</td>\n",
              "      <td>90.0</td>\n",
              "      <td>81.0</td>\n",
              "      <td>1.0</td>\n",
              "      <td>2.90</td>\n",
              "      <td>1.61</td>\n",
              "      <td>194.502308</td>\n",
              "      <td>243.675407</td>\n",
              "      <td>4.85729</td>\n",
              "      <td>52.35914</td>\n",
              "      <td>(2.02, 3.02]</td>\n",
              "    </tr>\n",
              "    <tr>\n",
              "      <th>813</th>\n",
              "      <td>813.0</td>\n",
              "      <td>NaN</td>\n",
              "      <td>Quarto Privado</td>\n",
              "      <td>False</td>\n",
              "      <td>True</td>\n",
              "      <td>2.0</td>\n",
              "      <td>False</td>\n",
              "      <td>0.0</td>\n",
              "      <td>90.0</td>\n",
              "      <td>97.0</td>\n",
              "      <td>1.0</td>\n",
              "      <td>1.33</td>\n",
              "      <td>1.25</td>\n",
              "      <td>337.863674</td>\n",
              "      <td>439.795579</td>\n",
              "      <td>4.87453</td>\n",
              "      <td>52.36959</td>\n",
              "      <td>(1.02, 2.02]</td>\n",
              "    </tr>\n",
              "    <tr>\n",
              "      <th>175</th>\n",
              "      <td>175.0</td>\n",
              "      <td>NaN</td>\n",
              "      <td>Quarto Privado</td>\n",
              "      <td>False</td>\n",
              "      <td>True</td>\n",
              "      <td>2.0</td>\n",
              "      <td>False</td>\n",
              "      <td>0.0</td>\n",
              "      <td>90.0</td>\n",
              "      <td>93.0</td>\n",
              "      <td>0.0</td>\n",
              "      <td>0.16</td>\n",
              "      <td>0.37</td>\n",
              "      <td>625.906794</td>\n",
              "      <td>1022.004125</td>\n",
              "      <td>4.89161</td>\n",
              "      <td>52.37436</td>\n",
              "      <td>(0.02, 1.02]</td>\n",
              "    </tr>\n",
              "    <tr>\n",
              "      <th>200</th>\n",
              "      <td>200.0</td>\n",
              "      <td>NaN</td>\n",
              "      <td>Quarto Privado</td>\n",
              "      <td>False</td>\n",
              "      <td>True</td>\n",
              "      <td>2.0</td>\n",
              "      <td>False</td>\n",
              "      <td>0.0</td>\n",
              "      <td>100.0</td>\n",
              "      <td>91.0</td>\n",
              "      <td>1.0</td>\n",
              "      <td>0.76</td>\n",
              "      <td>0.45</td>\n",
              "      <td>369.528486</td>\n",
              "      <td>550.865834</td>\n",
              "      <td>4.89400</td>\n",
              "      <td>52.38000</td>\n",
              "      <td>(0.02, 1.02]</td>\n",
              "    </tr>\n",
              "  </tbody>\n",
              "</table>\n",
              "</div>\n",
              "      <button class=\"colab-df-convert\" onclick=\"convertToInteractive('df-27c2ac90-b2b6-42a4-b2a8-b9d9ac200b4e')\"\n",
              "              title=\"Convert this dataframe to an interactive table.\"\n",
              "              style=\"display:none;\">\n",
              "        \n",
              "  <svg xmlns=\"http://www.w3.org/2000/svg\" height=\"24px\"viewBox=\"0 0 24 24\"\n",
              "       width=\"24px\">\n",
              "    <path d=\"M0 0h24v24H0V0z\" fill=\"none\"/>\n",
              "    <path d=\"M18.56 5.44l.94 2.06.94-2.06 2.06-.94-2.06-.94-.94-2.06-.94 2.06-2.06.94zm-11 1L8.5 8.5l.94-2.06 2.06-.94-2.06-.94L8.5 2.5l-.94 2.06-2.06.94zm10 10l.94 2.06.94-2.06 2.06-.94-2.06-.94-.94-2.06-.94 2.06-2.06.94z\"/><path d=\"M17.41 7.96l-1.37-1.37c-.4-.4-.92-.59-1.43-.59-.52 0-1.04.2-1.43.59L10.3 9.45l-7.72 7.72c-.78.78-.78 2.05 0 2.83L4 21.41c.39.39.9.59 1.41.59.51 0 1.02-.2 1.41-.59l7.78-7.78 2.81-2.81c.8-.78.8-2.07 0-2.86zM5.41 20L4 18.59l7.72-7.72 1.47 1.35L5.41 20z\"/>\n",
              "  </svg>\n",
              "      </button>\n",
              "      \n",
              "  <style>\n",
              "    .colab-df-container {\n",
              "      display:flex;\n",
              "      flex-wrap:wrap;\n",
              "      gap: 12px;\n",
              "    }\n",
              "\n",
              "    .colab-df-convert {\n",
              "      background-color: #E8F0FE;\n",
              "      border: none;\n",
              "      border-radius: 50%;\n",
              "      cursor: pointer;\n",
              "      display: none;\n",
              "      fill: #1967D2;\n",
              "      height: 32px;\n",
              "      padding: 0 0 0 0;\n",
              "      width: 32px;\n",
              "    }\n",
              "\n",
              "    .colab-df-convert:hover {\n",
              "      background-color: #E2EBFA;\n",
              "      box-shadow: 0px 1px 2px rgba(60, 64, 67, 0.3), 0px 1px 3px 1px rgba(60, 64, 67, 0.15);\n",
              "      fill: #174EA6;\n",
              "    }\n",
              "\n",
              "    [theme=dark] .colab-df-convert {\n",
              "      background-color: #3B4455;\n",
              "      fill: #D2E3FC;\n",
              "    }\n",
              "\n",
              "    [theme=dark] .colab-df-convert:hover {\n",
              "      background-color: #434B5C;\n",
              "      box-shadow: 0px 1px 3px 1px rgba(0, 0, 0, 0.15);\n",
              "      filter: drop-shadow(0px 1px 2px rgba(0, 0, 0, 0.3));\n",
              "      fill: #FFFFFF;\n",
              "    }\n",
              "  </style>\n",
              "\n",
              "      <script>\n",
              "        const buttonEl =\n",
              "          document.querySelector('#df-27c2ac90-b2b6-42a4-b2a8-b9d9ac200b4e button.colab-df-convert');\n",
              "        buttonEl.style.display =\n",
              "          google.colab.kernel.accessAllowed ? 'block' : 'none';\n",
              "\n",
              "        async function convertToInteractive(key) {\n",
              "          const element = document.querySelector('#df-27c2ac90-b2b6-42a4-b2a8-b9d9ac200b4e');\n",
              "          const dataTable =\n",
              "            await google.colab.kernel.invokeFunction('convertToInteractive',\n",
              "                                                     [key], {});\n",
              "          if (!dataTable) return;\n",
              "\n",
              "          const docLinkHtml = 'Like what you see? Visit the ' +\n",
              "            '<a target=\"_blank\" href=https://colab.research.google.com/notebooks/data_table.ipynb>data table notebook</a>'\n",
              "            + ' to learn more about interactive tables.';\n",
              "          element.innerHTML = '';\n",
              "          dataTable['output_type'] = 'display_data';\n",
              "          await google.colab.output.renderOutput(dataTable, element);\n",
              "          const docLink = document.createElement('div');\n",
              "          docLink.innerHTML = docLinkHtml;\n",
              "          element.appendChild(docLink);\n",
              "        }\n",
              "      </script>\n",
              "    </div>\n",
              "  </div>\n",
              "  "
            ]
          },
          "metadata": {},
          "execution_count": 377
        }
      ],
      "source": [
        "df.sample(5)   # Visualiza uma amostra aleatória de 5 linhas"
      ]
    },
    {
      "cell_type": "code",
      "execution_count": 378,
      "metadata": {
        "colab": {
          "base_uri": "https://localhost:8080/"
        },
        "id": "w9LwL7Ks1eXs",
        "outputId": "6b03d3f9-499a-4581-ae76-d3fd0dc4dd0d"
      },
      "outputs": [
        {
          "output_type": "execute_result",
          "data": {
            "text/plain": [
              "(1126, 18)"
            ]
          },
          "metadata": {},
          "execution_count": 378
        }
      ],
      "source": [
        "df.shape   # Tamanho do Dataframe (linhas, colunas)"
      ]
    },
    {
      "cell_type": "code",
      "execution_count": 379,
      "metadata": {
        "id": "brO1Mgab1l9X",
        "colab": {
          "base_uri": "https://localhost:8080/"
        },
        "outputId": "780514f6-9b0c-4fe6-a3f9-0e192a9504ca"
      },
      "outputs": [
        {
          "output_type": "execute_result",
          "data": {
            "text/plain": [
              "ID                       float64\n",
              "preco_total              float64\n",
              "tipo_acomodacao           object\n",
              "quarto_compartilhado      object\n",
              "quarto_privado            object\n",
              "capacidade_maxima        float64\n",
              "superhost                 object\n",
              "biz                      float64\n",
              "limpeza                  float64\n",
              "avaliacao_geral          float64\n",
              "qnt_quartos              float64\n",
              "distancia_centro         float64\n",
              "distancia_metro          float64\n",
              "atracao                  float64\n",
              "restaurante              float64\n",
              "longitude                float64\n",
              "latitude                 float64\n",
              "intervalo               category\n",
              "dtype: object"
            ]
          },
          "metadata": {},
          "execution_count": 379
        }
      ],
      "source": [
        "df.dtypes   # Verifica o tipo de dado em cada coluna"
      ]
    },
    {
      "cell_type": "code",
      "execution_count": 380,
      "metadata": {
        "id": "NBSt8r5L1zto",
        "colab": {
          "base_uri": "https://localhost:8080/"
        },
        "outputId": "3e76ccb3-f86e-4027-fbb5-fe5b6a6ef6e9"
      },
      "outputs": [
        {
          "output_type": "execute_result",
          "data": {
            "text/plain": [
              "ID                      1103\n",
              "preco_total                8\n",
              "tipo_acomodacao         1103\n",
              "quarto_compartilhado    1103\n",
              "quarto_privado          1103\n",
              "capacidade_maxima       1103\n",
              "superhost               1103\n",
              "biz                     1103\n",
              "limpeza                 1103\n",
              "avaliacao_geral         1103\n",
              "qnt_quartos             1103\n",
              "distancia_centro        1103\n",
              "distancia_metro         1103\n",
              "atracao                 1103\n",
              "restaurante             1103\n",
              "longitude               1103\n",
              "latitude                1103\n",
              "intervalo               1099\n",
              "dtype: int64"
            ]
          },
          "metadata": {},
          "execution_count": 380
        }
      ],
      "source": [
        "df.count()  # contabiliza a quantidade de valores em cada coluna, excluindo qualquer valor nulo ou ausente"
      ]
    },
    {
      "cell_type": "code",
      "execution_count": 381,
      "metadata": {
        "id": "l83nRNbE2pVM",
        "colab": {
          "base_uri": "https://localhost:8080/"
        },
        "outputId": "23805a3f-8132-4fc8-9dac-e6298a18e766"
      },
      "outputs": [
        {
          "output_type": "stream",
          "name": "stdout",
          "text": [
            "<class 'pandas.core.frame.DataFrame'>\n",
            "Index: 1126 entries, 0 to nan\n",
            "Data columns (total 18 columns):\n",
            " #   Column                Non-Null Count  Dtype   \n",
            "---  ------                --------------  -----   \n",
            " 0   ID                    1103 non-null   float64 \n",
            " 1   preco_total           8 non-null      float64 \n",
            " 2   tipo_acomodacao       1103 non-null   object  \n",
            " 3   quarto_compartilhado  1103 non-null   object  \n",
            " 4   quarto_privado        1103 non-null   object  \n",
            " 5   capacidade_maxima     1103 non-null   float64 \n",
            " 6   superhost             1103 non-null   object  \n",
            " 7   biz                   1103 non-null   float64 \n",
            " 8   limpeza               1103 non-null   float64 \n",
            " 9   avaliacao_geral       1103 non-null   float64 \n",
            " 10  qnt_quartos           1103 non-null   float64 \n",
            " 11  distancia_centro      1103 non-null   float64 \n",
            " 12  distancia_metro       1103 non-null   float64 \n",
            " 13  atracao               1103 non-null   float64 \n",
            " 14  restaurante           1103 non-null   float64 \n",
            " 15  longitude             1103 non-null   float64 \n",
            " 16  latitude              1103 non-null   float64 \n",
            " 17  intervalo             1099 non-null   category\n",
            "dtypes: category(1), float64(13), object(4)\n",
            "memory usage: 192.2+ KB\n"
          ]
        }
      ],
      "source": [
        "df.info()   # visão geral (nome da coluna, quantidade de valores não nulos em cada coluna, tipo de dado e uso de memória."
      ]
    },
    {
      "cell_type": "code",
      "execution_count": 382,
      "metadata": {
        "id": "EPKr65CJ3eBs"
      },
      "outputs": [],
      "source": [
        "dfback1 = df.copy()   # Backup local"
      ]
    },
    {
      "cell_type": "markdown",
      "metadata": {
        "id": "eA-f-xFNdseI"
      },
      "source": [
        "* Tradução/Renomeação"
      ]
    },
    {
      "cell_type": "code",
      "execution_count": 383,
      "metadata": {
        "id": "nco9s1n0YAef",
        "colab": {
          "base_uri": "https://localhost:8080/"
        },
        "outputId": "31481b6a-7b09-4b02-d2f8-98d41d6ab3ee"
      },
      "outputs": [
        {
          "output_type": "stream",
          "name": "stdout",
          "text": [
            "Index(['ID', 'preco_total', 'tipo_acomodacao', 'quarto_compartilhado',\n",
            "       'quarto_privado', 'capacidade_maxima', 'superhost', 'biz', 'limpeza',\n",
            "       'avaliacao_geral', 'qnt_quartos', 'distancia_centro', 'distancia_metro',\n",
            "       'atracao', 'restaurante', 'longitude', 'latitude', 'intervalo'],\n",
            "      dtype='object')\n"
          ]
        }
      ],
      "source": [
        "print(df.columns)"
      ]
    },
    {
      "cell_type": "code",
      "execution_count": 384,
      "metadata": {
        "id": "Or-6ukB-YOhq"
      },
      "outputs": [],
      "source": [
        "df.rename(columns={'Unnamed: 0': 'ID',\n",
        "                   'realSum':'preco_total',\n",
        "                   'room_type':'tipo_acomodacao',\n",
        "                   'room_shared':'quarto_compartilhado',\n",
        "                   'room_private':'quarto_privado',\n",
        "                   'person_capacity':'capacidade_maxima',\n",
        "                   'host_is_superhost':'superhost',\n",
        "                   'cleanliness_rating':'limpeza',\n",
        "                   'guest_satisfaction_overall':'avaliacao_geral',\n",
        "                   'bedrooms':'qnt_quartos',\n",
        "                   'dist':'distancia_centro',\n",
        "                   'metro_dist':'distancia_metro',\n",
        "                   'attr_index':'atracao',\n",
        "                   'attr_index_norm':'atracao_normalizado',\n",
        "                   'rest_index':'restaurante',\n",
        "                   'rest_index_norm':'restaurante_normalizado',\n",
        "                   'lng':'longitude',\n",
        "                   'lat':'latitude'}, inplace=True)"
      ]
    },
    {
      "cell_type": "code",
      "execution_count": 385,
      "metadata": {
        "id": "ankDHin1dRWy",
        "colab": {
          "base_uri": "https://localhost:8080/"
        },
        "outputId": "528f8eee-e65a-4664-d351-0b8791aab1a6"
      },
      "outputs": [
        {
          "output_type": "stream",
          "name": "stdout",
          "text": [
            "Index(['ID', 'preco_total', 'tipo_acomodacao', 'quarto_compartilhado',\n",
            "       'quarto_privado', 'capacidade_maxima', 'superhost', 'biz', 'limpeza',\n",
            "       'avaliacao_geral', 'qnt_quartos', 'distancia_centro', 'distancia_metro',\n",
            "       'atracao', 'restaurante', 'longitude', 'latitude', 'intervalo'],\n",
            "      dtype='object')\n"
          ]
        }
      ],
      "source": [
        "print(df.columns)"
      ]
    },
    {
      "cell_type": "markdown",
      "metadata": {
        "id": "2imki2eEfqGL"
      },
      "source": [
        "* Verifica se existe colunas iguais:"
      ]
    },
    {
      "cell_type": "code",
      "execution_count": 386,
      "metadata": {
        "id": "CtzTeY5xOVFq",
        "colab": {
          "base_uri": "https://localhost:8080/"
        },
        "outputId": "083678d6-2e58-4d3d-c8e4-b8f008f7b910"
      },
      "outputs": [
        {
          "output_type": "stream",
          "name": "stdout",
          "text": [
            "A coluna preco_total é diferente da coluna 'ID'.\n",
            "A coluna tipo_acomodacao é diferente da coluna 'ID'.\n",
            "A coluna quarto_compartilhado é diferente da coluna 'ID'.\n",
            "A coluna quarto_privado é diferente da coluna 'ID'.\n",
            "A coluna capacidade_maxima é diferente da coluna 'ID'.\n",
            "A coluna superhost é diferente da coluna 'ID'.\n",
            "A coluna biz é diferente da coluna 'ID'.\n",
            "A coluna limpeza é diferente da coluna 'ID'.\n",
            "A coluna avaliacao_geral é diferente da coluna 'ID'.\n",
            "A coluna qnt_quartos é diferente da coluna 'ID'.\n",
            "A coluna distancia_centro é diferente da coluna 'ID'.\n",
            "A coluna distancia_metro é diferente da coluna 'ID'.\n",
            "A coluna atracao é diferente da coluna 'ID'.\n",
            "A coluna restaurante é diferente da coluna 'ID'.\n",
            "A coluna longitude é diferente da coluna 'ID'.\n",
            "A coluna latitude é diferente da coluna 'ID'.\n"
          ]
        }
      ],
      "source": [
        "colunas_verificar = ['preco_total', 'tipo_acomodacao', 'quarto_compartilhado',\n",
        "       'quarto_privado', 'capacidade_maxima', 'superhost', 'biz',\n",
        "       'limpeza', 'avaliacao_geral', 'qnt_quartos', 'distancia_centro',\n",
        "       'distancia_metro', 'atracao', 'restaurante',\n",
        "       'longitude', 'latitude']\n",
        "\n",
        "\n",
        "for coluna in colunas_verificar:   # Verifica se existe alguma coluna iguai à coluna 'ID'\n",
        "    if (df['ID']== df[coluna]).all():\n",
        "        print(f\"A coluna {coluna} é igual à coluna 'ID'.\")\n",
        "    else:\n",
        "        print(f\"A coluna {coluna} é diferente da coluna 'ID'.\")"
      ]
    },
    {
      "cell_type": "markdown",
      "metadata": {
        "id": "t9KQAfcZgRTp"
      },
      "source": [
        "* verifica se existem colunas com valores únicos:"
      ]
    },
    {
      "cell_type": "code",
      "execution_count": 387,
      "metadata": {
        "id": "ZBt7RXadPIra",
        "colab": {
          "base_uri": "https://localhost:8080/"
        },
        "outputId": "6d7ac094-f954-4aaa-d156-aca6beae3fd2"
      },
      "outputs": [
        {
          "output_type": "stream",
          "name": "stdout",
          "text": [
            "A coluna ID não possui valores únicos.\n",
            "A coluna preco_total não possui valores únicos.\n",
            "A coluna tipo_acomodacao não possui valores únicos.\n",
            "A coluna quarto_compartilhado não possui valores únicos.\n",
            "A coluna quarto_privado não possui valores únicos.\n",
            "A coluna capacidade_maxima não possui valores únicos.\n",
            "A coluna superhost não possui valores únicos.\n",
            "A coluna biz não possui valores únicos.\n",
            "A coluna limpeza não possui valores únicos.\n",
            "A coluna avaliacao_geral não possui valores únicos.\n",
            "A coluna qnt_quartos não possui valores únicos.\n",
            "A coluna distancia_centro não possui valores únicos.\n",
            "A coluna distancia_metro não possui valores únicos.\n",
            "A coluna atracao não possui valores únicos.\n",
            "A coluna restaurante não possui valores únicos.\n",
            "A coluna longitude não possui valores únicos.\n",
            "A coluna latitude não possui valores únicos.\n",
            "A coluna intervalo não possui valores únicos.\n"
          ]
        }
      ],
      "source": [
        "for coluna in df.columns:\n",
        "    if df[coluna].nunique() == df.shape[0]:\n",
        "        print(f\"A coluna {coluna} possui valores únicos.\")\n",
        "    else:\n",
        "        print(f\"A coluna {coluna} não possui valores únicos.\")"
      ]
    },
    {
      "cell_type": "markdown",
      "metadata": {
        "id": "yODp7Mg5r1wH"
      },
      "source": [
        "* Ordenação e exibição de valores unicos:"
      ]
    },
    {
      "cell_type": "code",
      "execution_count": 388,
      "metadata": {
        "id": "T8GYLQO2rk-5",
        "colab": {
          "base_uri": "https://localhost:8080/"
        },
        "outputId": "27890872-8d30-4b79-b919-c683c21bf3ad"
      },
      "outputs": [
        {
          "output_type": "stream",
          "name": "stdout",
          "text": [
            "100.0\n",
            "150.0\n",
            "180.0\n",
            "190.0\n",
            "200.0\n",
            "220.0\n",
            "250.0\n",
            "300.0\n",
            "nan\n"
          ]
        }
      ],
      "source": [
        "valores_unicos = sorted(pd.unique(df['preco_total']))\n",
        "saida = '\\n'.join(map(str, valores_unicos))\n",
        "print(saida)"
      ]
    },
    {
      "cell_type": "code",
      "execution_count": 389,
      "metadata": {
        "id": "2oOzzRoXeJDn",
        "colab": {
          "base_uri": "https://localhost:8080/"
        },
        "outputId": "f5cedfa3-0930-413b-a70d-8624a293ad20"
      },
      "outputs": [
        {
          "output_type": "stream",
          "name": "stdout",
          "text": [
            "[100.0, 150.0, 180.0, 190.0, 200.0, 220.0, 250.0, 300.0, nan]\n"
          ]
        }
      ],
      "source": [
        "print(sorted(pd.unique(df['preco_total'])))"
      ]
    },
    {
      "cell_type": "markdown",
      "source": [
        "* Limitar os valores da coluna a duas casas decimais:"
      ],
      "metadata": {
        "id": "BGG2Q403Q3Py"
      }
    },
    {
      "cell_type": "code",
      "source": [
        "df['distancia_centro'] = df['distancia_centro'].apply(lambda x: round(x, 2))\n",
        "df['distancia_metro'] = df['distancia_metro'].apply(lambda x: round(x, 2))"
      ],
      "metadata": {
        "id": "FZdUrbJGQ1p6"
      },
      "execution_count": 390,
      "outputs": []
    },
    {
      "cell_type": "markdown",
      "metadata": {
        "id": "EnHSE7EnlYzM"
      },
      "source": [
        "* Verificar dados Nulos, ausentes, etc"
      ]
    },
    {
      "cell_type": "code",
      "source": [
        "df"
      ],
      "metadata": {
        "id": "r6q10uA7CcUV"
      },
      "execution_count": null,
      "outputs": []
    },
    {
      "cell_type": "code",
      "execution_count": null,
      "metadata": {
        "id": "imKX5lscQdw3"
      },
      "outputs": [],
      "source": [
        "df.isna().sum()"
      ]
    },
    {
      "cell_type": "markdown",
      "metadata": {
        "id": "Yx6Uxn86wRT6"
      },
      "source": [
        "* Remove linhas com valores ausentes (NaN)"
      ]
    },
    {
      "cell_type": "code",
      "execution_count": null,
      "metadata": {
        "id": "jjohYcSc5KT4"
      },
      "outputs": [],
      "source": [
        "df = df.dropna()\n",
        "df.info()"
      ]
    },
    {
      "cell_type": "markdown",
      "metadata": {
        "id": "ZKUbm5F2l04z"
      },
      "source": [
        "* Calcula e exibe a porcentagem de valores nulos em cada coluna:"
      ]
    },
    {
      "cell_type": "code",
      "execution_count": null,
      "metadata": {
        "id": "tMLuRxglSsnm"
      },
      "outputs": [],
      "source": [
        "porcentagem_nulos = (df.isnull().sum() / len(df)) * 100\n",
        "print(round(porcentagem_nulos,1))"
      ]
    },
    {
      "cell_type": "markdown",
      "metadata": {
        "id": "Tz3KLQELppnC"
      },
      "source": [
        "* Retirada de colunas com problemas e/ou não utilizadas na análise:"
      ]
    },
    {
      "cell_type": "code",
      "execution_count": null,
      "metadata": {
        "id": "AOwAYW0bavMQ"
      },
      "outputs": [],
      "source": [
        "df.drop(['restaurante_normalizado'],axis=1,inplace=True)"
      ]
    },
    {
      "cell_type": "markdown",
      "metadata": {
        "id": "NJtNcUKswBaZ"
      },
      "source": [
        "* Correção de inconsistência:"
      ]
    },
    {
      "cell_type": "code",
      "execution_count": null,
      "metadata": {
        "id": "3uueeRZLuFiW"
      },
      "outputs": [],
      "source": [
        "df.replace(pd.NA, np.NaN, inplace=True)   # Transformação de pd.NA para np.NaN (recomendado)"
      ]
    },
    {
      "cell_type": "markdown",
      "metadata": {
        "id": "KtImYPe8xxs_"
      },
      "source": [
        "* Transformação do tipo de dado:"
      ]
    },
    {
      "cell_type": "code",
      "execution_count": 404,
      "metadata": {
        "id": "ejE9Ivgh721G"
      },
      "outputs": [],
      "source": [
        "df['preco_total'] = df['preco_total'].astype(int)\n",
        "df['capacidade_maxima'] = df['capacidade_maxima'].astype(int)"
      ]
    },
    {
      "cell_type": "code",
      "execution_count": 394,
      "metadata": {
        "id": "pcNq6i_I93NT"
      },
      "outputs": [],
      "source": [
        "df['tipo_acomodacao'] = df['tipo_acomodacao'].astype(str)   # Converter a coluna para o tipo de dado 'string'"
      ]
    },
    {
      "cell_type": "markdown",
      "metadata": {
        "id": "S4vtRlvpoQaw"
      },
      "source": [
        "* Exibe valores unicos ordenados de todas colunas do Dataframe:"
      ]
    },
    {
      "cell_type": "code",
      "execution_count": null,
      "metadata": {
        "id": "yWlmsQE4YSaL"
      },
      "outputs": [],
      "source": [
        "for coluna in df.columns:\n",
        "    valores_unicos = sorted(df[coluna].unique())\n",
        "    print(f\"\\n\\n Valores únicos da coluna {coluna}: \\n{valores_unicos}\\n\\n\")\n",
        "    print('______________________________________________________________________________________________________________')"
      ]
    },
    {
      "cell_type": "markdown",
      "source": [
        "* substituir valores na coluna 'tipo_acomodacao'"
      ],
      "metadata": {
        "id": "uf8nim_R3Krn"
      }
    },
    {
      "cell_type": "code",
      "source": [
        "df['tipo_acomodacao'] = df['tipo_acomodacao'].replace(['Private room', 'Entire home/apt','Shared room'], ['Quarto Privado', 'Espaço inteiro', 'Quarto compartilhado'])\n",
        "df"
      ],
      "metadata": {
        "id": "Txpo2nTN1yto"
      },
      "execution_count": null,
      "outputs": []
    },
    {
      "cell_type": "code",
      "execution_count": null,
      "metadata": {
        "id": "SjEjRfYOA7j2"
      },
      "outputs": [],
      "source": [
        "df.dtypes   # Colunas do dataframe"
      ]
    },
    {
      "cell_type": "markdown",
      "source": [
        "## **Backup do Dataframe tratado**"
      ],
      "metadata": {
        "id": "6iq9JasPlwIg"
      }
    },
    {
      "cell_type": "code",
      "execution_count": 406,
      "metadata": {
        "id": "GkJC0IWKHczl"
      },
      "outputs": [],
      "source": [
        "dfback2 = df.copy()"
      ]
    },
    {
      "cell_type": "markdown",
      "source": [
        "* Exportação em uma pasta Google Drive:"
      ],
      "metadata": {
        "id": "6TdrAXuj7zX6"
      }
    },
    {
      "cell_type": "code",
      "execution_count": 407,
      "metadata": {
        "id": "-RLEQ9aGKdQd"
      },
      "outputs": [],
      "source": [
        "df.to_csv('/content/drive/MyDrive/case_airbnb/bd_airbnb_tratado.csv',index=False)"
      ]
    },
    {
      "cell_type": "markdown",
      "source": [
        "* Exportação em uma pasta Google Cloud"
      ],
      "metadata": {
        "id": "cKbvUxhJ-KrG"
      }
    },
    {
      "cell_type": "code",
      "execution_count": 408,
      "metadata": {
        "id": "bOrxYG5fNIHh",
        "colab": {
          "base_uri": "https://localhost:8080/",
          "height": 0
        },
        "outputId": "f516903f-020d-4266-a4c8-90946dd8ad14"
      },
      "outputs": [
        {
          "output_type": "execute_result",
          "data": {
            "text/plain": [
              "\"df.to_csv('gs://bucket_case_airbnb/Dado_Tratado/bd_airbnb_tratado.csv', index=False)\""
            ],
            "application/vnd.google.colaboratory.intrinsic+json": {
              "type": "string"
            }
          },
          "metadata": {},
          "execution_count": 408
        }
      ],
      "source": [
        "'''df.to_csv('gs://bucket_case_airbnb/Dado_Tratado/bd_airbnb_tratado.csv', index=False)'''"
      ]
    },
    {
      "cell_type": "markdown",
      "metadata": {
        "id": "BEGtzIZqNxRJ"
      },
      "source": [
        "# **Análise Exploratória**"
      ]
    },
    {
      "cell_type": "markdown",
      "source": [
        "* Visualização do novo Dataframe:\n",
        "\n"
      ],
      "metadata": {
        "id": "4YvWAyGB_J4-"
      }
    },
    {
      "cell_type": "code",
      "execution_count": 409,
      "metadata": {
        "id": "m3JFU0YCN0zb",
        "colab": {
          "base_uri": "https://localhost:8080/",
          "height": 357
        },
        "outputId": "d3bfe63d-8106-4dd9-fa8a-4a84f3690c62"
      },
      "outputs": [
        {
          "output_type": "execute_result",
          "data": {
            "text/plain": [
              "    ID  preco_total tipo_acomodacao quarto_compartilhado quarto_privado  \\\n",
              "0  0.0          100  Quarto Privado                False           True   \n",
              "1  1.0          200  Quarto Privado                False           True   \n",
              "2  2.0          150  Quarto Privado                False           True   \n",
              "3  3.0          300  Quarto Privado                False           True   \n",
              "4  4.0          250  Quarto Privado                False           True   \n",
              "\n",
              "   capacidade_maxima superhost  biz  limpeza  avaliacao_geral  qnt_quartos  \\\n",
              "0                  2     False  0.0    100.0             93.0          1.0   \n",
              "1                  4     False  0.0     80.0             85.0          1.0   \n",
              "2                  2     False  1.0     90.0             87.0          1.0   \n",
              "3                  4     False  1.0     90.0             90.0          2.0   \n",
              "4                  2      True  0.0    100.0             98.0          1.0   \n",
              "\n",
              "   distancia_centro  distancia_metro     atracao  restaurante  longitude  \\\n",
              "0              5.02             2.54   78.690379    98.253896    4.90569   \n",
              "1              0.49             0.24  631.176378   837.280757    4.90005   \n",
              "2              5.75             3.65   75.275877    95.386955    4.97512   \n",
              "3              0.38             0.44  493.272534   875.033098    4.89417   \n",
              "4              0.54             0.32  552.830324   815.305740    4.90051   \n",
              "\n",
              "   latitude     intervalo  \n",
              "0  52.41772  (4.02, 5.02]  \n",
              "1  52.37432  (0.02, 1.02]  \n",
              "2  52.36103  (5.02, 6.02]  \n",
              "3  52.37663  (0.02, 1.02]  \n",
              "4  52.37508  (0.02, 1.02]  "
            ],
            "text/html": [
              "\n",
              "  <div id=\"df-c0577a72-3e8f-4abf-bdd6-ec3884daaca0\">\n",
              "    <div class=\"colab-df-container\">\n",
              "      <div>\n",
              "<style scoped>\n",
              "    .dataframe tbody tr th:only-of-type {\n",
              "        vertical-align: middle;\n",
              "    }\n",
              "\n",
              "    .dataframe tbody tr th {\n",
              "        vertical-align: top;\n",
              "    }\n",
              "\n",
              "    .dataframe thead th {\n",
              "        text-align: right;\n",
              "    }\n",
              "</style>\n",
              "<table border=\"1\" class=\"dataframe\">\n",
              "  <thead>\n",
              "    <tr style=\"text-align: right;\">\n",
              "      <th></th>\n",
              "      <th>ID</th>\n",
              "      <th>preco_total</th>\n",
              "      <th>tipo_acomodacao</th>\n",
              "      <th>quarto_compartilhado</th>\n",
              "      <th>quarto_privado</th>\n",
              "      <th>capacidade_maxima</th>\n",
              "      <th>superhost</th>\n",
              "      <th>biz</th>\n",
              "      <th>limpeza</th>\n",
              "      <th>avaliacao_geral</th>\n",
              "      <th>qnt_quartos</th>\n",
              "      <th>distancia_centro</th>\n",
              "      <th>distancia_metro</th>\n",
              "      <th>atracao</th>\n",
              "      <th>restaurante</th>\n",
              "      <th>longitude</th>\n",
              "      <th>latitude</th>\n",
              "      <th>intervalo</th>\n",
              "    </tr>\n",
              "  </thead>\n",
              "  <tbody>\n",
              "    <tr>\n",
              "      <th>0</th>\n",
              "      <td>0.0</td>\n",
              "      <td>100</td>\n",
              "      <td>Quarto Privado</td>\n",
              "      <td>False</td>\n",
              "      <td>True</td>\n",
              "      <td>2</td>\n",
              "      <td>False</td>\n",
              "      <td>0.0</td>\n",
              "      <td>100.0</td>\n",
              "      <td>93.0</td>\n",
              "      <td>1.0</td>\n",
              "      <td>5.02</td>\n",
              "      <td>2.54</td>\n",
              "      <td>78.690379</td>\n",
              "      <td>98.253896</td>\n",
              "      <td>4.90569</td>\n",
              "      <td>52.41772</td>\n",
              "      <td>(4.02, 5.02]</td>\n",
              "    </tr>\n",
              "    <tr>\n",
              "      <th>1</th>\n",
              "      <td>1.0</td>\n",
              "      <td>200</td>\n",
              "      <td>Quarto Privado</td>\n",
              "      <td>False</td>\n",
              "      <td>True</td>\n",
              "      <td>4</td>\n",
              "      <td>False</td>\n",
              "      <td>0.0</td>\n",
              "      <td>80.0</td>\n",
              "      <td>85.0</td>\n",
              "      <td>1.0</td>\n",
              "      <td>0.49</td>\n",
              "      <td>0.24</td>\n",
              "      <td>631.176378</td>\n",
              "      <td>837.280757</td>\n",
              "      <td>4.90005</td>\n",
              "      <td>52.37432</td>\n",
              "      <td>(0.02, 1.02]</td>\n",
              "    </tr>\n",
              "    <tr>\n",
              "      <th>2</th>\n",
              "      <td>2.0</td>\n",
              "      <td>150</td>\n",
              "      <td>Quarto Privado</td>\n",
              "      <td>False</td>\n",
              "      <td>True</td>\n",
              "      <td>2</td>\n",
              "      <td>False</td>\n",
              "      <td>1.0</td>\n",
              "      <td>90.0</td>\n",
              "      <td>87.0</td>\n",
              "      <td>1.0</td>\n",
              "      <td>5.75</td>\n",
              "      <td>3.65</td>\n",
              "      <td>75.275877</td>\n",
              "      <td>95.386955</td>\n",
              "      <td>4.97512</td>\n",
              "      <td>52.36103</td>\n",
              "      <td>(5.02, 6.02]</td>\n",
              "    </tr>\n",
              "    <tr>\n",
              "      <th>3</th>\n",
              "      <td>3.0</td>\n",
              "      <td>300</td>\n",
              "      <td>Quarto Privado</td>\n",
              "      <td>False</td>\n",
              "      <td>True</td>\n",
              "      <td>4</td>\n",
              "      <td>False</td>\n",
              "      <td>1.0</td>\n",
              "      <td>90.0</td>\n",
              "      <td>90.0</td>\n",
              "      <td>2.0</td>\n",
              "      <td>0.38</td>\n",
              "      <td>0.44</td>\n",
              "      <td>493.272534</td>\n",
              "      <td>875.033098</td>\n",
              "      <td>4.89417</td>\n",
              "      <td>52.37663</td>\n",
              "      <td>(0.02, 1.02]</td>\n",
              "    </tr>\n",
              "    <tr>\n",
              "      <th>4</th>\n",
              "      <td>4.0</td>\n",
              "      <td>250</td>\n",
              "      <td>Quarto Privado</td>\n",
              "      <td>False</td>\n",
              "      <td>True</td>\n",
              "      <td>2</td>\n",
              "      <td>True</td>\n",
              "      <td>0.0</td>\n",
              "      <td>100.0</td>\n",
              "      <td>98.0</td>\n",
              "      <td>1.0</td>\n",
              "      <td>0.54</td>\n",
              "      <td>0.32</td>\n",
              "      <td>552.830324</td>\n",
              "      <td>815.305740</td>\n",
              "      <td>4.90051</td>\n",
              "      <td>52.37508</td>\n",
              "      <td>(0.02, 1.02]</td>\n",
              "    </tr>\n",
              "  </tbody>\n",
              "</table>\n",
              "</div>\n",
              "      <button class=\"colab-df-convert\" onclick=\"convertToInteractive('df-c0577a72-3e8f-4abf-bdd6-ec3884daaca0')\"\n",
              "              title=\"Convert this dataframe to an interactive table.\"\n",
              "              style=\"display:none;\">\n",
              "        \n",
              "  <svg xmlns=\"http://www.w3.org/2000/svg\" height=\"24px\"viewBox=\"0 0 24 24\"\n",
              "       width=\"24px\">\n",
              "    <path d=\"M0 0h24v24H0V0z\" fill=\"none\"/>\n",
              "    <path d=\"M18.56 5.44l.94 2.06.94-2.06 2.06-.94-2.06-.94-.94-2.06-.94 2.06-2.06.94zm-11 1L8.5 8.5l.94-2.06 2.06-.94-2.06-.94L8.5 2.5l-.94 2.06-2.06.94zm10 10l.94 2.06.94-2.06 2.06-.94-2.06-.94-.94-2.06-.94 2.06-2.06.94z\"/><path d=\"M17.41 7.96l-1.37-1.37c-.4-.4-.92-.59-1.43-.59-.52 0-1.04.2-1.43.59L10.3 9.45l-7.72 7.72c-.78.78-.78 2.05 0 2.83L4 21.41c.39.39.9.59 1.41.59.51 0 1.02-.2 1.41-.59l7.78-7.78 2.81-2.81c.8-.78.8-2.07 0-2.86zM5.41 20L4 18.59l7.72-7.72 1.47 1.35L5.41 20z\"/>\n",
              "  </svg>\n",
              "      </button>\n",
              "      \n",
              "  <style>\n",
              "    .colab-df-container {\n",
              "      display:flex;\n",
              "      flex-wrap:wrap;\n",
              "      gap: 12px;\n",
              "    }\n",
              "\n",
              "    .colab-df-convert {\n",
              "      background-color: #E8F0FE;\n",
              "      border: none;\n",
              "      border-radius: 50%;\n",
              "      cursor: pointer;\n",
              "      display: none;\n",
              "      fill: #1967D2;\n",
              "      height: 32px;\n",
              "      padding: 0 0 0 0;\n",
              "      width: 32px;\n",
              "    }\n",
              "\n",
              "    .colab-df-convert:hover {\n",
              "      background-color: #E2EBFA;\n",
              "      box-shadow: 0px 1px 2px rgba(60, 64, 67, 0.3), 0px 1px 3px 1px rgba(60, 64, 67, 0.15);\n",
              "      fill: #174EA6;\n",
              "    }\n",
              "\n",
              "    [theme=dark] .colab-df-convert {\n",
              "      background-color: #3B4455;\n",
              "      fill: #D2E3FC;\n",
              "    }\n",
              "\n",
              "    [theme=dark] .colab-df-convert:hover {\n",
              "      background-color: #434B5C;\n",
              "      box-shadow: 0px 1px 3px 1px rgba(0, 0, 0, 0.15);\n",
              "      filter: drop-shadow(0px 1px 2px rgba(0, 0, 0, 0.3));\n",
              "      fill: #FFFFFF;\n",
              "    }\n",
              "  </style>\n",
              "\n",
              "      <script>\n",
              "        const buttonEl =\n",
              "          document.querySelector('#df-c0577a72-3e8f-4abf-bdd6-ec3884daaca0 button.colab-df-convert');\n",
              "        buttonEl.style.display =\n",
              "          google.colab.kernel.accessAllowed ? 'block' : 'none';\n",
              "\n",
              "        async function convertToInteractive(key) {\n",
              "          const element = document.querySelector('#df-c0577a72-3e8f-4abf-bdd6-ec3884daaca0');\n",
              "          const dataTable =\n",
              "            await google.colab.kernel.invokeFunction('convertToInteractive',\n",
              "                                                     [key], {});\n",
              "          if (!dataTable) return;\n",
              "\n",
              "          const docLinkHtml = 'Like what you see? Visit the ' +\n",
              "            '<a target=\"_blank\" href=https://colab.research.google.com/notebooks/data_table.ipynb>data table notebook</a>'\n",
              "            + ' to learn more about interactive tables.';\n",
              "          element.innerHTML = '';\n",
              "          dataTable['output_type'] = 'display_data';\n",
              "          await google.colab.output.renderOutput(dataTable, element);\n",
              "          const docLink = document.createElement('div');\n",
              "          docLink.innerHTML = docLinkHtml;\n",
              "          element.appendChild(docLink);\n",
              "        }\n",
              "      </script>\n",
              "    </div>\n",
              "  </div>\n",
              "  "
            ]
          },
          "metadata": {},
          "execution_count": 409
        }
      ],
      "source": [
        "df.head()"
      ]
    },
    {
      "cell_type": "markdown",
      "source": [
        " ### **Busca (Query)**\n"
      ],
      "metadata": {
        "id": "2M_d4seFm-Q_"
      }
    },
    {
      "cell_type": "markdown",
      "source": [
        "* Localização de uma linha:"
      ],
      "metadata": {
        "id": "cplUJYAV_SmR"
      }
    },
    {
      "cell_type": "code",
      "execution_count": 410,
      "metadata": {
        "id": "K6Cr3TC5ONJb",
        "colab": {
          "base_uri": "https://localhost:8080/"
        },
        "outputId": "ecdedc78-190b-4cc1-f8c5-066daff918b7"
      },
      "outputs": [
        {
          "output_type": "execute_result",
          "data": {
            "text/plain": [
              "ID                                 0.0\n",
              "preco_total                        100\n",
              "tipo_acomodacao         Quarto Privado\n",
              "quarto_compartilhado             False\n",
              "quarto_privado                    True\n",
              "capacidade_maxima                    2\n",
              "superhost                        False\n",
              "biz                                0.0\n",
              "limpeza                          100.0\n",
              "avaliacao_geral                   93.0\n",
              "qnt_quartos                        1.0\n",
              "distancia_centro                  5.02\n",
              "distancia_metro                   2.54\n",
              "atracao                      78.690379\n",
              "restaurante                  98.253896\n",
              "longitude                      4.90569\n",
              "latitude                      52.41772\n",
              "intervalo                 (4.02, 5.02]\n",
              "Name: 0, dtype: object"
            ]
          },
          "metadata": {},
          "execution_count": 410
        }
      ],
      "source": [
        "df.loc[0]"
      ]
    },
    {
      "cell_type": "markdown",
      "source": [
        "* Localização de um conjunto de linhas:"
      ],
      "metadata": {
        "id": "l7NkoKgj_bep"
      }
    },
    {
      "cell_type": "code",
      "execution_count": null,
      "metadata": {
        "id": "QHAdH93IOwc9"
      },
      "outputs": [],
      "source": [
        "df.loc[10:12]"
      ]
    },
    {
      "cell_type": "markdown",
      "source": [
        "* Busca avançada: linhas e colunas especificas:"
      ],
      "metadata": {
        "id": "uNl6DqDi1uAm"
      }
    },
    {
      "cell_type": "code",
      "execution_count": null,
      "metadata": {
        "id": "F8So8DfjWnCH"
      },
      "outputs": [],
      "source": [
        "df.loc[[0,20,900], ['ID', 'preco_total']]"
      ]
    },
    {
      "cell_type": "markdown",
      "source": [
        "### **Transformação**"
      ],
      "metadata": {
        "id": "GOU8zYQxnrDS"
      }
    },
    {
      "cell_type": "markdown",
      "source": [
        "* Trocar valor de determinada linha de uma coluna:"
      ],
      "metadata": {
        "id": "gZ0jJ6tV_of9"
      }
    },
    {
      "cell_type": "code",
      "execution_count": null,
      "metadata": {
        "id": "DPVs1ltyPM5a"
      },
      "outputs": [],
      "source": [
        "df.loc[0,'ID'] = '00'"
      ]
    },
    {
      "cell_type": "markdown",
      "source": [
        "* Trocar todos os valores de uma coluna:"
      ],
      "metadata": {
        "id": "VIMc6ad8ATFs"
      }
    },
    {
      "cell_type": "code",
      "execution_count": null,
      "metadata": {
        "id": "deutKAkdVs7i"
      },
      "outputs": [],
      "source": [
        "df.loc[:,'ID'] = '00'"
      ]
    },
    {
      "cell_type": "markdown",
      "source": [
        "* Desfazendo ação, utilizando o backup tratado:"
      ],
      "metadata": {
        "id": "I_AfUOY_Afab"
      }
    },
    {
      "cell_type": "code",
      "execution_count": null,
      "metadata": {
        "id": "b9XASSI-WGEt"
      },
      "outputs": [],
      "source": [
        "df = dfback2"
      ]
    },
    {
      "cell_type": "markdown",
      "source": [
        "* Trocar um valor especifico na coluna:"
      ],
      "metadata": {
        "id": "_kYmumzr5qLi"
      }
    },
    {
      "cell_type": "code",
      "execution_count": null,
      "metadata": {
        "id": "2vY5v29pXB5F"
      },
      "outputs": [],
      "source": [
        "df.loc[df.preco_total == '194', ['preco_total']] = '000'"
      ]
    },
    {
      "cell_type": "markdown",
      "source": [
        "* Retornando o valor especifico na coluna:"
      ],
      "metadata": {
        "id": "TSeZvM8p51Cj"
      }
    },
    {
      "cell_type": "code",
      "execution_count": null,
      "metadata": {
        "id": "uXGaaXNeYgKt"
      },
      "outputs": [],
      "source": [
        "df.loc[df.preco_total == '000', ['preco_total']] = '194'"
      ]
    },
    {
      "cell_type": "markdown",
      "source": [
        "* Converter o tipo de dado da coluna:"
      ],
      "metadata": {
        "id": "Fd1MU-h663V2"
      }
    },
    {
      "cell_type": "code",
      "execution_count": null,
      "metadata": {
        "id": "FiF6MZXkeA7U"
      },
      "outputs": [],
      "source": [
        "df['tipo_acomodacao'] = df['tipo_acomodacao'].astype(str)"
      ]
    },
    {
      "cell_type": "markdown",
      "source": [
        "* Checagem da mudança de tipo de dado:"
      ],
      "metadata": {
        "id": "UC1PCAuI76-3"
      }
    },
    {
      "cell_type": "code",
      "execution_count": null,
      "metadata": {
        "id": "LDYdkhtHaZuo"
      },
      "outputs": [],
      "source": [
        "df.dtypes"
      ]
    },
    {
      "cell_type": "markdown",
      "source": [
        "* Duplicates - Remove linhas duplicadas com base em todas as colunas."
      ],
      "metadata": {
        "id": "WRvuyqV4pHQm"
      }
    },
    {
      "cell_type": "code",
      "execution_count": null,
      "metadata": {
        "id": "SsjsilYUwMj8"
      },
      "outputs": [],
      "source": [
        "df.drop_duplicates()"
      ]
    },
    {
      "cell_type": "markdown",
      "metadata": {
        "id": "LZ3DXncxefQI"
      },
      "source": [
        "### **Filtro**"
      ]
    },
    {
      "cell_type": "markdown",
      "source": [
        "* Criar Dataframe com filtro e exibi-lo:"
      ],
      "metadata": {
        "id": "yqTh3gQUBEqR"
      }
    },
    {
      "cell_type": "code",
      "execution_count": null,
      "metadata": {
        "id": "rJIAe7ypehtL"
      },
      "outputs": [],
      "source": [
        "filtro_quartoprivado = df.tipo_acomodacao =='Quarto Privado'\n",
        "\n",
        "filtro_quartoprivado  = df.loc[filtro_quartoprivado]\n",
        "filtro_quartoprivado"
      ]
    },
    {
      "cell_type": "markdown",
      "source": [
        "* Visualização do novo dataframe com filtro:"
      ],
      "metadata": {
        "id": "OBgjrkotCeaf"
      }
    },
    {
      "cell_type": "code",
      "execution_count": null,
      "metadata": {
        "id": "2ZXFZt1YijEq"
      },
      "outputs": [],
      "source": [
        "filtro_quartoprivado.info()"
      ]
    },
    {
      "cell_type": "markdown",
      "source": [
        "* Exportação do novo dataframe com filtro:\n",
        "\n"
      ],
      "metadata": {
        "id": "Zh_Y_JraCl73"
      }
    },
    {
      "cell_type": "code",
      "execution_count": null,
      "metadata": {
        "id": "FVZjvcthiOIA"
      },
      "outputs": [],
      "source": [
        "filtro_quartoprivado.to_csv('df_filtro_acidente.csv', index=False)"
      ]
    },
    {
      "cell_type": "markdown",
      "source": [
        "* Filtro para observação de dados ausentes:"
      ],
      "metadata": {
        "id": "WNl94dCAFBRE"
      }
    },
    {
      "cell_type": "code",
      "execution_count": null,
      "metadata": {
        "id": "DOJuB1_NjlJ5"
      },
      "outputs": [],
      "source": [
        "dfback2.isna().sum()"
      ]
    },
    {
      "cell_type": "markdown",
      "source": [
        "* Filtro com mais detalhes: com muitas informações"
      ],
      "metadata": {
        "id": "7ErmCUv2KVab"
      }
    },
    {
      "cell_type": "code",
      "execution_count": null,
      "metadata": {
        "id": "-j2ku0HTlkvg"
      },
      "outputs": [],
      "source": [
        "capacidade_maxima = df.capacidade_maxima == 2\n",
        "qnt_quartos = df.qnt_quartos == 0\n",
        "\n",
        "df.loc[df.capacidade_maxima & df.qnt_quartos]"
      ]
    },
    {
      "cell_type": "markdown",
      "source": [
        "### **Verificação**"
      ],
      "metadata": {
        "id": "r8S4j8C-oNv0"
      }
    },
    {
      "cell_type": "markdown",
      "source": [
        "* Verificar valor em uma coluna  ignorando letras maiusculas e minusculas"
      ],
      "metadata": {
        "id": "tRY9plKyWmSw"
      }
    },
    {
      "cell_type": "code",
      "execution_count": null,
      "metadata": {
        "id": "ofiRvxcurlUF"
      },
      "outputs": [],
      "source": [
        "df[df['tipo_acomodacao'].str.contains(r'\\bquarto privado\\b', regex=True, case=False)]"
      ]
    },
    {
      "cell_type": "markdown",
      "metadata": {
        "id": "TmZbz-trBNwE"
      },
      "source": [
        "### **GroupBy**"
      ]
    },
    {
      "cell_type": "markdown",
      "source": [
        "* Contagem de valores em cada coluna"
      ],
      "metadata": {
        "id": "F2Wx7vAEXan7"
      }
    },
    {
      "cell_type": "code",
      "execution_count": null,
      "metadata": {
        "id": "cUkDifdsBOub"
      },
      "outputs": [],
      "source": [
        "df.groupby(['tipo_acomodacao']).size()"
      ]
    },
    {
      "cell_type": "markdown",
      "source": [
        "* Ordem descrescente para valores True"
      ],
      "metadata": {
        "id": "6rvrH5vUXn9S"
      }
    },
    {
      "cell_type": "code",
      "execution_count": null,
      "metadata": {
        "id": "G8CoT3kFBjgI"
      },
      "outputs": [],
      "source": [
        "df.groupby(['tipo_acomodacao']).size().sort_values(ascending=False)"
      ]
    },
    {
      "cell_type": "markdown",
      "source": [
        "* soma de valores: comparando duas colunas:"
      ],
      "metadata": {
        "id": "AOAeQmvyZHOO"
      }
    },
    {
      "cell_type": "code",
      "execution_count": null,
      "metadata": {
        "id": "ySJAPIyWB-H-"
      },
      "outputs": [],
      "source": [
        "df.groupby('superhost')['avaliacao_geral'].sum().sort_values(ascending=False)"
      ]
    },
    {
      "cell_type": "code",
      "execution_count": null,
      "metadata": {
        "id": "QAIShE8OBRcs"
      },
      "outputs": [],
      "source": [
        "df.groupby(['superhost'])['avaliacao_geral'].sum()"
      ]
    },
    {
      "cell_type": "markdown",
      "source": [
        "* Agrupamento desconsiderando valores ausentes:"
      ],
      "metadata": {
        "id": "XLLnU8wgZv2g"
      }
    },
    {
      "cell_type": "code",
      "execution_count": null,
      "metadata": {
        "id": "GWTCI_a4HdEt"
      },
      "outputs": [],
      "source": [
        "dfback2.groupby(['superhost']).size().sort_values(ascending=False).head(10)"
      ]
    },
    {
      "cell_type": "markdown",
      "source": [
        "* Agrupamento considerando valores ausentes:"
      ],
      "metadata": {
        "id": "m1aXBIvPaNcX"
      }
    },
    {
      "cell_type": "code",
      "execution_count": null,
      "metadata": {
        "id": "fhSf2rmIHxWF"
      },
      "outputs": [],
      "source": [
        "dfback2.groupby(['superhost'],dropna=False).size().sort_values(ascending=False).head(10)"
      ]
    },
    {
      "cell_type": "markdown",
      "metadata": {
        "id": "eLi4nzTHyegc"
      },
      "source": [
        "# **Análise Estatística descritiva**"
      ]
    },
    {
      "cell_type": "markdown",
      "source": [
        "* Estatísticas descritivas para todas as colunas numéricas"
      ],
      "metadata": {
        "id": "LU6jenMGqkV8"
      }
    },
    {
      "cell_type": "code",
      "execution_count": null,
      "metadata": {
        "id": "TMd0UnijzRfD"
      },
      "outputs": [],
      "source": [
        "df.describe()"
      ]
    },
    {
      "cell_type": "markdown",
      "source": [
        "* contagem de valores únicos em cada coluna:"
      ],
      "metadata": {
        "id": "Q_Z9av5wqn8S"
      }
    },
    {
      "cell_type": "code",
      "source": [
        "print(df.nunique())"
      ],
      "metadata": {
        "id": "p-coUGLequ0Q"
      },
      "execution_count": null,
      "outputs": []
    },
    {
      "cell_type": "markdown",
      "source": [
        "* Média e Mediana:"
      ],
      "metadata": {
        "id": "qgGkcwHwtTRc"
      }
    },
    {
      "cell_type": "code",
      "source": [
        "print('                  MEDIA\\n\\n')\n",
        "print(df.mean())\n",
        "print('\\n\\n')\n",
        "\n",
        "\n",
        "print('                  MEDIANA\\n\\n')\n",
        "print(df.median())\n",
        "print('\\n\\n')\n"
      ],
      "metadata": {
        "id": "hHGBskWMq9rc"
      },
      "execution_count": null,
      "outputs": []
    },
    {
      "cell_type": "markdown",
      "source": [
        "* MODA"
      ],
      "metadata": {
        "id": "ZDa9P33ismM9"
      }
    },
    {
      "cell_type": "code",
      "source": [
        "print(df.dropna().mode())"
      ],
      "metadata": {
        "id": "Ka6TX57PsiTE"
      },
      "execution_count": null,
      "outputs": []
    },
    {
      "cell_type": "markdown",
      "source": [
        "* Desvio Padrão"
      ],
      "metadata": {
        "id": "j1Zp1651tvix"
      }
    },
    {
      "cell_type": "code",
      "source": [
        "print(df.std())\n"
      ],
      "metadata": {
        "id": "BkYmhPwzteRs"
      },
      "execution_count": null,
      "outputs": []
    },
    {
      "cell_type": "markdown",
      "source": [
        "* Mínimo e Máximo"
      ],
      "metadata": {
        "id": "YtOOag1Wt3wc"
      }
    },
    {
      "cell_type": "code",
      "source": [
        "print('        Mínimo\\n\\n')\n",
        "print(df.min())\n",
        "print('\\n-----------------\\n')\n",
        "print('        Máximo\\n\\n')\n",
        "print(df.max())"
      ],
      "metadata": {
        "id": "SRnh1ul1t-FR"
      },
      "execution_count": null,
      "outputs": []
    },
    {
      "cell_type": "markdown",
      "source": [
        "* correlação entre as colunas numéricas"
      ],
      "metadata": {
        "id": "teNrFXbJueJr"
      }
    },
    {
      "cell_type": "code",
      "source": [
        "print(df.corr())"
      ],
      "metadata": {
        "id": "Rd4Kylw4tpdq"
      },
      "execution_count": null,
      "outputs": []
    },
    {
      "cell_type": "markdown",
      "source": [
        "* Distribuição de Frequência : Distância do centro"
      ],
      "metadata": {
        "id": "0j5axokb180k"
      }
    },
    {
      "cell_type": "code",
      "source": [
        "# Definir os intervalos desejados\n",
        "intervalos = pd.interval_range(start=0.02, end=11.19, freq=1)\n",
        "\n",
        "# Criar uma nova coluna no DataFrame com os intervalos\n",
        "df['intervalo'] = pd.cut(df['distancia_centro'], bins=intervalos)\n",
        "\n",
        "# Contar a frequência de cada intervalo\n",
        "contagem_intervalos = df['intervalo'].value_counts().sort_index()\n",
        "\n",
        "# Imprimir a contagem de cada intervalo\n",
        "print(contagem_intervalos)"
      ],
      "metadata": {
        "id": "L9UiMV5cU19m"
      },
      "execution_count": null,
      "outputs": []
    },
    {
      "cell_type": "markdown",
      "metadata": {
        "id": "tpW25ZEbPDQI"
      },
      "source": [
        "# **Visualização dos Dados**"
      ]
    },
    {
      "cell_type": "markdown",
      "source": [
        "## Gráficos de barras"
      ],
      "metadata": {
        "id": "wTTNKmW1HKs3"
      }
    },
    {
      "cell_type": "markdown",
      "source": [
        "\n",
        "\n",
        "> Superhost\n",
        "\n"
      ],
      "metadata": {
        "id": "GIfQ5sXavtfC"
      }
    },
    {
      "cell_type": "code",
      "execution_count": 417,
      "metadata": {
        "id": "c3tCEzNMXW7i",
        "colab": {
          "base_uri": "https://localhost:8080/",
          "height": 557
        },
        "outputId": "49e2f51b-052b-4967-cb67-24d140eebb71"
      },
      "outputs": [
        {
          "output_type": "display_data",
          "data": {
            "text/plain": [
              "<Figure size 700x500 with 1 Axes>"
            ],
            "image/png": "[encoded data removed]"
          },
          "metadata": {}
        },
        {
          "output_type": "execute_result",
          "data": {
            "text/plain": [
              "superhost\n",
              "False    6\n",
              "True     2\n",
              "dtype: int64"
            ]
          },
          "metadata": {},
          "execution_count": 417
        }
      ],
      "source": [
        "df.groupby(['superhost']).size().plot.barh(figsize=(7,5), color=['skyblue'])\n",
        "plt.xlabel('Contagem')\n",
        "plt.ylabel('Superhost')\n",
        "plt.title('Contagem de Ocorrências de Superhosts')\n",
        "plt.show()\n",
        "dfback2.groupby(['superhost'],dropna=False).size().sort_values(ascending=False).head(10)"
      ]
    },
    {
      "cell_type": "markdown",
      "source": [
        "\n",
        "\n",
        "> Avaliação Geral\n",
        "\n"
      ],
      "metadata": {
        "id": "nIIAugY9wOmR"
      }
    },
    {
      "cell_type": "code",
      "source": [
        "df.groupby(['avaliacao_geral']).size().plot.barh(figsize=(7,5), color=['skyblue'])\n",
        "plt.xlabel('Contagem')\n",
        "plt.ylabel('avaliacao_geral')\n",
        "plt.title('Contagem de Ocorrências de avaliação Geral')\n",
        "plt.show()\n",
        "dfback2.groupby(['avaliacao_geral'],dropna=False).size().sort_values(ascending=False).head(10)"
      ],
      "metadata": {
        "colab": {
          "base_uri": "https://localhost:8080/",
          "height": 644
        },
        "id": "-Lb0u-ZQtQiI",
        "outputId": "8fba8f19-ad2c-4c21-d306-490c54e9cbd3"
      },
      "execution_count": 418,
      "outputs": [
        {
          "output_type": "display_data",
          "data": {
            "text/plain": [
              "<Figure size 700x500 with 1 Axes>"
            ],
            "image/png": "[encoded data removed]"
          },
          "metadata": {}
        },
        {
          "output_type": "execute_result",
          "data": {
            "text/plain": [
              "avaliacao_geral\n",
              "100.0    2\n",
              "85.0     1\n",
              "87.0     1\n",
              "90.0     1\n",
              "93.0     1\n",
              "94.0     1\n",
              "98.0     1\n",
              "dtype: int64"
            ]
          },
          "metadata": {},
          "execution_count": 418
        }
      ]
    },
    {
      "cell_type": "markdown",
      "source": [
        "> Avaliação Limpeza"
      ],
      "metadata": {
        "id": "IPRzkx8xwYmF"
      }
    },
    {
      "cell_type": "code",
      "source": [
        "df.groupby(['limpeza']).size().plot.barh(figsize=(7,5), color=['skyblue'])\n",
        "plt.xlabel('Contagem')\n",
        "plt.ylabel('limpeza')\n",
        "plt.title('Contagem de Ocorrências de avaliação de limpeza')\n",
        "plt.show()\n",
        "dfback2.groupby(['limpeza'],dropna=False).size().sort_values(ascending=False).head(10)"
      ],
      "metadata": {
        "colab": {
          "base_uri": "https://localhost:8080/",
          "height": 575
        },
        "id": "pWMxM9iNs2n5",
        "outputId": "9507bd65-f474-4d60-b01f-ef262c4c6e3d"
      },
      "execution_count": 419,
      "outputs": [
        {
          "output_type": "display_data",
          "data": {
            "text/plain": [
              "<Figure size 700x500 with 1 Axes>"
            ],
            "image/png": "[encoded data removed]"
          },
          "metadata": {}
        },
        {
          "output_type": "execute_result",
          "data": {
            "text/plain": [
              "limpeza\n",
              "100.0    4\n",
              "80.0     2\n",
              "90.0     2\n",
              "dtype: int64"
            ]
          },
          "metadata": {},
          "execution_count": 419
        }
      ]
    },
    {
      "cell_type": "markdown",
      "source": [
        "> Capacidade máxima de pessoas"
      ],
      "metadata": {
        "id": "lIUWaB9nw0Jc"
      }
    },
    {
      "cell_type": "code",
      "execution_count": 420,
      "metadata": {
        "id": "DGPaE6ZoPkQw",
        "colab": {
          "base_uri": "https://localhost:8080/",
          "height": 482
        },
        "outputId": "1f28d0ea-5a85-4aef-fdbc-8a95f9e6782f"
      },
      "outputs": [
        {
          "output_type": "display_data",
          "data": {
            "text/plain": [
              "<Figure size 700x500 with 1 Axes>"
            ],
            "image/png": "[encoded data removed]"
          },
          "metadata": {}
        }
      ],
      "source": [
        "df.groupby('capacidade_maxima').size().sort_values(ascending=False).plot.bar(figsize=(7,5), color=['DarkCyan'])\n",
        "plt.xlabel('Capacidade Quartos')\n",
        "plt.ylabel('Contagem')\n",
        "plt.title('Contagem de Ocorrências por capacidade máxima de pessoas')\n",
        "plt.show()"
      ]
    },
    {
      "cell_type": "code",
      "source": [
        "\n",
        "# Definir os intervalos desejados\n",
        "intervalos = pd.interval_range(start=0.02, end=11.19, freq=1)\n",
        "\n",
        "# Criar uma nova coluna no DataFrame com os intervalos\n",
        "df['intervalo'] = pd.cut(df['distancia_centro'], bins=intervalos)\n",
        "\n",
        "# Contar a frequência de cada intervalo\n",
        "contagem_intervalos = df['intervalo'].value_counts().sort_index()\n",
        "\n",
        "# Criar o gráfico de barras\n",
        "plt.bar(contagem_intervalos.values, contagem_intervalos.index.astype(str))\n",
        "\n",
        "# Definir o título e os rótulos dos eixos\n",
        "plt.title('Contagem de reservas e distancia do centro ')\n",
        "plt.xlabel('Intervalo')\n",
        "plt.ylabel('Contagem')\n",
        "\n",
        "# Exibir o gráfico\n",
        "plt.show()"
      ],
      "metadata": {
        "colab": {
          "base_uri": "https://localhost:8080/",
          "height": 472
        },
        "id": "ZLJRgo5M016L",
        "outputId": "c09a5886-d391-449a-ed8a-c9ef08a82a01"
      },
      "execution_count": 421,
      "outputs": [
        {
          "output_type": "display_data",
          "data": {
            "text/plain": [
              "<Figure size 640x480 with 1 Axes>"
            ],
            "image/png": "[encoded data removed]"
          },
          "metadata": {}
        }
      ]
    },
    {
      "cell_type": "markdown",
      "source": [
        "## Correlações"
      ],
      "metadata": {
        "id": "emR8NoU1xY89"
      }
    },
    {
      "cell_type": "markdown",
      "source": [
        "> Correlações de todos atributos"
      ],
      "metadata": {
        "id": "wdDscaMHxn5F"
      }
    },
    {
      "cell_type": "code",
      "source": [
        "matriz_correlacao = df.corr()\n",
        "\n",
        "sns.heatmap(matriz_correlacao, annot=True)\n",
        "\n",
        "plt.show()"
      ],
      "metadata": {
        "id": "VEB_0hOYILVF",
        "colab": {
          "base_uri": "https://localhost:8080/",
          "height": 565
        },
        "outputId": "5aaf160d-5e4e-4f27-cc76-dd5ed897bfef"
      },
      "execution_count": 416,
      "outputs": [
        {
          "output_type": "display_data",
          "data": {
            "text/plain": [
              "<Figure size 640x480 with 2 Axes>"
            ],
            "image/png": "[encoded data removed]"
          },
          "metadata": {}
        }
      ]
    },
    {
      "cell_type": "markdown",
      "source": [
        "> Correlação Avaliação Geral x Avaliação limpeza"
      ],
      "metadata": {
        "id": "XICXiGg5xytB"
      }
    },
    {
      "cell_type": "code",
      "source": [
        "columns = ['avaliacao_geral', 'limpeza']   # Selecionando as colunas para o gráfico de correlação\n",
        "\n",
        "corr_matrix = df[columns].corr()   # Calculando a matriz de correlação para as colunas selecionadas\n",
        "\n",
        "sns.heatmap(corr_matrix, annot=True)   # Criando o gráfico de correlação\n",
        "\n",
        "plt.show()"
      ],
      "metadata": {
        "colab": {
          "base_uri": "https://localhost:8080/",
          "height": 435
        },
        "id": "B_KGx_ODgyb1",
        "outputId": "cd75f29b-8957-4217-a9ad-b2788e785dc4"
      },
      "execution_count": 346,
      "outputs": [
        {
          "output_type": "display_data",
          "data": {
            "text/plain": [
              "<Figure size 640x480 with 2 Axes>"
            ],
            "image/png": "[encoded data removed]"
          },
          "metadata": {}
        }
      ]
    },
    {
      "cell_type": "markdown",
      "source": [
        "> Correlação Avaliação Geral x Superhost"
      ],
      "metadata": {
        "id": "0Ji4bqr6yNWm"
      }
    },
    {
      "cell_type": "markdown",
      "source": [
        "## Dispersão"
      ],
      "metadata": {
        "id": "gc5_th0yztkE"
      }
    },
    {
      "cell_type": "code",
      "source": [
        "# Criar o gráfico de dispersão\n",
        "plt.scatter(df['limpeza'], df['avaliacao_geral'])\n",
        "\n",
        "# Adicionar rótulos aos eixos\n",
        "plt.ylabel('Avaliação Geral')\n",
        "plt.xlabel('Avaliação Limpeza')\n",
        "\n",
        "# Adicionar um título ao gráfico\n",
        "plt.title('Gráfico de Dispersão entre Avaliação Geral e Limpeza')\n",
        "\n",
        "# Exibir o gráfico\n",
        "plt.show()"
      ],
      "metadata": {
        "colab": {
          "base_uri": "https://localhost:8080/",
          "height": 472
        },
        "id": "M1J3Dil0nx17",
        "outputId": "f484d660-5f2d-450e-8cdb-040ec5ccdcb0"
      },
      "execution_count": null,
      "outputs": [
        {
          "output_type": "display_data",
          "data": {
            "text/plain": [
              "<Figure size 640x480 with 1 Axes>"
            ],
            "image/png": "[encoded data removed]"
          },
          "metadata": {}
        }
      ]
    },
    {
      "cell_type": "markdown",
      "source": [
        "> Mapa"
      ],
      "metadata": {
        "id": "kEevD3kW0BAO"
      }
    },
    {
      "cell_type": "code",
      "source": [
        "# Criar um mapa\n",
        "mapa = folium.Map(location=[df['latitude'].mean(), df['longitude'].mean()], zoom_start=11)\n",
        "\n",
        "# Adicionar marcadores ao mapa com base nas coordenadas de latitude e longitude\n",
        "for index, row in df.iterrows():\n",
        "    folium.Marker([row['latitude'], row['longitude']], popup=row['ID']).add_to(mapa)\n",
        "\n",
        "# Exibir o mapa\n",
        "mapa"
      ],
      "metadata": {
        "colab": {
          "base_uri": "https://localhost:8080/",
          "height": 649
        },
        "id": "F5qrll2XS6kU",
        "outputId": "e118b9ea-4b8f-4359-a070-5a418a3b1c80"
      },
      "execution_count": 414,
      "outputs": [
        {
          "output_type": "execute_result",
          "data": {
            "text/plain": [
              "<folium.folium.Map at 0x7f86faed8040>"
            ],
            "text/html": [
              "<div style=\"width:100%;\"><div style=\"position:relative;width:100%;height:0;padding-bottom:60%;\"><span style=\"color:#565656\">Make this Notebook Trusted to load map: File -> Trust Notebook</span><iframe srcdoc=\"&lt;!DOCTYPE html&gt;\n",
              "&lt;html&gt;\n",
              "&lt;head&gt;\n",
              "    \n",
              "    &lt;meta http-equiv=&quot;content-type&quot; content=&quot;text/html; charset=UTF-8&quot; /&gt;\n",
              "    \n",
              "        &lt;script&gt;\n",
              "            L_NO_TOUCH = false;\n",
              "            L_DISABLE_3D = false;\n",
              "        &lt;/script&gt;\n",
              "    \n",
              "    &lt;style&gt;html, body {width: 100%;height: 100%;margin: 0;padding: 0;}&lt;/style&gt;\n",
              "    &lt;style&gt;#map {position:absolute;top:0;bottom:0;right:0;left:0;}&lt;/style&gt;\n",
              "    &lt;script src=&quot;https://cdn.jsdelivr.net/npm/leaflet@1.9.3/dist/leaflet.js&quot;&gt;&lt;/script&gt;\n",
              "    &lt;script src=&quot;https://code.jquery.com/jquery-1.12.4.min.js&quot;&gt;&lt;/script&gt;\n",
              "    &lt;script src=&quot;https://cdn.jsdelivr.net/npm/bootstrap@5.2.2/dist/js/bootstrap.bundle.min.js&quot;&gt;&lt;/script&gt;\n",
              "    &lt;script src=&quot;https://cdnjs.cloudflare.com/ajax/libs/Leaflet.awesome-markers/2.0.2/leaflet.awesome-markers.js&quot;&gt;&lt;/script&gt;\n",
              "    &lt;link rel=&quot;stylesheet&quot; href=&quot;https://cdn.jsdelivr.net/npm/leaflet@1.9.3/dist/leaflet.css&quot;/&gt;\n",
              "    &lt;link rel=&quot;stylesheet&quot; href=&quot;https://cdn.jsdelivr.net/npm/bootstrap@5.2.2/dist/css/bootstrap.min.css&quot;/&gt;\n",
              "    &lt;link rel=&quot;stylesheet&quot; href=&quot;https://netdna.bootstrapcdn.com/bootstrap/3.0.0/css/bootstrap.min.css&quot;/&gt;\n",
              "    &lt;link rel=&quot;stylesheet&quot; href=&quot;https://cdn.jsdelivr.net/npm/@fortawesome/fontawesome-free@6.2.0/css/all.min.css&quot;/&gt;\n",
              "    &lt;link rel=&quot;stylesheet&quot; href=&quot;https://cdnjs.cloudflare.com/ajax/libs/Leaflet.awesome-markers/2.0.2/leaflet.awesome-markers.css&quot;/&gt;\n",
              "    &lt;link rel=&quot;stylesheet&quot; href=&quot;https://cdn.jsdelivr.net/gh/python-visualization/folium/folium/templates/leaflet.awesome.rotate.min.css&quot;/&gt;\n",
              "    \n",
              "            &lt;meta name=&quot;viewport&quot; content=&quot;width=device-width,\n",
              "                initial-scale=1.0, maximum-scale=1.0, user-scalable=no&quot; /&gt;\n",
              "            &lt;style&gt;\n",
              "                #map_015f32ec8b774a91e9ba99829ab918d9 {\n",
              "                    position: relative;\n",
              "                    width: 100.0%;\n",
              "                    height: 100.0%;\n",
              "                    left: 0.0%;\n",
              "                    top: 0.0%;\n",
              "                }\n",
              "                .leaflet-container { font-size: 1rem; }\n",
              "            &lt;/style&gt;\n",
              "        \n",
              "&lt;/head&gt;\n",
              "&lt;body&gt;\n",
              "    \n",
              "    \n",
              "            &lt;div class=&quot;folium-map&quot; id=&quot;map_015f32ec8b774a91e9ba99829ab918d9&quot; &gt;&lt;/div&gt;\n",
              "        \n",
              "&lt;/body&gt;\n",
              "&lt;script&gt;\n",
              "    \n",
              "    \n",
              "            var map_015f32ec8b774a91e9ba99829ab918d9 = L.map(\n",
              "                &quot;map_015f32ec8b774a91e9ba99829ab918d9&quot;,\n",
              "                {\n",
              "                    center: [52.38311125, 4.9066125],\n",
              "                    crs: L.CRS.EPSG3857,\n",
              "                    zoom: 11,\n",
              "                    zoomControl: true,\n",
              "                    preferCanvas: false,\n",
              "                }\n",
              "            );\n",
              "\n",
              "            \n",
              "\n",
              "        \n",
              "    \n",
              "            var tile_layer_2e32e9f793b3d17d7837e9ac2d428523 = L.tileLayer(\n",
              "                &quot;https://{s}.tile.openstreetmap.org/{z}/{x}/{y}.png&quot;,\n",
              "                {&quot;attribution&quot;: &quot;Data by \\u0026copy; \\u003ca target=\\&quot;_blank\\&quot; href=\\&quot;http://openstreetmap.org\\&quot;\\u003eOpenStreetMap\\u003c/a\\u003e, under \\u003ca target=\\&quot;_blank\\&quot; href=\\&quot;http://www.openstreetmap.org/copyright\\&quot;\\u003eODbL\\u003c/a\\u003e.&quot;, &quot;detectRetina&quot;: false, &quot;maxNativeZoom&quot;: 18, &quot;maxZoom&quot;: 18, &quot;minZoom&quot;: 0, &quot;noWrap&quot;: false, &quot;opacity&quot;: 1, &quot;subdomains&quot;: &quot;abc&quot;, &quot;tms&quot;: false}\n",
              "            ).addTo(map_015f32ec8b774a91e9ba99829ab918d9);\n",
              "        \n",
              "    \n",
              "            var marker_a1cc53255be47a8a1d82d790a6d88433 = L.marker(\n",
              "                [52.41772, 4.90569],\n",
              "                {}\n",
              "            ).addTo(map_015f32ec8b774a91e9ba99829ab918d9);\n",
              "        \n",
              "    \n",
              "        var popup_fc22f5ed784f110c11bc18927b8e224f = L.popup({&quot;maxWidth&quot;: &quot;100%&quot;});\n",
              "\n",
              "        \n",
              "            \n",
              "                var html_759da00d53be534fc21486a9cad80909 = $(`&lt;div id=&quot;html_759da00d53be534fc21486a9cad80909&quot; style=&quot;width: 100.0%; height: 100.0%;&quot;&gt;0.0&lt;/div&gt;`)[0];\n",
              "                popup_fc22f5ed784f110c11bc18927b8e224f.setContent(html_759da00d53be534fc21486a9cad80909);\n",
              "            \n",
              "        \n",
              "\n",
              "        marker_a1cc53255be47a8a1d82d790a6d88433.bindPopup(popup_fc22f5ed784f110c11bc18927b8e224f)\n",
              "        ;\n",
              "\n",
              "        \n",
              "    \n",
              "    \n",
              "            var marker_a9dc9aac798d274073a3b503e3de5546 = L.marker(\n",
              "                [52.37432, 4.90005],\n",
              "                {}\n",
              "            ).addTo(map_015f32ec8b774a91e9ba99829ab918d9);\n",
              "        \n",
              "    \n",
              "        var popup_a6260324c43d7724fc09078ef2d75611 = L.popup({&quot;maxWidth&quot;: &quot;100%&quot;});\n",
              "\n",
              "        \n",
              "            \n",
              "                var html_3aa0e063febc5beb56d9ecfc0d5e3471 = $(`&lt;div id=&quot;html_3aa0e063febc5beb56d9ecfc0d5e3471&quot; style=&quot;width: 100.0%; height: 100.0%;&quot;&gt;1.0&lt;/div&gt;`)[0];\n",
              "                popup_a6260324c43d7724fc09078ef2d75611.setContent(html_3aa0e063febc5beb56d9ecfc0d5e3471);\n",
              "            \n",
              "        \n",
              "\n",
              "        marker_a9dc9aac798d274073a3b503e3de5546.bindPopup(popup_a6260324c43d7724fc09078ef2d75611)\n",
              "        ;\n",
              "\n",
              "        \n",
              "    \n",
              "    \n",
              "            var marker_46dfd6a6702bc49cea4c79cb22f7cae3 = L.marker(\n",
              "                [52.36103, 4.97512],\n",
              "                {}\n",
              "            ).addTo(map_015f32ec8b774a91e9ba99829ab918d9);\n",
              "        \n",
              "    \n",
              "        var popup_d97f5f23bd01988dabb71638c0cce7d8 = L.popup({&quot;maxWidth&quot;: &quot;100%&quot;});\n",
              "\n",
              "        \n",
              "            \n",
              "                var html_3f91bf9bbbdaefcd968bfeca4b2a5ef4 = $(`&lt;div id=&quot;html_3f91bf9bbbdaefcd968bfeca4b2a5ef4&quot; style=&quot;width: 100.0%; height: 100.0%;&quot;&gt;2.0&lt;/div&gt;`)[0];\n",
              "                popup_d97f5f23bd01988dabb71638c0cce7d8.setContent(html_3f91bf9bbbdaefcd968bfeca4b2a5ef4);\n",
              "            \n",
              "        \n",
              "\n",
              "        marker_46dfd6a6702bc49cea4c79cb22f7cae3.bindPopup(popup_d97f5f23bd01988dabb71638c0cce7d8)\n",
              "        ;\n",
              "\n",
              "        \n",
              "    \n",
              "    \n",
              "            var marker_cd946a07f1e108cd7b420033bd0a28b3 = L.marker(\n",
              "                [52.37663, 4.89417],\n",
              "                {}\n",
              "            ).addTo(map_015f32ec8b774a91e9ba99829ab918d9);\n",
              "        \n",
              "    \n",
              "        var popup_b0c379226fd0d7f2e8a465fbf13d1fc1 = L.popup({&quot;maxWidth&quot;: &quot;100%&quot;});\n",
              "\n",
              "        \n",
              "            \n",
              "                var html_a15c6af91df1eb78eeb7dc995eab7c02 = $(`&lt;div id=&quot;html_a15c6af91df1eb78eeb7dc995eab7c02&quot; style=&quot;width: 100.0%; height: 100.0%;&quot;&gt;3.0&lt;/div&gt;`)[0];\n",
              "                popup_b0c379226fd0d7f2e8a465fbf13d1fc1.setContent(html_a15c6af91df1eb78eeb7dc995eab7c02);\n",
              "            \n",
              "        \n",
              "\n",
              "        marker_cd946a07f1e108cd7b420033bd0a28b3.bindPopup(popup_b0c379226fd0d7f2e8a465fbf13d1fc1)\n",
              "        ;\n",
              "\n",
              "        \n",
              "    \n",
              "    \n",
              "            var marker_8ec109c4bb335b84f0d2c9496b231d66 = L.marker(\n",
              "                [52.37508, 4.90051],\n",
              "                {}\n",
              "            ).addTo(map_015f32ec8b774a91e9ba99829ab918d9);\n",
              "        \n",
              "    \n",
              "        var popup_0b40036e544677a0f1855d57d69dbe5c = L.popup({&quot;maxWidth&quot;: &quot;100%&quot;});\n",
              "\n",
              "        \n",
              "            \n",
              "                var html_cdf225af3fad83edd7a5c08d9bc878db = $(`&lt;div id=&quot;html_cdf225af3fad83edd7a5c08d9bc878db&quot; style=&quot;width: 100.0%; height: 100.0%;&quot;&gt;4.0&lt;/div&gt;`)[0];\n",
              "                popup_0b40036e544677a0f1855d57d69dbe5c.setContent(html_cdf225af3fad83edd7a5c08d9bc878db);\n",
              "            \n",
              "        \n",
              "\n",
              "        marker_8ec109c4bb335b84f0d2c9496b231d66.bindPopup(popup_0b40036e544677a0f1855d57d69dbe5c)\n",
              "        ;\n",
              "\n",
              "        \n",
              "    \n",
              "    \n",
              "            var marker_10951b7e660bed6a86fe308a93fa0da5 = L.marker(\n",
              "                [52.38966, 4.87699],\n",
              "                {}\n",
              "            ).addTo(map_015f32ec8b774a91e9ba99829ab918d9);\n",
              "        \n",
              "    \n",
              "        var popup_58662d617cf9c34263d2a08ba534eb63 = L.popup({&quot;maxWidth&quot;: &quot;100%&quot;});\n",
              "\n",
              "        \n",
              "            \n",
              "                var html_c420daa1731656760761c6b2cb44c232 = $(`&lt;div id=&quot;html_c420daa1731656760761c6b2cb44c232&quot; style=&quot;width: 100.0%; height: 100.0%;&quot;&gt;5.0&lt;/div&gt;`)[0];\n",
              "                popup_58662d617cf9c34263d2a08ba534eb63.setContent(html_c420daa1731656760761c6b2cb44c232);\n",
              "            \n",
              "        \n",
              "\n",
              "        marker_10951b7e660bed6a86fe308a93fa0da5.bindPopup(popup_58662d617cf9c34263d2a08ba534eb63)\n",
              "        ;\n",
              "\n",
              "        \n",
              "    \n",
              "    \n",
              "            var marker_c14592b804e04c4f21ed393e93cdcce9 = L.marker(\n",
              "                [52.38296, 4.9157],\n",
              "                {}\n",
              "            ).addTo(map_015f32ec8b774a91e9ba99829ab918d9);\n",
              "        \n",
              "    \n",
              "        var popup_354eddb5faac0a1a700beea20f8a70d4 = L.popup({&quot;maxWidth&quot;: &quot;100%&quot;});\n",
              "\n",
              "        \n",
              "            \n",
              "                var html_c1e0ba73cd905958d60e706bbc5a8557 = $(`&lt;div id=&quot;html_c1e0ba73cd905958d60e706bbc5a8557&quot; style=&quot;width: 100.0%; height: 100.0%;&quot;&gt;6.0&lt;/div&gt;`)[0];\n",
              "                popup_354eddb5faac0a1a700beea20f8a70d4.setContent(html_c1e0ba73cd905958d60e706bbc5a8557);\n",
              "            \n",
              "        \n",
              "\n",
              "        marker_c14592b804e04c4f21ed393e93cdcce9.bindPopup(popup_354eddb5faac0a1a700beea20f8a70d4)\n",
              "        ;\n",
              "\n",
              "        \n",
              "    \n",
              "    \n",
              "            var marker_25f932bce6068c53b6ec3f857dbc510d = L.marker(\n",
              "                [52.38749, 4.88467],\n",
              "                {}\n",
              "            ).addTo(map_015f32ec8b774a91e9ba99829ab918d9);\n",
              "        \n",
              "    \n",
              "        var popup_457f1edfa1af3ed7f88eb9c7bf08e1b0 = L.popup({&quot;maxWidth&quot;: &quot;100%&quot;});\n",
              "\n",
              "        \n",
              "            \n",
              "                var html_4c2a2f9a41fabb4d19b1745abe0a4e0c = $(`&lt;div id=&quot;html_4c2a2f9a41fabb4d19b1745abe0a4e0c&quot; style=&quot;width: 100.0%; height: 100.0%;&quot;&gt;7.0&lt;/div&gt;`)[0];\n",
              "                popup_457f1edfa1af3ed7f88eb9c7bf08e1b0.setContent(html_4c2a2f9a41fabb4d19b1745abe0a4e0c);\n",
              "            \n",
              "        \n",
              "\n",
              "        marker_25f932bce6068c53b6ec3f857dbc510d.bindPopup(popup_457f1edfa1af3ed7f88eb9c7bf08e1b0)\n",
              "        ;\n",
              "\n",
              "        \n",
              "    \n",
              "&lt;/script&gt;\n",
              "&lt;/html&gt;\" style=\"position:absolute;width:100%;height:100%;left:0;top:0;border:none !important;\" allowfullscreen webkitallowfullscreen mozallowfullscreen></iframe></div></div>"
            ]
          },
          "metadata": {},
          "execution_count": 414
        }
      ]
    },
    {
      "cell_type": "markdown",
      "source": [
        "# **Resultados**"
      ],
      "metadata": {
        "id": "J2u4AuCXj33e"
      }
    },
    {
      "cell_type": "markdown",
      "source": [
        "A análise dos dados revelou oportunidades e ameaças para o empreendimento Airbnb. Dentre tantos fatores relevantes temos:\n",
        "\n",
        "1. forte correlação positiva (0.65) entre a avaliação de limpeza e a avaliação\n",
        "geral;\n",
        "Isso indica que a percepção dos usuários em relação à limpeza tem um impacto significativo na avaliação geral da acomodação.\n",
        "\n",
        "2. correlação moderada (0.30) entre a avaliação geral e o status de Superhost;\n",
        "Isso sugere que os anfitriões com o status de superhost tendem a receber avaliações mais positivas dos usuários.\n",
        "\n",
        "3. correlação moderada (0.31) entre o status de superhost e a avaliação de limpeza;\n",
        "indicando que os superhosts têm maior probabilidade de receber avaliações positivas em relação à limpeza.\n",
        "\n",
        "4. correlação negativa fraca (-0.06) entre o preço e o status de superhost;\n",
        " Isso sugere que os superhosts podem cobrar preços mais altos em comparação com os anfitriões regulares.No entanto, apenas 29% dos anfitriões são superhosts, o que sugere uma oportunidade para a empresa incentivar mais anfitriões a alcançarem esse status, a fim de atrair mais reservas. Essa informação pode ser útil para que a empresa promova campanhas e incentive mais anfitriões a se tornarem superhosts, pois isso pode resultar em uma melhoria nas avaliações e, potencialmente, em um aumento nos preços.  \n",
        "\n",
        "> Outra descoberta importante foi que a maioria das reservas (99%) é para quartos privados ou espaços/apartamentos inteiros. Isso indica uma tendência dos usuários em buscar privacidade durante suas estadias.\n",
        "\n",
        " Cerca de 80% das reservas são de propriedades localizadas a uma distância de até 4.02km do centro. Essa tendência indica claramente a preferência dos hóspedes pela localização próxima ao centro, valorizando a conveniência e acessibilidade oferecidas por essas propriedades.\"\n",
        "\n",
        " Por fim, notamos que 88% das reservas são de espaços que não possuem ambiente de trabalho, esse dado pode indicar a indisponibilidade do ambiente de trabalho nas propriedades. Com o aumento do trabalho remoto e do home office, é recomendado que a empresa promova a disponibilidade de acomodações com espaços adequados para trabalho, a fim de atender à demanda crescente para este público.\n",
        "\n",
        "\n",
        "Com base nas descobertas, a empresa Airbnb pode tomar medidas para melhorar a qualidade das acomodações, promover o status de superhost, diversificar as opções de acomodação a fim de atender às necessidades dos usuários, garantindo uma experiência positiva e atraindo mais reservas.\n",
        "\n",
        "Além das descobertas mencionadas, é importante ressaltar que a análise de dados da empresa Airbnb foi limitada devido à falta de algumas informações relevantes. Entre essas informações ausentes, destaca-se o número total de acomodações disponíveis, suas características específicas e perfil dos usuários que realizaram as reservas. Portanto, é recomendável a coleta e armazenamento adequado dessas informações faltantes, a fim de enriquecer a análise de dados futura visto que esses dados seriam essenciais para entender melhor a distribuição das reservas e identificar possíveis oportunidades, assim como fornecer insights valiosos para direcionar estratégias de marketing e personalizar a experiência do usuário."
      ],
      "metadata": {
        "id": "cUHNtADG8XXs"
      }
    }
  ],
  "metadata": {
    "colab": {
      "provenance": [],
      "history_visible": true,
      "collapsed_sections": [
        "O1DmASG2x2PA",
        "Gvwcd2M01tnB",
        "pDBu6V6Fjl3t",
        "RAAGzOkAMyQF",
        "SSVecAGoNVPo",
        "Hgfm9wfawEx7",
        "6iq9JasPlwIg",
        "BEGtzIZqNxRJ",
        "2M_d4seFm-Q_",
        "GOU8zYQxnrDS",
        "LZ3DXncxefQI",
        "r8S4j8C-oNv0",
        "TmZbz-trBNwE",
        "tpW25ZEbPDQI",
        "wTTNKmW1HKs3",
        "emR8NoU1xY89",
        "gc5_th0yztkE"
      ],
      "include_colab_link": true
    },
    "kernelspec": {
      "display_name": "Python 3",
      "name": "python3"
    },
    "language_info": {
      "name": "python"
    }
  },
  "nbformat": 4,
  "nbformat_minor": 0
}