{
  "nbformat": 4,
  "nbformat_minor": 0,
  "metadata": {
    "colab": {
      "provenance": []
    },
    "kernelspec": {
      "name": "python3",
      "display_name": "Python 3"
    },
    "language_info": {
      "name": "python"
    }
  },
  "cells": [
    {
      "cell_type": "code",
      "execution_count": null,
      "metadata": {
        "colab": {
          "base_uri": "https://localhost:8080/"
        },
        "id": "iELlBRi7XyJK",
        "outputId": "1d42007d-a671-4b74-8557-0490bd4081f7"
      },
      "outputs": [
        {
          "output_type": "stream",
          "name": "stdout",
          "text": [
            "Digite um número inteiro: 5\n",
            "O número é menor que 10\n"
          ]
        }
      ],
      "source": [
        "# 1. Faça um algoritmo que leia um número inteiro e diga se ele é maior, menor ou igual a 10;\n",
        "numero = int(input(\"Digite um número inteiro: \"))\n",
        "\n",
        "if numero > 10:\n",
        " print(\"O número é maior que 10\")\n",
        "elif numero < 10:\n",
        " print(\"O número é menor que 10\")\n",
        "else:\n",
        " print(\"O número é igual a 10\")\n"
      ]
    },
    {
      "cell_type": "code",
      "source": [
        "# 2. Faça um algoritmo que leia dois números inteiros e apresente na tela o maior deles ou se eles são iguais.\n",
        "\n",
        "# Read the two numbers\n",
        "num1 = int(input(\"Digite o primeiro número: \"))\n",
        "num2 = int(input(\"Digite o segundo número: \"))\n",
        "\n",
        "# Compare the numbers and print the result\n",
        "if num1 > num2:\n",
        " print(\"O primeiro número é maior:\", num1)\n",
        "elif num2 > num1:\n",
        " print(\"O segundo número é maior:\", num2)\n",
        "else:\n",
        " print(\"Os números são iguais\")"
      ],
      "metadata": {
        "colab": {
          "base_uri": "https://localhost:8080/"
        },
        "id": "ciDCCOKGX0DX",
        "outputId": "6bca6de1-cd1a-4874-a139-30f50d21e17c"
      },
      "execution_count": null,
      "outputs": [
        {
          "output_type": "stream",
          "name": "stdout",
          "text": [
            "Digite o primeiro número: 2\n",
            "Digite o segundo número: 2\n",
            "Os números são iguais\n"
          ]
        }
      ]
    },
    {
      "cell_type": "code",
      "source": [
        "# 3.Crie um algoritmo que leia um número e diga se ele está no intervalo fechado entre 25 e 200.\n",
        "\n",
        "numero = int(input(\"Digite um número: \"))\n",
        "if 25 <= numero <= 200:\n",
        " print(\"O número está no intervalo entre 25 e 200\")\n",
        "else:\n",
        " print(\"O número não está no intervalo entre 25 e 200\")"
      ],
      "metadata": {
        "colab": {
          "base_uri": "https://localhost:8080/"
        },
        "id": "QZadOjaAYhoM",
        "outputId": "8d500c34-3990-492b-c8bb-bbe12cd80c80"
      },
      "execution_count": null,
      "outputs": [
        {
          "output_type": "stream",
          "name": "stdout",
          "text": [
            "Digite um número: 2\n",
            "O número não está no intervalo entre 25 e 200\n"
          ]
        }
      ]
    },
    {
      "cell_type": "code",
      "source": [
        "# 4. Crie um algoritmo que leia um número e informe na tela se o mesmo é positivo. Caso seja, mostre o número na tela;\n",
        "\n",
        "numero = int(input(\"Digite um número: \"))\n",
        "if numero > 0:\n",
        " print (\"O numero é positivo: \", numero)"
      ],
      "metadata": {
        "colab": {
          "base_uri": "https://localhost:8080/"
        },
        "id": "h-b3lGzAaRpj",
        "outputId": "fe07255b-9349-4316-afa1-b4df176de56d"
      },
      "execution_count": null,
      "outputs": [
        {
          "output_type": "stream",
          "name": "stdout",
          "text": [
            "Digite um número: 2\n",
            "O numero é positivo:  2\n"
          ]
        }
      ]
    },
    {
      "cell_type": "code",
      "source": [
        "# 5. Crie um algoritmo que leia um número e informe se ele é divisível por 7.\n",
        "\n",
        "numero = int(input(\"Digite um número: \") )\n",
        "if numero % 7 == 0:\n",
        "  print(\"O seguinte número é divisivel por 7: \",numero)\n"
      ],
      "metadata": {
        "colab": {
          "base_uri": "https://localhost:8080/"
        },
        "id": "_lDwlKa8bL5r",
        "outputId": "c0d066f9-2cd7-41e2-9f2f-af06d6940059"
      },
      "execution_count": null,
      "outputs": [
        {
          "output_type": "stream",
          "name": "stdout",
          "text": [
            "Digite um número: 14\n",
            "O seguinte número é divisivel por 7:  14\n"
          ]
        }
      ]
    },
    {
      "cell_type": "code",
      "source": [
        "# 6. Crie um algoritmo que leia um número e diga se ele é par ou ímpar.\n",
        "\n",
        "numero = int(input(\"Digite um numero: \"))\n",
        "\n",
        "if numero % 2 == 0:\n",
        "  print(\"O numero é par! \")\n",
        "else:\n",
        " print(\"O número é impar! \")\n"
      ],
      "metadata": {
        "colab": {
          "base_uri": "https://localhost:8080/"
        },
        "id": "EP8L-g21b8L1",
        "outputId": "608e9d27-ed04-412f-d86f-9df1d3a93422"
      },
      "execution_count": null,
      "outputs": [
        {
          "output_type": "stream",
          "name": "stdout",
          "text": [
            "Digite um numero: 3\n",
            "O número é impar! \n"
          ]
        }
      ]
    },
    {
      "cell_type": "code",
      "source": [
        "# 7. Escreva um programa em Python que solicite ao usuário que digite uma letra. Em seguida, verifique se a letra digitada é uma vogal ou não.\n",
        "\n",
        "letra = str(input(\"Digite uma letra: \"))\n",
        "\n",
        "if letra == \"a\" or \"e\" or \"i\" or \"o\" or \"u\":\n",
        "  print(\"a letra é uma vogal! \")"
      ],
      "metadata": {
        "colab": {
          "base_uri": "https://localhost:8080/"
        },
        "id": "jZKzcoCucdL7",
        "outputId": "4ae02b0f-4e16-4dfc-a5f4-0fe76a51cfb1"
      },
      "execution_count": null,
      "outputs": [
        {
          "output_type": "stream",
          "name": "stdout",
          "text": [
            "Digite uma letra: e\n",
            "a letra é uma vogal! \n"
          ]
        }
      ]
    },
    {
      "cell_type": "code",
      "source": [
        "# 8. Escreva um programa que solicite ao usuário três notas de um aluno e calcule a média.\n",
        "# Em seguida, exiba a média e uma mensagem informando se o aluno foi aprovado (média maior ou igual a 7) ou reprovado.\n",
        "\n",
        "nota1 = int(input(\"Digite a primeira nota: \"))\n",
        "nota2 = int(input(\"Digite a segunda nota: \"))\n",
        "nota3 = int(input(\"Digite a terceira nota: \"))\n",
        "\n",
        "media = (nota1 + nota2 + nota3)/3\n",
        "media = int(media)\n",
        "print (\"A sua média é: \", media)"
      ],
      "metadata": {
        "colab": {
          "base_uri": "https://localhost:8080/"
        },
        "id": "hKJgix41dmZ2",
        "outputId": "c38f4ed3-cac3-4895-d1f7-8c3e34bbd886"
      },
      "execution_count": null,
      "outputs": [
        {
          "output_type": "stream",
          "name": "stdout",
          "text": [
            "Digite a primeira nota: 10\n",
            "Digite a segunda nota: 9\n",
            "Digite a terceira nota: 8\n",
            "A sua média é:  9\n"
          ]
        }
      ]
    },
    {
      "cell_type": "code",
      "source": [
        "# 9. Escreva um programa que solicite ao usuário os comprimentos dos três lados de um triângulo.\n",
        "# Em seguida, exiba uma mensagem informando se o triângulo é equilátero (todos\n",
        "# os lados iguais), isósceles (dois lados iguais) ou escaleno (todos os lados diferentes).\n",
        "\n",
        "lado1 = int(input(\"Digite o comprimento do triangulo - lado 1: \"))\n",
        "lado2 = int(input(\"Digite o comprimento do triangulo - lado 2:\"))\n",
        "lado3 = int(input(\"Digite o comprimento do triangulo - lado 3:\"))\n",
        "\n",
        "if lado1 == lado2 & lado3:\n",
        "  print(\"O triangulo é equilátero! \")\n",
        "elif lado1 == (lado2 or lado3) or lado2 == lado3:\n",
        " print(\"O triangulo é isóceles! \")\n",
        "elif lado1 != (lado2 & lado3):\n",
        "  print(\"O triangulo é escaleno! \")"
      ],
      "metadata": {
        "colab": {
          "base_uri": "https://localhost:8080/"
        },
        "id": "KAuw5Y5megRf",
        "outputId": "6575518c-683f-45d1-f644-323cae759508"
      },
      "execution_count": null,
      "outputs": [
        {
          "output_type": "stream",
          "name": "stdout",
          "text": [
            "Digite o comprimento do triangulo - lado 1: 2\n",
            "Digite o comprimento do triangulo - lado 2:2\n",
            "Digite o comprimento do triangulo - lado 3:2\n",
            "O triangulo é equilátero! \n"
          ]
        }
      ]
    },
    {
      "cell_type": "code",
      "source": [
        "2# 10.Escreva um programa que solicite ao usuário sua idade e exiba uma mensagem informando em qual faixa etária ele se encontra:\n",
        "# criança (0-12 anos), adolescente (13-17 anos), adulto (18-59 anos) ou idoso (60 anos ou mais).\n",
        "idade = int(input(\"Digite a sua idade: \"))\n",
        "\n",
        "if idade <= 12:\n",
        " print(\"Você é uma criança.\")\n",
        "elif idade <= 17:\n",
        " print(\"Você é um adolescente.\")\n",
        "elif idade <= 59:\n",
        " print(\"Você é um adulto.\")\n",
        "else:\n",
        " print(\"Você é um idoso.\")"
      ],
      "metadata": {
        "colab": {
          "base_uri": "https://localhost:8080/"
        },
        "id": "eEFiFU3DZSWA",
        "outputId": "1370e8ab-d8f9-4ccc-8366-c3ffbcb85b73"
      },
      "execution_count": null,
      "outputs": [
        {
          "output_type": "stream",
          "name": "stdout",
          "text": [
            "Digite a sua idade: 20\n",
            "Você é um adulto.\n"
          ]
        }
      ]
    },
    {
      "cell_type": "code",
      "source": [],
      "metadata": {
        "id": "uICkgF2sZwNG"
      },
      "execution_count": null,
      "outputs": []
    }
  ]
}