{
  "cells": [
    {
      "cell_type": "markdown",
      "metadata": {
        "id": "view-in-github",
        "colab_type": "text"
      },
      "source": [
        "<a href=\"https://colab.research.google.com/github/jessica97caroline/Atividades_Python_AD2/blob/main/PJ_Airbnb_JessicaSantos.ipynb\" target=\"_parent\"><img src=\"https://colab.research.google.com/assets/colab-badge.svg\" alt=\"Open In Colab\"/></a>"
      ]
    },
    {
      "cell_type": "markdown",
      "metadata": {
        "id": "PmOsBOb0uKhO"
      },
      "source": [
        "# **Análise Explorarória de Dados - Case Airbnb**\n",
        "\n",
        "Aluno: Jéssica Caroline dos Santos\n",
        "\n",
        "Curso: Bootcamp Analista de Dados - Martech - AD2\n",
        "\n",
        "Escola: SoulCode Academy\n",
        "\n",
        "Período: Semana 6 - ETL\n",
        "\n",
        "Professor: Franciane Rodrigues\n",
        "\n",
        "---\n",
        "\n",
        "\n"
      ]
    },
    {
      "cell_type": "markdown",
      "source": [
        "## **Informações gerais**\n",
        "\n",
        "Este documento apresenta uma análise exploratória de dados do Airbnb. Neste estudo, buscamos compreender as informações contidas nos dados coletados a fim de identificar padrões e tendências que possam influenciar a satisfação dos hóspedes.\n",
        "\n",
        "\n",
        "Para realizar essa análise, utilizamos o Google Colab, uma plataforma que nos permite explorar e visualizar os dados de forma interativa. Além disso, contamos com o suporte do Google Drive e do Google Cloud para armazenar e compartilhar os dados de forma segura e colaborativa.\n",
        "\n",
        "\n",
        "Ao identificar padrões e tendências nos dados, podemos fornecer insights valiosos para proprietários de acomodações, ajudando-os a otimizar suas ofertas e melhorar a experiência dos hóspedes. Além disso, essas informações podem ser úteis para os próprios viajantes, auxiliando-os na escolha da acomodação ideal para suas necessidades."
      ],
      "metadata": {
        "id": "O1DmASG2x2PA"
      }
    },
    {
      "cell_type": "markdown",
      "source": [
        "### **Sobre este arquivo:**\n",
        "\n",
        "| Nome da coluna   | Descrição | Tipo |\n",
        "| ------------ | ------ |------ |\n",
        "| realSum   |  O preço total do anúncio do Airbnb    | Numérico |\n",
        "| room_type  | O tipo de quarto oferecido (quarto privado, quarto compartilhado, casa inteira/apto) | Categórico   |\n",
        "| room_shared  | Se o quarto é compartilhado ou não | Boleano     |\n",
        "| room_private  | Se o quarto é privado ou não. | Boleano    |\n",
        "| person_capacity  | O número máximo de pessoas que podem ser acomodadas em um único anúncio. | Numérico   |\n",
        "| host_is_superhost  | Se um determinado host é ou não identificado como superhost* no Airbnb. | Boleano    |\n",
        "| multi  | Se vários quartos são fornecidos em uma listagem individual ou não. | Boleano    |\n",
        "| biz  | Se uma listagem específica oferece instalações de negócios, como área de reunião/salas de conferência, além de opções de acomodação. | Boleano    |\n",
        "| cleanliness_rating  | A classificação associada à limpeza | Numérico    |\n",
        "| guest_satisfaction_overall  | A classificação geral que mostra o grau de satisfação dos hóspedes com a estadia | Numérico    |\n",
        "| bedrooms  | quantidade total de quartos disponíveis entre todas as propriedades em um único id de hospedagem | Numérico    |\n",
        "| dist  | Distância do centro da cidade associada a cada propriedade alugada (quilometros/milhas) | Numérico    |\n",
        "| metro_dist  | Distância da estação de metrô associada a cada propriedade alugada (quilometros/milhas | Numérico    |\n",
        "| attr_index  | índice de atração do local do anúncio | Numérico    |\n",
        "| rest_index  | índice do restaurante do local da listagem | Numérico   |\n",
        "| attr_index_norm  | índice de atração normalizado | Numérico    |\n",
        "| rest_index_norm  | índice de restaurante normalizado | Numérico    |\n",
        "| lng  | Medição da longitude correspondente a cada unidade alugada. | Numérico    |\n",
        "| lat  | Medição da latitude correspondente a cada unidade de aluguel. | Numérico    |\n",
        "\n",
        "*O status de superhost, uma distinção concedida aos anfitriões que atendem a critérios específicos, será analisado para entender seu impacto na experiência dos hóspedes e no sucesso dos anfitriões.\n",
        "Acesso:\n",
        "https://www.kaggle.com/datasets/thedevastator/airbnb-price-determinants-in-europe\n"
      ],
      "metadata": {
        "id": "Gvwcd2M01tnB"
      }
    },
    {
      "cell_type": "markdown",
      "source": [
        "**Procedimento de Importação e Instalação de Bibliotecas**"
      ],
      "metadata": {
        "id": "zuNGeMaa2FW8"
      }
    },
    {
      "cell_type": "code",
      "execution_count": null,
      "metadata": {
        "id": "DnfeUOnTPNFU"
      },
      "outputs": [],
      "source": [
        "!pip install gcsfs      # biblioteca Python que permite interagir com o Google Cloud Storage (GCS)\n",
        "!pip install pandera    # biblioteca Python para validação de dados"
      ]
    },
    {
      "cell_type": "code",
      "execution_count": 341,
      "metadata": {
        "id": "B5jkcyWXiL5z"
      },
      "outputs": [],
      "source": [
        "import os                           # Interage com o sistema operacional\n",
        "import pandas as pd                 # Fornece ferramentas para manipulação, limpeza, análise e visualização de dados.\n",
        "import numpy as np                  # Fornece suporte para matrizes multidimensionais, funções matemáticas avançadas e manipulação eficiente de dados numéricos\n",
        "import pandera as pa                # Adiciona recursos de validação de dados ao pandas, permite a definição de esquemas e regras para verificar a qualidade e integridade dos dados.\n",
        "import datetime as dt               # Permite trabalhar com datas e horários de forma eficiente\n",
        "import folium\n",
        "import matplotlib.pyplot as plt     # Biblioteca de visualização\n",
        "import seaborn as sns\n",
        "\n",
        "from google.cloud import storage    # Módulo com funcionalidades para interagir com o Google Cloud Platform (GCP)"
      ]
    },
    {
      "cell_type": "code",
      "execution_count": 336,
      "metadata": {
        "id": "yDK3TgMRjAdZ"
      },
      "outputs": [],
      "source": [
        "import warnings\n",
        "warnings.filterwarnings(\"ignore\")   # Ignora advertências"
      ]
    },
    {
      "cell_type": "code",
      "execution_count": 337,
      "metadata": {
        "id": "Fkbob1pEjJ7j"
      },
      "outputs": [],
      "source": [
        "pd.set_option('display.max_columns',100)    # Limita a quantidade de colunas no DataFrame"
      ]
    },
    {
      "cell_type": "markdown",
      "metadata": {
        "id": "pDBu6V6Fjl3t"
      },
      "source": [
        "# **Coleta dos Dados**"
      ]
    },
    {
      "cell_type": "markdown",
      "metadata": {
        "id": "RAAGzOkAMyQF"
      },
      "source": [
        "### **Google Drive**"
      ]
    },
    {
      "cell_type": "code",
      "execution_count": null,
      "metadata": {
        "colab": {
          "base_uri": "https://localhost:8080/"
        },
        "id": "oF9xlGMYjpun",
        "outputId": "c0651cb3-e8b9-4542-a367-97966f27e010"
      },
      "outputs": [
        {
          "output_type": "stream",
          "name": "stdout",
          "text": [
            "Drive already mounted at /content/drive; to attempt to forcibly remount, call drive.mount(\"/content/drive\", force_remount=True).\n"
          ]
        }
      ],
      "source": [
        "from google.colab import drive      # permite acessar e montar o Google Drive no ambiente de desenvolvimento do Google Colab\n",
        "drive.mount('/content/drive')"
      ]
    },
    {
      "cell_type": "code",
      "execution_count": null,
      "metadata": {
        "id": "IdN8Nc-ak_JX"
      },
      "outputs": [],
      "source": [
        "df = pd.read_csv('/content/drive/MyDrive/case_airbnb/bd_airbnb.csv',  # lê e armazena o arquivo no dataframe 'df'\n",
        "                 sep=',',\n",
        "                 encoding='ISO-8859-1',\n",
        "                 dayfirst = True)"
      ]
    },
    {
      "cell_type": "markdown",
      "metadata": {
        "id": "SSVecAGoNVPo"
      },
      "source": [
        "###**Google Cloud**"
      ]
    },
    {
      "cell_type": "markdown",
      "metadata": {
        "id": "NDQUoVq7Oqvf"
      },
      "source": [
        "####Acesso atráves da chave de segurança"
      ]
    },
    {
      "cell_type": "code",
      "execution_count": null,
      "metadata": {
        "id": "0-b2vKVQunWw"
      },
      "outputs": [],
      "source": [
        "serviceAccount = '/projetoairbnb-9c055dd4d325.json'\n",
        "os.environ['GOOGLE_APPLICATION_CREDENTIALS'] = serviceAccount"
      ]
    },
    {
      "cell_type": "markdown",
      "metadata": {
        "id": "7DXy8XYZPhNU"
      },
      "source": [
        "##### Acesso ao arquivo armazenado na bucket da GCP"
      ]
    },
    {
      "cell_type": "code",
      "execution_count": null,
      "metadata": {
        "id": "Mi_INTjZNbBn"
      },
      "outputs": [],
      "source": [
        "client = storage.Client()\n",
        "bucket = client.get_bucket('bucket_case_airbnb')                 # nome da bucket\n",
        "bucket.blob('bd_airbnb.csv')                                     # nome do arquivo\n",
        "path = 'gs://bucket_case_airbnb/Dado_Bruto/bd_airbnb.csv'        # URL gsutil"
      ]
    },
    {
      "cell_type": "markdown",
      "metadata": {
        "id": "xXrmsnmjQUWU"
      },
      "source": [
        "#### Leitura, armazenamento e cópia de segurança da base de dados"
      ]
    },
    {
      "cell_type": "code",
      "execution_count": null,
      "metadata": {
        "id": "hNZiDRgyNatg"
      },
      "outputs": [],
      "source": [
        "df = pd.read_csv(path,\n",
        "                 sep=',',\n",
        "                 encoding='ISO-8859-1',\n",
        "                 dayfirst = True)\n",
        "dfback = df.copy()"
      ]
    },
    {
      "cell_type": "markdown",
      "metadata": {
        "id": "Hgfm9wfawEx7"
      },
      "source": [
        "# **Limpeza e pré-processamento**"
      ]
    },
    {
      "cell_type": "code",
      "execution_count": null,
      "metadata": {
        "id": "APtBrD3RxNlu"
      },
      "outputs": [],
      "source": [
        "df   # Visualização do DataFrame"
      ]
    },
    {
      "cell_type": "code",
      "execution_count": null,
      "metadata": {
        "id": "ZbW4uPIsxdU-"
      },
      "outputs": [],
      "source": [
        "df.head()   # Visualiza as 5 primeiras linhas"
      ]
    },
    {
      "cell_type": "code",
      "execution_count": null,
      "metadata": {
        "id": "XgXTrb3n0U99"
      },
      "outputs": [],
      "source": [
        "df.tail()   # Visualiza as 5 ultimas linhas"
      ]
    },
    {
      "cell_type": "code",
      "execution_count": null,
      "metadata": {
        "id": "tW14uo7h0k89"
      },
      "outputs": [],
      "source": [
        "df.sample(5)   # Visualiza uma amostra aleatória de 5 linhas"
      ]
    },
    {
      "cell_type": "code",
      "execution_count": null,
      "metadata": {
        "id": "w9LwL7Ks1eXs"
      },
      "outputs": [],
      "source": [
        "df.shape   # Tamanho do Dataframe (linhas, colunas)"
      ]
    },
    {
      "cell_type": "code",
      "execution_count": null,
      "metadata": {
        "id": "brO1Mgab1l9X"
      },
      "outputs": [],
      "source": [
        "df.dtypes   # Verifica o tipo de dado em cada coluna"
      ]
    },
    {
      "cell_type": "code",
      "execution_count": null,
      "metadata": {
        "id": "NBSt8r5L1zto"
      },
      "outputs": [],
      "source": [
        "df.count()  # contabiliza a quantidade de valores em cada coluna, excluindo qualquer valor nulo ou ausente"
      ]
    },
    {
      "cell_type": "code",
      "execution_count": null,
      "metadata": {
        "id": "l83nRNbE2pVM"
      },
      "outputs": [],
      "source": [
        "df.info()   # visão geral (nome da coluna, quantidade de valores não nulos em cada coluna, tipo de dado e uso de memória."
      ]
    },
    {
      "cell_type": "code",
      "execution_count": null,
      "metadata": {
        "id": "EPKr65CJ3eBs"
      },
      "outputs": [],
      "source": [
        "dfback1 = df.copy()   # Backup local"
      ]
    },
    {
      "cell_type": "markdown",
      "metadata": {
        "id": "eA-f-xFNdseI"
      },
      "source": [
        "* Tradução/Renomeação"
      ]
    },
    {
      "cell_type": "code",
      "execution_count": null,
      "metadata": {
        "id": "nco9s1n0YAef"
      },
      "outputs": [],
      "source": [
        "print(df.columns)"
      ]
    },
    {
      "cell_type": "code",
      "execution_count": null,
      "metadata": {
        "id": "Or-6ukB-YOhq"
      },
      "outputs": [],
      "source": [
        "df.rename(columns={'Unnamed: 0': 'ID',\n",
        "                   'realSum':'preco_total',\n",
        "                   'room_type':'tipo_acomodacao',\n",
        "                   'room_shared':'quarto_compartilhado',\n",
        "                   'room_private':'quarto_privado',\n",
        "                   'person_capacity':'capacidade_maxima',\n",
        "                   'host_is_superhost':'superhost',\n",
        "                   'cleanliness_rating':'limpeza',\n",
        "                   'guest_satisfaction_overall':'avaliacao_geral',\n",
        "                   'bedrooms':'qnt_quartos',\n",
        "                   'dist':'distancia_centro',\n",
        "                   'metro_dist':'distancia_metro',\n",
        "                   'attr_index':'atracao',\n",
        "                   'attr_index_norm':'atracao_normalizado',\n",
        "                   'rest_index':'restaurante',\n",
        "                   'rest_index_norm':'restaurante_normalizado',\n",
        "                   'lng':'longitude',\n",
        "                   'lat':'latitude'}, inplace=True)"
      ]
    },
    {
      "cell_type": "code",
      "execution_count": null,
      "metadata": {
        "id": "ankDHin1dRWy"
      },
      "outputs": [],
      "source": [
        "print(df.columns)"
      ]
    },
    {
      "cell_type": "markdown",
      "metadata": {
        "id": "2imki2eEfqGL"
      },
      "source": [
        "* Verifica se existe colunas iguais:"
      ]
    },
    {
      "cell_type": "code",
      "execution_count": null,
      "metadata": {
        "id": "CtzTeY5xOVFq"
      },
      "outputs": [],
      "source": [
        "colunas_verificar = ['preco_total', 'tipo_acomodacao', 'quarto_compartilhado',\n",
        "       'quarto_privado', 'capacidade_maxima', 'superhost', 'multi', 'biz',\n",
        "       'limpeza', 'avaliacao_geral', 'qnt_quartos', 'distancia_centro',\n",
        "       'distancia_metro', 'atracao', 'atracao_normalizado', 'restaurante',\n",
        "       'restaurante_normalizado', 'longitude', 'latitude']\n",
        "\n",
        "\n",
        "for coluna in colunas_verificar:   # Verifica se existe alguma coluna iguai à coluna 'ID'\n",
        "    if (df['ID']== df[coluna]).all():\n",
        "        print(f\"A coluna {coluna} é igual à coluna 'ID'.\")\n",
        "    else:\n",
        "        print(f\"A coluna {coluna} é diferente da coluna 'ID'.\")"
      ]
    },
    {
      "cell_type": "markdown",
      "metadata": {
        "id": "t9KQAfcZgRTp"
      },
      "source": [
        "* verifica se existem colunas com valores únicos:"
      ]
    },
    {
      "cell_type": "code",
      "execution_count": null,
      "metadata": {
        "id": "ZBt7RXadPIra"
      },
      "outputs": [],
      "source": [
        "for coluna in df.columns:\n",
        "    if df[coluna].nunique() == df.shape[0]:\n",
        "        print(f\"A coluna {coluna} possui valores únicos.\")\n",
        "    else:\n",
        "        print(f\"A coluna {coluna} não possui valores únicos.\")"
      ]
    },
    {
      "cell_type": "markdown",
      "metadata": {
        "id": "yODp7Mg5r1wH"
      },
      "source": [
        "* Ordenação e exibição de valores unicos:"
      ]
    },
    {
      "cell_type": "code",
      "execution_count": null,
      "metadata": {
        "id": "T8GYLQO2rk-5"
      },
      "outputs": [],
      "source": [
        "valores_unicos = sorted(pd.unique(df['preco_total']))\n",
        "saida = '\\n'.join(map(str, valores_unicos))\n",
        "print(saida)"
      ]
    },
    {
      "cell_type": "code",
      "execution_count": null,
      "metadata": {
        "id": "2oOzzRoXeJDn"
      },
      "outputs": [],
      "source": [
        "print(sorted(pd.unique(df['preco_total'])))"
      ]
    },
    {
      "cell_type": "markdown",
      "source": [
        "* Limitar os valores da coluna a duas casas decimais:"
      ],
      "metadata": {
        "id": "BGG2Q403Q3Py"
      }
    },
    {
      "cell_type": "code",
      "source": [
        "df['distancia_centro'] = df['distancia_centro'].apply(lambda x: round(x, 2))\n",
        "df['distancia_metro'] = df['distancia_metro'].apply(lambda x: round(x, 2))"
      ],
      "metadata": {
        "id": "FZdUrbJGQ1p6"
      },
      "execution_count": 265,
      "outputs": []
    },
    {
      "cell_type": "code",
      "source": [
        "# Identificar o valor máximo e mínimo da coluna1\n",
        "valor_maximo = df['distancia_centro'].max()\n",
        "valor_minimo = df['distancia_centro'].min()\n",
        "\n",
        "# Imprimir os resultados\n",
        "print(\"Valor máximo:\", valor_maximo)\n",
        "print(\"Valor mínimo:\", valor_minimo)"
      ],
      "metadata": {
        "id": "TVFCt0roRqhe"
      },
      "execution_count": null,
      "outputs": []
    },
    {
      "cell_type": "markdown",
      "metadata": {
        "id": "S4vtRlvpoQaw"
      },
      "source": [
        "* Exibe valores unicos ordenados de todas colunas do Dataframe:"
      ]
    },
    {
      "cell_type": "code",
      "execution_count": null,
      "metadata": {
        "id": "yWlmsQE4YSaL"
      },
      "outputs": [],
      "source": [
        "for coluna in df.columns:\n",
        "    valores_unicos = sorted(df[coluna].unique())\n",
        "    print(f\"\\n\\n Valores únicos da coluna {coluna}: \\n{valores_unicos}\\n\\n\")\n",
        "    print('______________________________________________________________________________________________________________')"
      ]
    },
    {
      "cell_type": "markdown",
      "metadata": {
        "id": "EnHSE7EnlYzM"
      },
      "source": [
        "* Verificar dados Nulos, ausentes, etc"
      ]
    },
    {
      "cell_type": "code",
      "execution_count": null,
      "metadata": {
        "id": "imKX5lscQdw3"
      },
      "outputs": [],
      "source": [
        "df.isna().sum()"
      ]
    },
    {
      "cell_type": "markdown",
      "metadata": {
        "id": "ZKUbm5F2l04z"
      },
      "source": [
        "* Calcula e exibe a porcentagem de valores nulos em cada coluna:"
      ]
    },
    {
      "cell_type": "code",
      "execution_count": null,
      "metadata": {
        "id": "tMLuRxglSsnm"
      },
      "outputs": [],
      "source": [
        "porcentagem_nulos = (df.isnull().sum() / len(df)) * 100\n",
        "print(round(porcentagem_nulos,1))"
      ]
    },
    {
      "cell_type": "markdown",
      "metadata": {
        "id": "Tz3KLQELppnC"
      },
      "source": [
        "* Retirada de colunas com problemas e/ou não utilizadas na análise:"
      ]
    },
    {
      "cell_type": "code",
      "execution_count": 305,
      "metadata": {
        "id": "AOwAYW0bavMQ"
      },
      "outputs": [],
      "source": [
        "df.drop(['multi',\n",
        "         'restaurante_normalizado',\n",
        "         'atracao_normalizado',],axis=1,inplace=True)"
      ]
    },
    {
      "cell_type": "markdown",
      "metadata": {
        "id": "NJtNcUKswBaZ"
      },
      "source": [
        "* Correção de inconsistência:"
      ]
    },
    {
      "cell_type": "code",
      "execution_count": null,
      "metadata": {
        "id": "3uueeRZLuFiW"
      },
      "outputs": [],
      "source": [
        "df.replace(pd.NA, np.NaN, inplace=True)   # Transformação de pd.NA para np.NaN (recomendado)"
      ]
    },
    {
      "cell_type": "markdown",
      "metadata": {
        "id": "Yx6Uxn86wRT6"
      },
      "source": [
        "* Remove linhas com valores ausentes (NaN)"
      ]
    },
    {
      "cell_type": "code",
      "execution_count": null,
      "metadata": {
        "id": "jjohYcSc5KT4"
      },
      "outputs": [],
      "source": [
        "df = df.dropna()\n",
        "df.info()"
      ]
    },
    {
      "cell_type": "markdown",
      "metadata": {
        "id": "KtImYPe8xxs_"
      },
      "source": [
        "* Transformação do tipo de dado:"
      ]
    },
    {
      "cell_type": "code",
      "execution_count": null,
      "metadata": {
        "id": "ejE9Ivgh721G"
      },
      "outputs": [],
      "source": [
        "df['preco_total'] = df['preco_total'].astype(int)\n",
        "df['capacidade_maxima'] = df['capacidade_maxima'].astype(int)"
      ]
    },
    {
      "cell_type": "code",
      "execution_count": null,
      "metadata": {
        "id": "pcNq6i_I93NT"
      },
      "outputs": [],
      "source": [
        "df['tipo_acomodacao'] = df['tipo_acomodacao'].astype(str)   # Converter a coluna para o tipo de dado 'string'"
      ]
    },
    {
      "cell_type": "markdown",
      "source": [
        "* substituir valores na coluna 'tipo_acomodacao'"
      ],
      "metadata": {
        "id": "uf8nim_R3Krn"
      }
    },
    {
      "cell_type": "code",
      "source": [
        "df['tipo_acomodacao'] = df['tipo_acomodacao'].replace(['Private room', 'Entire home/apt','Shared room'], ['Quarto Privado', 'Espaço inteiro', 'Quarto compartilhado'])\n",
        "df"
      ],
      "metadata": {
        "id": "Txpo2nTN1yto"
      },
      "execution_count": null,
      "outputs": []
    },
    {
      "cell_type": "code",
      "execution_count": null,
      "metadata": {
        "id": "SjEjRfYOA7j2"
      },
      "outputs": [],
      "source": [
        "df.dtypes   # Colunas do dataframe"
      ]
    },
    {
      "cell_type": "markdown",
      "source": [
        "## **Backup do Dataframe tratado**"
      ],
      "metadata": {
        "id": "6iq9JasPlwIg"
      }
    },
    {
      "cell_type": "code",
      "execution_count": null,
      "metadata": {
        "id": "GkJC0IWKHczl"
      },
      "outputs": [],
      "source": [
        "dfback2 = df.copy()"
      ]
    },
    {
      "cell_type": "markdown",
      "source": [
        "* Exportação em uma pasta Google Drive:"
      ],
      "metadata": {
        "id": "6TdrAXuj7zX6"
      }
    },
    {
      "cell_type": "code",
      "execution_count": null,
      "metadata": {
        "id": "-RLEQ9aGKdQd"
      },
      "outputs": [],
      "source": [
        "df.to_csv('/content/drive/MyDrive/case_airbnb/bd_airbnb_tratado.csv',index=False)"
      ]
    },
    {
      "cell_type": "markdown",
      "source": [
        "* Exportação em uma pasta Google Cloud"
      ],
      "metadata": {
        "id": "cKbvUxhJ-KrG"
      }
    },
    {
      "cell_type": "code",
      "execution_count": null,
      "metadata": {
        "id": "bOrxYG5fNIHh"
      },
      "outputs": [],
      "source": [
        "'''df.to_csv('gs://bucket_case_airbnb/Dado_Tratado/bd_airbnb_tratado.csv', index=False)'''"
      ]
    },
    {
      "cell_type": "markdown",
      "metadata": {
        "id": "BEGtzIZqNxRJ"
      },
      "source": [
        "# **Análise Exploratória**"
      ]
    },
    {
      "cell_type": "markdown",
      "source": [
        "* Visualização do novo Dataframe:\n",
        "\n"
      ],
      "metadata": {
        "id": "4YvWAyGB_J4-"
      }
    },
    {
      "cell_type": "code",
      "execution_count": null,
      "metadata": {
        "id": "m3JFU0YCN0zb",
        "colab": {
          "base_uri": "https://localhost:8080/"
        },
        "outputId": "584118c8-b249-41cf-c539-d473b015391c"
      },
      "outputs": [
        {
          "output_type": "execute_result",
          "data": {
            "text/plain": [
              "   ID  preco_total tipo_acomodacao  quarto_compartilhado  quarto_privado  \\\n",
              "0   0          194  Quarto Privado                 False            True   \n",
              "1   1          344  Quarto Privado                 False            True   \n",
              "2   2          264  Quarto Privado                 False            True   \n",
              "3   3          433  Quarto Privado                 False            True   \n",
              "4   4          485  Quarto Privado                 False            True   \n",
              "\n",
              "   capacidade_maxima  superhost  multi  biz  limpeza  avaliacao_geral  \\\n",
              "0                  2      False      1    0     10.0             93.0   \n",
              "1                  4      False      0    0      8.0             85.0   \n",
              "2                  2      False      0    1      9.0             87.0   \n",
              "3                  4      False      0    1      9.0             90.0   \n",
              "4                  2       True      0    0     10.0             98.0   \n",
              "\n",
              "   qnt_quartos  distancia_centro  distancia_metro     atracao  \\\n",
              "0            1          5.022964         2.539380   78.690379   \n",
              "1            1          0.488389         0.239404  631.176378   \n",
              "2            1          5.748312         3.651621   75.275877   \n",
              "3            2          0.384862         0.439876  493.272534   \n",
              "4            1          0.544738         0.318693  552.830324   \n",
              "\n",
              "   atracao_normalizado  restaurante  restaurante_normalizado  longitude  \\\n",
              "0             4.166708    98.253896                 6.846473    4.90569   \n",
              "1            33.421209   837.280757                58.342928    4.90005   \n",
              "2             3.985908    95.386955                 6.646700    4.97512   \n",
              "3            26.119108   875.033098                60.973565    4.89417   \n",
              "4            29.272733   815.305740                56.811677    4.90051   \n",
              "\n",
              "   latitude  \n",
              "0  52.41772  \n",
              "1  52.37432  \n",
              "2  52.36103  \n",
              "3  52.37663  \n",
              "4  52.37508  "
            ],
            "text/html": [
              "\n",
              "  <div id=\"df-fffecb42-8116-4e73-afa1-3901492aa315\">\n",
              "    <div class=\"colab-df-container\">\n",
              "      <div>\n",
              "<style scoped>\n",
              "    .dataframe tbody tr th:only-of-type {\n",
              "        vertical-align: middle;\n",
              "    }\n",
              "\n",
              "    .dataframe tbody tr th {\n",
              "        vertical-align: top;\n",
              "    }\n",
              "\n",
              "    .dataframe thead th {\n",
              "        text-align: right;\n",
              "    }\n",
              "</style>\n",
              "<table border=\"1\" class=\"dataframe\">\n",
              "  <thead>\n",
              "    <tr style=\"text-align: right;\">\n",
              "      <th></th>\n",
              "      <th>ID</th>\n",
              "      <th>preco_total</th>\n",
              "      <th>tipo_acomodacao</th>\n",
              "      <th>quarto_compartilhado</th>\n",
              "      <th>quarto_privado</th>\n",
              "      <th>capacidade_maxima</th>\n",
              "      <th>superhost</th>\n",
              "      <th>multi</th>\n",
              "      <th>biz</th>\n",
              "      <th>limpeza</th>\n",
              "      <th>avaliacao_geral</th>\n",
              "      <th>qnt_quartos</th>\n",
              "      <th>distancia_centro</th>\n",
              "      <th>distancia_metro</th>\n",
              "      <th>atracao</th>\n",
              "      <th>atracao_normalizado</th>\n",
              "      <th>restaurante</th>\n",
              "      <th>restaurante_normalizado</th>\n",
              "      <th>longitude</th>\n",
              "      <th>latitude</th>\n",
              "    </tr>\n",
              "  </thead>\n",
              "  <tbody>\n",
              "    <tr>\n",
              "      <th>0</th>\n",
              "      <td>0</td>\n",
              "      <td>194</td>\n",
              "      <td>Quarto Privado</td>\n",
              "      <td>False</td>\n",
              "      <td>True</td>\n",
              "      <td>2</td>\n",
              "      <td>False</td>\n",
              "      <td>1</td>\n",
              "      <td>0</td>\n",
              "      <td>10.0</td>\n",
              "      <td>93.0</td>\n",
              "      <td>1</td>\n",
              "      <td>5.022964</td>\n",
              "      <td>2.539380</td>\n",
              "      <td>78.690379</td>\n",
              "      <td>4.166708</td>\n",
              "      <td>98.253896</td>\n",
              "      <td>6.846473</td>\n",
              "      <td>4.90569</td>\n",
              "      <td>52.41772</td>\n",
              "    </tr>\n",
              "    <tr>\n",
              "      <th>1</th>\n",
              "      <td>1</td>\n",
              "      <td>344</td>\n",
              "      <td>Quarto Privado</td>\n",
              "      <td>False</td>\n",
              "      <td>True</td>\n",
              "      <td>4</td>\n",
              "      <td>False</td>\n",
              "      <td>0</td>\n",
              "      <td>0</td>\n",
              "      <td>8.0</td>\n",
              "      <td>85.0</td>\n",
              "      <td>1</td>\n",
              "      <td>0.488389</td>\n",
              "      <td>0.239404</td>\n",
              "      <td>631.176378</td>\n",
              "      <td>33.421209</td>\n",
              "      <td>837.280757</td>\n",
              "      <td>58.342928</td>\n",
              "      <td>4.90005</td>\n",
              "      <td>52.37432</td>\n",
              "    </tr>\n",
              "    <tr>\n",
              "      <th>2</th>\n",
              "      <td>2</td>\n",
              "      <td>264</td>\n",
              "      <td>Quarto Privado</td>\n",
              "      <td>False</td>\n",
              "      <td>True</td>\n",
              "      <td>2</td>\n",
              "      <td>False</td>\n",
              "      <td>0</td>\n",
              "      <td>1</td>\n",
              "      <td>9.0</td>\n",
              "      <td>87.0</td>\n",
              "      <td>1</td>\n",
              "      <td>5.748312</td>\n",
              "      <td>3.651621</td>\n",
              "      <td>75.275877</td>\n",
              "      <td>3.985908</td>\n",
              "      <td>95.386955</td>\n",
              "      <td>6.646700</td>\n",
              "      <td>4.97512</td>\n",
              "      <td>52.36103</td>\n",
              "    </tr>\n",
              "    <tr>\n",
              "      <th>3</th>\n",
              "      <td>3</td>\n",
              "      <td>433</td>\n",
              "      <td>Quarto Privado</td>\n",
              "      <td>False</td>\n",
              "      <td>True</td>\n",
              "      <td>4</td>\n",
              "      <td>False</td>\n",
              "      <td>0</td>\n",
              "      <td>1</td>\n",
              "      <td>9.0</td>\n",
              "      <td>90.0</td>\n",
              "      <td>2</td>\n",
              "      <td>0.384862</td>\n",
              "      <td>0.439876</td>\n",
              "      <td>493.272534</td>\n",
              "      <td>26.119108</td>\n",
              "      <td>875.033098</td>\n",
              "      <td>60.973565</td>\n",
              "      <td>4.89417</td>\n",
              "      <td>52.37663</td>\n",
              "    </tr>\n",
              "    <tr>\n",
              "      <th>4</th>\n",
              "      <td>4</td>\n",
              "      <td>485</td>\n",
              "      <td>Quarto Privado</td>\n",
              "      <td>False</td>\n",
              "      <td>True</td>\n",
              "      <td>2</td>\n",
              "      <td>True</td>\n",
              "      <td>0</td>\n",
              "      <td>0</td>\n",
              "      <td>10.0</td>\n",
              "      <td>98.0</td>\n",
              "      <td>1</td>\n",
              "      <td>0.544738</td>\n",
              "      <td>0.318693</td>\n",
              "      <td>552.830324</td>\n",
              "      <td>29.272733</td>\n",
              "      <td>815.305740</td>\n",
              "      <td>56.811677</td>\n",
              "      <td>4.90051</td>\n",
              "      <td>52.37508</td>\n",
              "    </tr>\n",
              "  </tbody>\n",
              "</table>\n",
              "</div>\n",
              "      <button class=\"colab-df-convert\" onclick=\"convertToInteractive('df-fffecb42-8116-4e73-afa1-3901492aa315')\"\n",
              "              title=\"Convert this dataframe to an interactive table.\"\n",
              "              style=\"display:none;\">\n",
              "        \n",
              "  <svg xmlns=\"http://www.w3.org/2000/svg\" height=\"24px\"viewBox=\"0 0 24 24\"\n",
              "       width=\"24px\">\n",
              "    <path d=\"M0 0h24v24H0V0z\" fill=\"none\"/>\n",
              "    <path d=\"M18.56 5.44l.94 2.06.94-2.06 2.06-.94-2.06-.94-.94-2.06-.94 2.06-2.06.94zm-11 1L8.5 8.5l.94-2.06 2.06-.94-2.06-.94L8.5 2.5l-.94 2.06-2.06.94zm10 10l.94 2.06.94-2.06 2.06-.94-2.06-.94-.94-2.06-.94 2.06-2.06.94z\"/><path d=\"M17.41 7.96l-1.37-1.37c-.4-.4-.92-.59-1.43-.59-.52 0-1.04.2-1.43.59L10.3 9.45l-7.72 7.72c-.78.78-.78 2.05 0 2.83L4 21.41c.39.39.9.59 1.41.59.51 0 1.02-.2 1.41-.59l7.78-7.78 2.81-2.81c.8-.78.8-2.07 0-2.86zM5.41 20L4 18.59l7.72-7.72 1.47 1.35L5.41 20z\"/>\n",
              "  </svg>\n",
              "      </button>\n",
              "      \n",
              "  <style>\n",
              "    .colab-df-container {\n",
              "      display:flex;\n",
              "      flex-wrap:wrap;\n",
              "      gap: 12px;\n",
              "    }\n",
              "\n",
              "    .colab-df-convert {\n",
              "      background-color: #E8F0FE;\n",
              "      border: none;\n",
              "      border-radius: 50%;\n",
              "      cursor: pointer;\n",
              "      display: none;\n",
              "      fill: #1967D2;\n",
              "      height: 32px;\n",
              "      padding: 0 0 0 0;\n",
              "      width: 32px;\n",
              "    }\n",
              "\n",
              "    .colab-df-convert:hover {\n",
              "      background-color: #E2EBFA;\n",
              "      box-shadow: 0px 1px 2px rgba(60, 64, 67, 0.3), 0px 1px 3px 1px rgba(60, 64, 67, 0.15);\n",
              "      fill: #174EA6;\n",
              "    }\n",
              "\n",
              "    [theme=dark] .colab-df-convert {\n",
              "      background-color: #3B4455;\n",
              "      fill: #D2E3FC;\n",
              "    }\n",
              "\n",
              "    [theme=dark] .colab-df-convert:hover {\n",
              "      background-color: #434B5C;\n",
              "      box-shadow: 0px 1px 3px 1px rgba(0, 0, 0, 0.15);\n",
              "      filter: drop-shadow(0px 1px 2px rgba(0, 0, 0, 0.3));\n",
              "      fill: #FFFFFF;\n",
              "    }\n",
              "  </style>\n",
              "\n",
              "      <script>\n",
              "        const buttonEl =\n",
              "          document.querySelector('#df-fffecb42-8116-4e73-afa1-3901492aa315 button.colab-df-convert');\n",
              "        buttonEl.style.display =\n",
              "          google.colab.kernel.accessAllowed ? 'block' : 'none';\n",
              "\n",
              "        async function convertToInteractive(key) {\n",
              "          const element = document.querySelector('#df-fffecb42-8116-4e73-afa1-3901492aa315');\n",
              "          const dataTable =\n",
              "            await google.colab.kernel.invokeFunction('convertToInteractive',\n",
              "                                                     [key], {});\n",
              "          if (!dataTable) return;\n",
              "\n",
              "          const docLinkHtml = 'Like what you see? Visit the ' +\n",
              "            '<a target=\"_blank\" href=https://colab.research.google.com/notebooks/data_table.ipynb>data table notebook</a>'\n",
              "            + ' to learn more about interactive tables.';\n",
              "          element.innerHTML = '';\n",
              "          dataTable['output_type'] = 'display_data';\n",
              "          await google.colab.output.renderOutput(dataTable, element);\n",
              "          const docLink = document.createElement('div');\n",
              "          docLink.innerHTML = docLinkHtml;\n",
              "          element.appendChild(docLink);\n",
              "        }\n",
              "      </script>\n",
              "    </div>\n",
              "  </div>\n",
              "  "
            ]
          },
          "metadata": {},
          "execution_count": 216
        }
      ],
      "source": [
        "df.head()"
      ]
    },
    {
      "cell_type": "markdown",
      "source": [
        " ### **Busca (Query)**\n"
      ],
      "metadata": {
        "id": "2M_d4seFm-Q_"
      }
    },
    {
      "cell_type": "markdown",
      "source": [
        "* Localização de uma linha:"
      ],
      "metadata": {
        "id": "cplUJYAV_SmR"
      }
    },
    {
      "cell_type": "code",
      "execution_count": null,
      "metadata": {
        "id": "K6Cr3TC5ONJb",
        "colab": {
          "base_uri": "https://localhost:8080/"
        },
        "outputId": "aee0d11b-ba7c-4971-cff7-393a33a59dc2"
      },
      "outputs": [
        {
          "output_type": "execute_result",
          "data": {
            "text/plain": [
              "ID                                      0\n",
              "preco_total                           194\n",
              "tipo_acomodacao            Quarto Privado\n",
              "quarto_compartilhado                False\n",
              "quarto_privado                       True\n",
              "capacidade_maxima                       2\n",
              "superhost                           False\n",
              "multi                                   1\n",
              "biz                                     0\n",
              "limpeza                              10.0\n",
              "avaliacao_geral                      93.0\n",
              "qnt_quartos                             1\n",
              "distancia_centro                 5.022964\n",
              "distancia_metro                   2.53938\n",
              "atracao                         78.690379\n",
              "atracao_normalizado              4.166708\n",
              "restaurante                     98.253896\n",
              "restaurante_normalizado          6.846473\n",
              "longitude                         4.90569\n",
              "latitude                         52.41772\n",
              "Name: 0, dtype: object"
            ]
          },
          "metadata": {},
          "execution_count": 217
        }
      ],
      "source": [
        "df.loc[0]"
      ]
    },
    {
      "cell_type": "markdown",
      "source": [
        "* Localização de um conjunto de linhas:"
      ],
      "metadata": {
        "id": "l7NkoKgj_bep"
      }
    },
    {
      "cell_type": "code",
      "execution_count": null,
      "metadata": {
        "id": "QHAdH93IOwc9",
        "colab": {
          "base_uri": "https://localhost:8080/"
        },
        "outputId": "ca9037d0-f026-4b26-c75e-0af85b8a2965"
      },
      "outputs": [
        {
          "output_type": "execute_result",
          "data": {
            "text/plain": [
              "        ID  preco_total tipo_acomodacao  quarto_compartilhado  quarto_privado  \\\n",
              "1000  1000          307  Espaço inteiro                 False           False   \n",
              "1001  1001          230  Quarto Privado                 False            True   \n",
              "1002  1002          504  Espaço inteiro                 False           False   \n",
              "\n",
              "      capacidade_maxima  superhost  multi  biz  limpeza  avaliacao_geral  \\\n",
              "1000                  3      False      0    0      9.0             94.0   \n",
              "1001                  2      False      1    0      9.0             89.0   \n",
              "1002                  3       True      0    0     10.0             97.0   \n",
              "\n",
              "      qnt_quartos  distancia_centro  distancia_metro     atracao  \\\n",
              "1000            1          2.727744         0.983703  167.917118   \n",
              "1001            1          2.993233         2.230443  139.636520   \n",
              "1002            1          2.745901         1.178570  152.910491   \n",
              "\n",
              "      atracao_normalizado  restaurante  restaurante_normalizado  longitude  \\\n",
              "1000             8.891323   217.386882                15.147831    4.92493   \n",
              "1001             7.393847   174.465362                12.156997    4.93685   \n",
              "1002             8.096712   194.562020                13.557361    4.85506   \n",
              "\n",
              "      latitude  \n",
              "1000  52.35835  \n",
              "1001  52.37062  \n",
              "1002  52.38143  "
            ],
            "text/html": [
              "\n",
              "  <div id=\"df-f226c996-7a2a-407c-b53d-df713479d3e2\">\n",
              "    <div class=\"colab-df-container\">\n",
              "      <div>\n",
              "<style scoped>\n",
              "    .dataframe tbody tr th:only-of-type {\n",
              "        vertical-align: middle;\n",
              "    }\n",
              "\n",
              "    .dataframe tbody tr th {\n",
              "        vertical-align: top;\n",
              "    }\n",
              "\n",
              "    .dataframe thead th {\n",
              "        text-align: right;\n",
              "    }\n",
              "</style>\n",
              "<table border=\"1\" class=\"dataframe\">\n",
              "  <thead>\n",
              "    <tr style=\"text-align: right;\">\n",
              "      <th></th>\n",
              "      <th>ID</th>\n",
              "      <th>preco_total</th>\n",
              "      <th>tipo_acomodacao</th>\n",
              "      <th>quarto_compartilhado</th>\n",
              "      <th>quarto_privado</th>\n",
              "      <th>capacidade_maxima</th>\n",
              "      <th>superhost</th>\n",
              "      <th>multi</th>\n",
              "      <th>biz</th>\n",
              "      <th>limpeza</th>\n",
              "      <th>avaliacao_geral</th>\n",
              "      <th>qnt_quartos</th>\n",
              "      <th>distancia_centro</th>\n",
              "      <th>distancia_metro</th>\n",
              "      <th>atracao</th>\n",
              "      <th>atracao_normalizado</th>\n",
              "      <th>restaurante</th>\n",
              "      <th>restaurante_normalizado</th>\n",
              "      <th>longitude</th>\n",
              "      <th>latitude</th>\n",
              "    </tr>\n",
              "  </thead>\n",
              "  <tbody>\n",
              "    <tr>\n",
              "      <th>1000</th>\n",
              "      <td>1000</td>\n",
              "      <td>307</td>\n",
              "      <td>Espaço inteiro</td>\n",
              "      <td>False</td>\n",
              "      <td>False</td>\n",
              "      <td>3</td>\n",
              "      <td>False</td>\n",
              "      <td>0</td>\n",
              "      <td>0</td>\n",
              "      <td>9.0</td>\n",
              "      <td>94.0</td>\n",
              "      <td>1</td>\n",
              "      <td>2.727744</td>\n",
              "      <td>0.983703</td>\n",
              "      <td>167.917118</td>\n",
              "      <td>8.891323</td>\n",
              "      <td>217.386882</td>\n",
              "      <td>15.147831</td>\n",
              "      <td>4.92493</td>\n",
              "      <td>52.35835</td>\n",
              "    </tr>\n",
              "    <tr>\n",
              "      <th>1001</th>\n",
              "      <td>1001</td>\n",
              "      <td>230</td>\n",
              "      <td>Quarto Privado</td>\n",
              "      <td>False</td>\n",
              "      <td>True</td>\n",
              "      <td>2</td>\n",
              "      <td>False</td>\n",
              "      <td>1</td>\n",
              "      <td>0</td>\n",
              "      <td>9.0</td>\n",
              "      <td>89.0</td>\n",
              "      <td>1</td>\n",
              "      <td>2.993233</td>\n",
              "      <td>2.230443</td>\n",
              "      <td>139.636520</td>\n",
              "      <td>7.393847</td>\n",
              "      <td>174.465362</td>\n",
              "      <td>12.156997</td>\n",
              "      <td>4.93685</td>\n",
              "      <td>52.37062</td>\n",
              "    </tr>\n",
              "    <tr>\n",
              "      <th>1002</th>\n",
              "      <td>1002</td>\n",
              "      <td>504</td>\n",
              "      <td>Espaço inteiro</td>\n",
              "      <td>False</td>\n",
              "      <td>False</td>\n",
              "      <td>3</td>\n",
              "      <td>True</td>\n",
              "      <td>0</td>\n",
              "      <td>0</td>\n",
              "      <td>10.0</td>\n",
              "      <td>97.0</td>\n",
              "      <td>1</td>\n",
              "      <td>2.745901</td>\n",
              "      <td>1.178570</td>\n",
              "      <td>152.910491</td>\n",
              "      <td>8.096712</td>\n",
              "      <td>194.562020</td>\n",
              "      <td>13.557361</td>\n",
              "      <td>4.85506</td>\n",
              "      <td>52.38143</td>\n",
              "    </tr>\n",
              "  </tbody>\n",
              "</table>\n",
              "</div>\n",
              "      <button class=\"colab-df-convert\" onclick=\"convertToInteractive('df-f226c996-7a2a-407c-b53d-df713479d3e2')\"\n",
              "              title=\"Convert this dataframe to an interactive table.\"\n",
              "              style=\"display:none;\">\n",
              "        \n",
              "  <svg xmlns=\"http://www.w3.org/2000/svg\" height=\"24px\"viewBox=\"0 0 24 24\"\n",
              "       width=\"24px\">\n",
              "    <path d=\"M0 0h24v24H0V0z\" fill=\"none\"/>\n",
              "    <path d=\"M18.56 5.44l.94 2.06.94-2.06 2.06-.94-2.06-.94-.94-2.06-.94 2.06-2.06.94zm-11 1L8.5 8.5l.94-2.06 2.06-.94-2.06-.94L8.5 2.5l-.94 2.06-2.06.94zm10 10l.94 2.06.94-2.06 2.06-.94-2.06-.94-.94-2.06-.94 2.06-2.06.94z\"/><path d=\"M17.41 7.96l-1.37-1.37c-.4-.4-.92-.59-1.43-.59-.52 0-1.04.2-1.43.59L10.3 9.45l-7.72 7.72c-.78.78-.78 2.05 0 2.83L4 21.41c.39.39.9.59 1.41.59.51 0 1.02-.2 1.41-.59l7.78-7.78 2.81-2.81c.8-.78.8-2.07 0-2.86zM5.41 20L4 18.59l7.72-7.72 1.47 1.35L5.41 20z\"/>\n",
              "  </svg>\n",
              "      </button>\n",
              "      \n",
              "  <style>\n",
              "    .colab-df-container {\n",
              "      display:flex;\n",
              "      flex-wrap:wrap;\n",
              "      gap: 12px;\n",
              "    }\n",
              "\n",
              "    .colab-df-convert {\n",
              "      background-color: #E8F0FE;\n",
              "      border: none;\n",
              "      border-radius: 50%;\n",
              "      cursor: pointer;\n",
              "      display: none;\n",
              "      fill: #1967D2;\n",
              "      height: 32px;\n",
              "      padding: 0 0 0 0;\n",
              "      width: 32px;\n",
              "    }\n",
              "\n",
              "    .colab-df-convert:hover {\n",
              "      background-color: #E2EBFA;\n",
              "      box-shadow: 0px 1px 2px rgba(60, 64, 67, 0.3), 0px 1px 3px 1px rgba(60, 64, 67, 0.15);\n",
              "      fill: #174EA6;\n",
              "    }\n",
              "\n",
              "    [theme=dark] .colab-df-convert {\n",
              "      background-color: #3B4455;\n",
              "      fill: #D2E3FC;\n",
              "    }\n",
              "\n",
              "    [theme=dark] .colab-df-convert:hover {\n",
              "      background-color: #434B5C;\n",
              "      box-shadow: 0px 1px 3px 1px rgba(0, 0, 0, 0.15);\n",
              "      filter: drop-shadow(0px 1px 2px rgba(0, 0, 0, 0.3));\n",
              "      fill: #FFFFFF;\n",
              "    }\n",
              "  </style>\n",
              "\n",
              "      <script>\n",
              "        const buttonEl =\n",
              "          document.querySelector('#df-f226c996-7a2a-407c-b53d-df713479d3e2 button.colab-df-convert');\n",
              "        buttonEl.style.display =\n",
              "          google.colab.kernel.accessAllowed ? 'block' : 'none';\n",
              "\n",
              "        async function convertToInteractive(key) {\n",
              "          const element = document.querySelector('#df-f226c996-7a2a-407c-b53d-df713479d3e2');\n",
              "          const dataTable =\n",
              "            await google.colab.kernel.invokeFunction('convertToInteractive',\n",
              "                                                     [key], {});\n",
              "          if (!dataTable) return;\n",
              "\n",
              "          const docLinkHtml = 'Like what you see? Visit the ' +\n",
              "            '<a target=\"_blank\" href=https://colab.research.google.com/notebooks/data_table.ipynb>data table notebook</a>'\n",
              "            + ' to learn more about interactive tables.';\n",
              "          element.innerHTML = '';\n",
              "          dataTable['output_type'] = 'display_data';\n",
              "          await google.colab.output.renderOutput(dataTable, element);\n",
              "          const docLink = document.createElement('div');\n",
              "          docLink.innerHTML = docLinkHtml;\n",
              "          element.appendChild(docLink);\n",
              "        }\n",
              "      </script>\n",
              "    </div>\n",
              "  </div>\n",
              "  "
            ]
          },
          "metadata": {},
          "execution_count": 218
        }
      ],
      "source": [
        "df.loc[1000:1002]"
      ]
    },
    {
      "cell_type": "markdown",
      "source": [
        "* Busca avançada: linhas e colunas especificas:"
      ],
      "metadata": {
        "id": "uNl6DqDi1uAm"
      }
    },
    {
      "cell_type": "code",
      "execution_count": null,
      "metadata": {
        "id": "F8So8DfjWnCH",
        "colab": {
          "base_uri": "https://localhost:8080/"
        },
        "outputId": "5852d11b-690a-413b-90a1-dbb19230f128"
      },
      "outputs": [
        {
          "output_type": "execute_result",
          "data": {
            "text/plain": [
              "      ID  preco_total\n",
              "0      0          194\n",
              "20    20          243\n",
              "900  900          387"
            ],
            "text/html": [
              "\n",
              "  <div id=\"df-91959932-ffbd-4740-bc10-ef873a091248\">\n",
              "    <div class=\"colab-df-container\">\n",
              "      <div>\n",
              "<style scoped>\n",
              "    .dataframe tbody tr th:only-of-type {\n",
              "        vertical-align: middle;\n",
              "    }\n",
              "\n",
              "    .dataframe tbody tr th {\n",
              "        vertical-align: top;\n",
              "    }\n",
              "\n",
              "    .dataframe thead th {\n",
              "        text-align: right;\n",
              "    }\n",
              "</style>\n",
              "<table border=\"1\" class=\"dataframe\">\n",
              "  <thead>\n",
              "    <tr style=\"text-align: right;\">\n",
              "      <th></th>\n",
              "      <th>ID</th>\n",
              "      <th>preco_total</th>\n",
              "    </tr>\n",
              "  </thead>\n",
              "  <tbody>\n",
              "    <tr>\n",
              "      <th>0</th>\n",
              "      <td>0</td>\n",
              "      <td>194</td>\n",
              "    </tr>\n",
              "    <tr>\n",
              "      <th>20</th>\n",
              "      <td>20</td>\n",
              "      <td>243</td>\n",
              "    </tr>\n",
              "    <tr>\n",
              "      <th>900</th>\n",
              "      <td>900</td>\n",
              "      <td>387</td>\n",
              "    </tr>\n",
              "  </tbody>\n",
              "</table>\n",
              "</div>\n",
              "      <button class=\"colab-df-convert\" onclick=\"convertToInteractive('df-91959932-ffbd-4740-bc10-ef873a091248')\"\n",
              "              title=\"Convert this dataframe to an interactive table.\"\n",
              "              style=\"display:none;\">\n",
              "        \n",
              "  <svg xmlns=\"http://www.w3.org/2000/svg\" height=\"24px\"viewBox=\"0 0 24 24\"\n",
              "       width=\"24px\">\n",
              "    <path d=\"M0 0h24v24H0V0z\" fill=\"none\"/>\n",
              "    <path d=\"M18.56 5.44l.94 2.06.94-2.06 2.06-.94-2.06-.94-.94-2.06-.94 2.06-2.06.94zm-11 1L8.5 8.5l.94-2.06 2.06-.94-2.06-.94L8.5 2.5l-.94 2.06-2.06.94zm10 10l.94 2.06.94-2.06 2.06-.94-2.06-.94-.94-2.06-.94 2.06-2.06.94z\"/><path d=\"M17.41 7.96l-1.37-1.37c-.4-.4-.92-.59-1.43-.59-.52 0-1.04.2-1.43.59L10.3 9.45l-7.72 7.72c-.78.78-.78 2.05 0 2.83L4 21.41c.39.39.9.59 1.41.59.51 0 1.02-.2 1.41-.59l7.78-7.78 2.81-2.81c.8-.78.8-2.07 0-2.86zM5.41 20L4 18.59l7.72-7.72 1.47 1.35L5.41 20z\"/>\n",
              "  </svg>\n",
              "      </button>\n",
              "      \n",
              "  <style>\n",
              "    .colab-df-container {\n",
              "      display:flex;\n",
              "      flex-wrap:wrap;\n",
              "      gap: 12px;\n",
              "    }\n",
              "\n",
              "    .colab-df-convert {\n",
              "      background-color: #E8F0FE;\n",
              "      border: none;\n",
              "      border-radius: 50%;\n",
              "      cursor: pointer;\n",
              "      display: none;\n",
              "      fill: #1967D2;\n",
              "      height: 32px;\n",
              "      padding: 0 0 0 0;\n",
              "      width: 32px;\n",
              "    }\n",
              "\n",
              "    .colab-df-convert:hover {\n",
              "      background-color: #E2EBFA;\n",
              "      box-shadow: 0px 1px 2px rgba(60, 64, 67, 0.3), 0px 1px 3px 1px rgba(60, 64, 67, 0.15);\n",
              "      fill: #174EA6;\n",
              "    }\n",
              "\n",
              "    [theme=dark] .colab-df-convert {\n",
              "      background-color: #3B4455;\n",
              "      fill: #D2E3FC;\n",
              "    }\n",
              "\n",
              "    [theme=dark] .colab-df-convert:hover {\n",
              "      background-color: #434B5C;\n",
              "      box-shadow: 0px 1px 3px 1px rgba(0, 0, 0, 0.15);\n",
              "      filter: drop-shadow(0px 1px 2px rgba(0, 0, 0, 0.3));\n",
              "      fill: #FFFFFF;\n",
              "    }\n",
              "  </style>\n",
              "\n",
              "      <script>\n",
              "        const buttonEl =\n",
              "          document.querySelector('#df-91959932-ffbd-4740-bc10-ef873a091248 button.colab-df-convert');\n",
              "        buttonEl.style.display =\n",
              "          google.colab.kernel.accessAllowed ? 'block' : 'none';\n",
              "\n",
              "        async function convertToInteractive(key) {\n",
              "          const element = document.querySelector('#df-91959932-ffbd-4740-bc10-ef873a091248');\n",
              "          const dataTable =\n",
              "            await google.colab.kernel.invokeFunction('convertToInteractive',\n",
              "                                                     [key], {});\n",
              "          if (!dataTable) return;\n",
              "\n",
              "          const docLinkHtml = 'Like what you see? Visit the ' +\n",
              "            '<a target=\"_blank\" href=https://colab.research.google.com/notebooks/data_table.ipynb>data table notebook</a>'\n",
              "            + ' to learn more about interactive tables.';\n",
              "          element.innerHTML = '';\n",
              "          dataTable['output_type'] = 'display_data';\n",
              "          await google.colab.output.renderOutput(dataTable, element);\n",
              "          const docLink = document.createElement('div');\n",
              "          docLink.innerHTML = docLinkHtml;\n",
              "          element.appendChild(docLink);\n",
              "        }\n",
              "      </script>\n",
              "    </div>\n",
              "  </div>\n",
              "  "
            ]
          },
          "metadata": {},
          "execution_count": 222
        }
      ],
      "source": [
        "df.loc[[0,20,900], ['ID', 'preco_total']]"
      ]
    },
    {
      "cell_type": "markdown",
      "source": [
        "### **Transformação**"
      ],
      "metadata": {
        "id": "GOU8zYQxnrDS"
      }
    },
    {
      "cell_type": "markdown",
      "source": [
        "* Trocar valor de determinada linha de uma coluna:"
      ],
      "metadata": {
        "id": "gZ0jJ6tV_of9"
      }
    },
    {
      "cell_type": "code",
      "execution_count": null,
      "metadata": {
        "id": "DPVs1ltyPM5a"
      },
      "outputs": [],
      "source": [
        "df.loc[0,'ID'] = '00'"
      ]
    },
    {
      "cell_type": "markdown",
      "source": [
        "* Trocar todos os valores de uma coluna:"
      ],
      "metadata": {
        "id": "VIMc6ad8ATFs"
      }
    },
    {
      "cell_type": "code",
      "execution_count": null,
      "metadata": {
        "id": "deutKAkdVs7i"
      },
      "outputs": [],
      "source": [
        "df.loc[:,'ID'] = '00'"
      ]
    },
    {
      "cell_type": "markdown",
      "source": [
        "* Desfazendo ação, utilizando o backup tratado:"
      ],
      "metadata": {
        "id": "I_AfUOY_Afab"
      }
    },
    {
      "cell_type": "code",
      "execution_count": null,
      "metadata": {
        "id": "b9XASSI-WGEt"
      },
      "outputs": [],
      "source": [
        "df = dfback2"
      ]
    },
    {
      "cell_type": "markdown",
      "source": [
        "* Trocar um valor especifico na coluna:"
      ],
      "metadata": {
        "id": "_kYmumzr5qLi"
      }
    },
    {
      "cell_type": "code",
      "execution_count": null,
      "metadata": {
        "id": "2vY5v29pXB5F"
      },
      "outputs": [],
      "source": [
        "df.loc[df.preco_total == '194', ['preco_total']] = '000'"
      ]
    },
    {
      "cell_type": "markdown",
      "source": [
        "* Retornando o valor especifico na coluna:"
      ],
      "metadata": {
        "id": "TSeZvM8p51Cj"
      }
    },
    {
      "cell_type": "code",
      "execution_count": null,
      "metadata": {
        "id": "uXGaaXNeYgKt"
      },
      "outputs": [],
      "source": [
        "df.loc[df.preco_total == '000', ['preco_total']] = '194'"
      ]
    },
    {
      "cell_type": "markdown",
      "source": [
        "* Converter o tipo de dado da coluna:"
      ],
      "metadata": {
        "id": "Fd1MU-h663V2"
      }
    },
    {
      "cell_type": "code",
      "execution_count": null,
      "metadata": {
        "id": "FiF6MZXkeA7U"
      },
      "outputs": [],
      "source": [
        "df['tipo_acomodacao'] = df['tipo_acomodacao'].astype(str)"
      ]
    },
    {
      "cell_type": "markdown",
      "source": [
        "* Checagem da mudança de tipo de dado:"
      ],
      "metadata": {
        "id": "UC1PCAuI76-3"
      }
    },
    {
      "cell_type": "code",
      "execution_count": null,
      "metadata": {
        "id": "LDYdkhtHaZuo",
        "colab": {
          "base_uri": "https://localhost:8080/"
        },
        "outputId": "a878c765-7e06-4c2d-d91d-cc4fef15c2fd"
      },
      "outputs": [
        {
          "output_type": "execute_result",
          "data": {
            "text/plain": [
              "ID                           int64\n",
              "preco_total                 object\n",
              "tipo_acomodacao             object\n",
              "quarto_compartilhado          bool\n",
              "quarto_privado                bool\n",
              "capacidade_maxima            int64\n",
              "superhost                     bool\n",
              "multi                        int64\n",
              "biz                          int64\n",
              "limpeza                    float64\n",
              "avaliacao_geral            float64\n",
              "qnt_quartos                  int64\n",
              "distancia_centro           float64\n",
              "distancia_metro            float64\n",
              "atracao                    float64\n",
              "atracao_normalizado        float64\n",
              "restaurante                float64\n",
              "restaurante_normalizado    float64\n",
              "longitude                  float64\n",
              "latitude                   float64\n",
              "dtype: object"
            ]
          },
          "metadata": {},
          "execution_count": 226
        }
      ],
      "source": [
        "df.dtypes"
      ]
    },
    {
      "cell_type": "markdown",
      "source": [
        "* Duplicates - Remove linhas duplicadas com base em todas as colunas."
      ],
      "metadata": {
        "id": "WRvuyqV4pHQm"
      }
    },
    {
      "cell_type": "code",
      "execution_count": null,
      "metadata": {
        "id": "SsjsilYUwMj8"
      },
      "outputs": [],
      "source": [
        "df.drop_duplicates()"
      ]
    },
    {
      "cell_type": "markdown",
      "metadata": {
        "id": "LZ3DXncxefQI"
      },
      "source": [
        "### **Filtro**"
      ]
    },
    {
      "cell_type": "markdown",
      "source": [
        "* Criar Dataframe com filtro e exibi-lo:"
      ],
      "metadata": {
        "id": "yqTh3gQUBEqR"
      }
    },
    {
      "cell_type": "code",
      "execution_count": null,
      "metadata": {
        "id": "rJIAe7ypehtL"
      },
      "outputs": [],
      "source": [
        "filtro_quartoprivado = df.tipo_acomodacao =='Quarto Privado'\n",
        "\n",
        "filtro_quartoprivado  = df.loc[filtro_quartoprivado]\n",
        "filtro_quartoprivado"
      ]
    },
    {
      "cell_type": "markdown",
      "source": [
        "* Visualização do novo dataframe com filtro:"
      ],
      "metadata": {
        "id": "OBgjrkotCeaf"
      }
    },
    {
      "cell_type": "code",
      "execution_count": null,
      "metadata": {
        "id": "2ZXFZt1YijEq"
      },
      "outputs": [],
      "source": [
        "filtro_quartoprivado.info()"
      ]
    },
    {
      "cell_type": "markdown",
      "source": [
        "* Exportação do novo dataframe com filtro:\n",
        "\n"
      ],
      "metadata": {
        "id": "Zh_Y_JraCl73"
      }
    },
    {
      "cell_type": "code",
      "execution_count": null,
      "metadata": {
        "id": "FVZjvcthiOIA"
      },
      "outputs": [],
      "source": [
        "filtro_quartoprivado.to_csv('df_filtro_acidente.csv', index=False)"
      ]
    },
    {
      "cell_type": "markdown",
      "source": [
        "* Filtro para observação de dados ausentes:"
      ],
      "metadata": {
        "id": "WNl94dCAFBRE"
      }
    },
    {
      "cell_type": "code",
      "execution_count": null,
      "metadata": {
        "id": "DOJuB1_NjlJ5"
      },
      "outputs": [],
      "source": [
        "dfback2.isna().sum()"
      ]
    },
    {
      "cell_type": "markdown",
      "source": [
        "* Filtro com mais detalhes: com muitas informações"
      ],
      "metadata": {
        "id": "7ErmCUv2KVab"
      }
    },
    {
      "cell_type": "code",
      "execution_count": null,
      "metadata": {
        "id": "-j2ku0HTlkvg"
      },
      "outputs": [],
      "source": [
        "capacidade_maxima = df.capacidade_maxima == 2\n",
        "qnt_quartos = df.qnt_quartos == 0\n",
        "\n",
        "df.loc[df.capacidade_maxima & df.qnt_quartos]"
      ]
    },
    {
      "cell_type": "markdown",
      "source": [
        "### **Verificação**"
      ],
      "metadata": {
        "id": "r8S4j8C-oNv0"
      }
    },
    {
      "cell_type": "markdown",
      "source": [
        "* Verificar valor em uma coluna  ignorando letras maiusculas e minusculas"
      ],
      "metadata": {
        "id": "tRY9plKyWmSw"
      }
    },
    {
      "cell_type": "code",
      "execution_count": null,
      "metadata": {
        "id": "ofiRvxcurlUF"
      },
      "outputs": [],
      "source": [
        "df[df['tipo_acomodacao'].str.contains(r'\\bquarto privado\\b', regex=True, case=False)]"
      ]
    },
    {
      "cell_type": "markdown",
      "metadata": {
        "id": "TmZbz-trBNwE"
      },
      "source": [
        "### **GroupBy**"
      ]
    },
    {
      "cell_type": "markdown",
      "source": [
        "* Contagem de valores em cada coluna"
      ],
      "metadata": {
        "id": "F2Wx7vAEXan7"
      }
    },
    {
      "cell_type": "code",
      "execution_count": null,
      "metadata": {
        "id": "cUkDifdsBOub",
        "colab": {
          "base_uri": "https://localhost:8080/"
        },
        "outputId": "d5d5b994-2bcc-4dd4-befe-0c87e9b3af07"
      },
      "outputs": [
        {
          "output_type": "execute_result",
          "data": {
            "text/plain": [
              "tipo_acomodacao\n",
              "Espaço inteiro          538\n",
              "Quarto Privado          559\n",
              "Quarto compartilhado      6\n",
              "dtype: int64"
            ]
          },
          "metadata": {},
          "execution_count": 233
        }
      ],
      "source": [
        "df.groupby(['tipo_acomodacao']).size()"
      ]
    },
    {
      "cell_type": "markdown",
      "source": [
        "* Ordem descrescente para valores True"
      ],
      "metadata": {
        "id": "6rvrH5vUXn9S"
      }
    },
    {
      "cell_type": "code",
      "execution_count": null,
      "metadata": {
        "id": "G8CoT3kFBjgI",
        "colab": {
          "base_uri": "https://localhost:8080/"
        },
        "outputId": "fa8f9791-bc47-47e2-91df-8a259d24bff0"
      },
      "outputs": [
        {
          "output_type": "execute_result",
          "data": {
            "text/plain": [
              "tipo_acomodacao\n",
              "Quarto Privado          559\n",
              "Espaço inteiro          538\n",
              "Quarto compartilhado      6\n",
              "dtype: int64"
            ]
          },
          "metadata": {},
          "execution_count": 234
        }
      ],
      "source": [
        "df.groupby(['tipo_acomodacao']).size().sort_values(ascending=False)"
      ]
    },
    {
      "cell_type": "markdown",
      "source": [
        "* soma de valores: comparando duas colunas:"
      ],
      "metadata": {
        "id": "AOAeQmvyZHOO"
      }
    },
    {
      "cell_type": "code",
      "execution_count": null,
      "metadata": {
        "id": "ySJAPIyWB-H-",
        "colab": {
          "base_uri": "https://localhost:8080/"
        },
        "outputId": "fa9fe083-64f7-41ea-cbdd-865186bebedd"
      },
      "outputs": [
        {
          "output_type": "execute_result",
          "data": {
            "text/plain": [
              "superhost\n",
              "False    72688.0\n",
              "True     31394.0\n",
              "Name: avaliacao_geral, dtype: float64"
            ]
          },
          "metadata": {},
          "execution_count": 235
        }
      ],
      "source": [
        "df.groupby('superhost')['avaliacao_geral'].sum().sort_values(ascending=False)"
      ]
    },
    {
      "cell_type": "code",
      "execution_count": null,
      "metadata": {
        "id": "QAIShE8OBRcs",
        "colab": {
          "base_uri": "https://localhost:8080/"
        },
        "outputId": "dcf7d8dd-45c9-4f35-a46c-9ecdc1652bdf"
      },
      "outputs": [
        {
          "output_type": "execute_result",
          "data": {
            "text/plain": [
              "superhost\n",
              "False    72688.0\n",
              "True     31394.0\n",
              "Name: avaliacao_geral, dtype: float64"
            ]
          },
          "metadata": {},
          "execution_count": 236
        }
      ],
      "source": [
        "df.groupby(['superhost'])['avaliacao_geral'].sum()"
      ]
    },
    {
      "cell_type": "markdown",
      "source": [
        "* Agrupamento desconsiderando valores ausentes:"
      ],
      "metadata": {
        "id": "XLLnU8wgZv2g"
      }
    },
    {
      "cell_type": "code",
      "execution_count": null,
      "metadata": {
        "id": "GWTCI_a4HdEt",
        "colab": {
          "base_uri": "https://localhost:8080/"
        },
        "outputId": "e8b10ef3-314c-4677-81b5-a59ff66c153e"
      },
      "outputs": [
        {
          "output_type": "execute_result",
          "data": {
            "text/plain": [
              "superhost\n",
              "False    780\n",
              "True     323\n",
              "dtype: int64"
            ]
          },
          "metadata": {},
          "execution_count": 237
        }
      ],
      "source": [
        "dfback2.groupby(['superhost']).size().sort_values(ascending=False).head(10)"
      ]
    },
    {
      "cell_type": "markdown",
      "source": [
        "* Agrupamento considerando valores ausentes:"
      ],
      "metadata": {
        "id": "m1aXBIvPaNcX"
      }
    },
    {
      "cell_type": "code",
      "execution_count": null,
      "metadata": {
        "id": "fhSf2rmIHxWF",
        "colab": {
          "base_uri": "https://localhost:8080/"
        },
        "outputId": "3bcf8d67-37d9-4d53-e150-6a67cb0957dd"
      },
      "outputs": [
        {
          "output_type": "execute_result",
          "data": {
            "text/plain": [
              "superhost\n",
              "False    780\n",
              "True     323\n",
              "dtype: int64"
            ]
          },
          "metadata": {},
          "execution_count": 238
        }
      ],
      "source": [
        "dfback2.groupby(['superhost'],dropna=False).size().sort_values(ascending=False).head(10)"
      ]
    },
    {
      "cell_type": "markdown",
      "metadata": {
        "id": "eLi4nzTHyegc"
      },
      "source": [
        "# **Análise Estatística descritiva**"
      ]
    },
    {
      "cell_type": "markdown",
      "source": [
        "* Estatísticas descritivas para todas as colunas numéricas"
      ],
      "metadata": {
        "id": "LU6jenMGqkV8"
      }
    },
    {
      "cell_type": "code",
      "execution_count": null,
      "metadata": {
        "id": "TMd0UnijzRfD"
      },
      "outputs": [],
      "source": [
        "df.describe()"
      ]
    },
    {
      "cell_type": "markdown",
      "source": [
        "* contagem de valores únicos em cada coluna:"
      ],
      "metadata": {
        "id": "Q_Z9av5wqn8S"
      }
    },
    {
      "cell_type": "code",
      "source": [
        "print(df.nunique())"
      ],
      "metadata": {
        "id": "p-coUGLequ0Q"
      },
      "execution_count": null,
      "outputs": []
    },
    {
      "cell_type": "markdown",
      "source": [
        "* Média e Mediana:"
      ],
      "metadata": {
        "id": "qgGkcwHwtTRc"
      }
    },
    {
      "cell_type": "code",
      "source": [
        "print('                  MEDIA\\n\\n')\n",
        "print(df.mean())\n",
        "print('\\n\\n')\n",
        "\n",
        "\n",
        "print('                  MEDIANA\\n\\n')\n",
        "print(df.median())\n",
        "print('\\n\\n')\n"
      ],
      "metadata": {
        "id": "hHGBskWMq9rc"
      },
      "execution_count": null,
      "outputs": []
    },
    {
      "cell_type": "markdown",
      "source": [
        "* MODA"
      ],
      "metadata": {
        "id": "ZDa9P33ismM9"
      }
    },
    {
      "cell_type": "code",
      "source": [
        "print(df.dropna().mode())"
      ],
      "metadata": {
        "id": "Ka6TX57PsiTE"
      },
      "execution_count": null,
      "outputs": []
    },
    {
      "cell_type": "markdown",
      "source": [
        "* Desvio Padrão"
      ],
      "metadata": {
        "id": "j1Zp1651tvix"
      }
    },
    {
      "cell_type": "code",
      "source": [
        "print(df.std())\n"
      ],
      "metadata": {
        "id": "BkYmhPwzteRs"
      },
      "execution_count": null,
      "outputs": []
    },
    {
      "cell_type": "markdown",
      "source": [
        "* Mínimo e Máximo"
      ],
      "metadata": {
        "id": "YtOOag1Wt3wc"
      }
    },
    {
      "cell_type": "code",
      "source": [
        "print('        Mínimo\\n\\n')\n",
        "print(df.min())\n",
        "print('\\n-----------------\\n')\n",
        "print('        Máximo\\n\\n')\n",
        "print(df.max())"
      ],
      "metadata": {
        "id": "SRnh1ul1t-FR"
      },
      "execution_count": null,
      "outputs": []
    },
    {
      "cell_type": "markdown",
      "source": [
        "* correlação entre as colunas numéricas"
      ],
      "metadata": {
        "id": "teNrFXbJueJr"
      }
    },
    {
      "cell_type": "code",
      "source": [
        "print(df.corr())"
      ],
      "metadata": {
        "id": "Rd4Kylw4tpdq"
      },
      "execution_count": null,
      "outputs": []
    },
    {
      "cell_type": "markdown",
      "source": [
        "* Distribuição de Frequência : Distância do centro."
      ],
      "metadata": {
        "id": "0j5axokb180k"
      }
    },
    {
      "cell_type": "code",
      "source": [
        "# Definir os intervalos desejados\n",
        "intervalos = pd.interval_range(start=0.02, end=11.19, freq=1)\n",
        "\n",
        "# Criar uma nova coluna no DataFrame com os intervalos\n",
        "df['intervalo'] = pd.cut(df['distancia_centro'], bins=intervalos)\n",
        "\n",
        "# Contar a frequência de cada intervalo\n",
        "contagem_intervalos = df['intervalo'].value_counts().sort_index()\n",
        "\n",
        "# Imprimir a contagem de cada intervalo\n",
        "print(contagem_intervalos)"
      ],
      "metadata": {
        "id": "L9UiMV5cU19m"
      },
      "execution_count": null,
      "outputs": []
    },
    {
      "cell_type": "markdown",
      "metadata": {
        "id": "tpW25ZEbPDQI"
      },
      "source": [
        "# **Visualização dos Dados**"
      ]
    },
    {
      "cell_type": "markdown",
      "source": [
        "## Gráficos de barras"
      ],
      "metadata": {
        "id": "wTTNKmW1HKs3"
      }
    },
    {
      "cell_type": "markdown",
      "source": [
        "\n",
        "\n",
        "> Superhost\n",
        "\n"
      ],
      "metadata": {
        "id": "GIfQ5sXavtfC"
      }
    },
    {
      "cell_type": "code",
      "execution_count": null,
      "metadata": {
        "id": "c3tCEzNMXW7i"
      },
      "outputs": [],
      "source": [
        "df.groupby(['superhost']).size().plot.barh(figsize=(7,5), color=['skyblue'])\n",
        "plt.xlabel('Contagem')\n",
        "plt.ylabel('Superhost')\n",
        "plt.title('Contagem de Ocorrências de Superhosts')\n",
        "plt.show()\n",
        "dfback2.groupby(['superhost'],dropna=False).size().sort_values(ascending=False).head(10)"
      ]
    },
    {
      "cell_type": "markdown",
      "source": [
        "\n",
        "\n",
        "> Avaliação Geral\n",
        "\n"
      ],
      "metadata": {
        "id": "nIIAugY9wOmR"
      }
    },
    {
      "cell_type": "code",
      "source": [
        "df.groupby(['avaliacao_geral']).size().plot.barh(figsize=(7,5), color=['skyblue'])\n",
        "plt.xlabel('Contagem')\n",
        "plt.ylabel('avaliacao_geral')\n",
        "plt.title('Contagem de Ocorrências de avaliação Geral')\n",
        "plt.show()\n",
        "dfback2.groupby(['avaliacao_geral'],dropna=False).size().sort_values(ascending=False).head(10)"
      ],
      "metadata": {
        "id": "-Lb0u-ZQtQiI"
      },
      "execution_count": null,
      "outputs": []
    },
    {
      "cell_type": "markdown",
      "source": [
        "> Avaliação Limpeza"
      ],
      "metadata": {
        "id": "IPRzkx8xwYmF"
      }
    },
    {
      "cell_type": "code",
      "source": [
        "df.groupby(['limpeza']).size().plot.barh(figsize=(7,5), color=['skyblue'])\n",
        "plt.xlabel('Contagem')\n",
        "plt.ylabel('limpeza')\n",
        "plt.title('Contagem de Ocorrências de avaliação de limpeza')\n",
        "plt.show()\n",
        "dfback2.groupby(['limpeza'],dropna=False).size().sort_values(ascending=False).head(10)"
      ],
      "metadata": {
        "id": "pWMxM9iNs2n5"
      },
      "execution_count": null,
      "outputs": []
    },
    {
      "cell_type": "markdown",
      "source": [
        "> Capacidade máxima de pessoas"
      ],
      "metadata": {
        "id": "lIUWaB9nw0Jc"
      }
    },
    {
      "cell_type": "code",
      "execution_count": null,
      "metadata": {
        "id": "DGPaE6ZoPkQw"
      },
      "outputs": [],
      "source": [
        "df.groupby('capacidade_maxima').size().sort_values(ascending=False).plot.bar(figsize=(7,5), color=['DarkCyan'])\n",
        "plt.xlabel('Capacidade Quartos')\n",
        "plt.ylabel('Contagem')\n",
        "plt.title('Contagem de Ocorrências por capacidade máxima de pessoas')\n",
        "plt.show()"
      ]
    },
    {
      "cell_type": "code",
      "source": [
        "\n",
        "# Definir os intervalos desejados\n",
        "intervalos = pd.interval_range(start=0.02, end=11.19, freq=1)\n",
        "\n",
        "# Criar uma nova coluna no DataFrame com os intervalos\n",
        "df['intervalo'] = pd.cut(df['distancia_centro'], bins=intervalos)\n",
        "\n",
        "# Contar a frequência de cada intervalo\n",
        "contagem_intervalos = df['intervalo'].value_counts().sort_index()\n",
        "\n",
        "# Criar o gráfico de barras\n",
        "plt.bar(contagem_intervalos.values, contagem_intervalos.index.astype(str))\n",
        "\n",
        "# Definir o título e os rótulos dos eixos\n",
        "plt.title('Contagem de reservas e distancia do centro ')\n",
        "plt.xlabel('Intervalo')\n",
        "plt.ylabel('Contagem')\n",
        "\n",
        "# Exibir o gráfico\n",
        "plt.show()"
      ],
      "metadata": {
        "colab": {
          "base_uri": "https://localhost:8080/",
          "height": 472
        },
        "id": "ZLJRgo5M016L",
        "outputId": "f684886b-f487-40dd-b6b9-9d3b0fa249b8"
      },
      "execution_count": 357,
      "outputs": [
        {
          "output_type": "display_data",
          "data": {
            "text/plain": [
              "<Figure size 640x480 with 1 Axes>"
            ],
            "image/png": "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\n"
          },
          "metadata": {}
        }
      ]
    },
    {
      "cell_type": "markdown",
      "source": [
        "## Correlações"
      ],
      "metadata": {
        "id": "emR8NoU1xY89"
      }
    },
    {
      "cell_type": "markdown",
      "source": [
        "> Correlações de todos atributos"
      ],
      "metadata": {
        "id": "wdDscaMHxn5F"
      }
    },
    {
      "cell_type": "code",
      "source": [
        "matriz_correlacao = df.corr()\n",
        "\n",
        "sns.heatmap(matriz_correlacao, annot=True)\n",
        "\n",
        "plt.show()"
      ],
      "metadata": {
        "id": "VEB_0hOYILVF",
        "colab": {
          "base_uri": "https://localhost:8080/",
          "height": 565
        },
        "outputId": "bc852bed-373c-42d7-97ab-0197d1445e97"
      },
      "execution_count": 349,
      "outputs": [
        {
          "output_type": "display_data",
          "data": {
            "text/plain": [
              "<Figure size 640x480 with 2 Axes>"
            ],
            "image/png": "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\n"
          },
          "metadata": {}
        }
      ]
    },
    {
      "cell_type": "markdown",
      "source": [
        "> Correlação Avaliação Geral x Avaliação limpeza"
      ],
      "metadata": {
        "id": "XICXiGg5xytB"
      }
    },
    {
      "cell_type": "code",
      "source": [
        "columns = ['avaliacao_geral', 'limpeza']   # Selecionando as colunas para o gráfico de correlação\n",
        "\n",
        "corr_matrix = df[columns].corr()   # Calculando a matriz de correlação para as colunas selecionadas\n",
        "\n",
        "sns.heatmap(corr_matrix, annot=True)   # Criando o gráfico de correlação\n",
        "\n",
        "plt.show()"
      ],
      "metadata": {
        "colab": {
          "base_uri": "https://localhost:8080/",
          "height": 435
        },
        "id": "B_KGx_ODgyb1",
        "outputId": "cd75f29b-8957-4217-a9ad-b2788e785dc4"
      },
      "execution_count": 346,
      "outputs": [
        {
          "output_type": "display_data",
          "data": {
            "text/plain": [
              "<Figure size 640x480 with 2 Axes>"
            ],
            "image/png": "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\n"
          },
          "metadata": {}
        }
      ]
    },
    {
      "cell_type": "markdown",
      "source": [
        "> Correlação Avaliação Geral x Superhost"
      ],
      "metadata": {
        "id": "0Ji4bqr6yNWm"
      }
    },
    {
      "cell_type": "code",
      "source": [
        "columns2 = ['avaliacao_geral', 'superhost']\n",
        "\n",
        "corr_matrix = df[columns2].corr()\n",
        "\n",
        "sns.heatmap(corr_matrix, annot=True)\n",
        "\n",
        "plt.show()    
      ],
      "metadata": {
        "id": "9dxEOuZfkonC",
        "colab": {
          "base_uri": "https://localhost:8080/",
          "height": 435
        },
        "outputId": "5c3de431-5e4f-460c-dc12-1596d139c526"
      },
      "execution_count": 358,
      "outputs": [
        {
          "output_type": "display_data",
          "data": {
            "text/plain": [
              "<Figure size 640x480 with 2 Axes>"
            ],
            "image/png": "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\n"
          },
          "metadata": {}
        }
      ]
    },
    {
      "cell_type": "markdown",
      "source": [
        "## Dispersão"
      ],
      "metadata": {
        "id": "gc5_th0yztkE"
      }
    },
    {
      "cell_type": "code",
      "source": [
        "# Criar o gráfico de dispersão\n",
        "plt.scatter(df['limpeza'], df['avaliacao_geral'])\n",
        "\n",
        "# Adicionar rótulos aos eixos\n",
        "plt.ylabel('Avaliação Geral')\n",
        "plt.xlabel('Avaliação Limpeza')\n",
        "\n",
        "# Adicionar um título ao gráfico\n",
        "plt.title('Gráfico de Dispersão entre Avaliação Geral e Limpeza')\n",
        "\n",
        "# Exibir o gráfico\n",
        "plt.show()"
      ],
      "metadata": {
        "colab": {
          "base_uri": "https://localhost:8080/",
          "height": 472
        },
        "id": "M1J3Dil0nx17",
        "outputId": "f484d660-5f2d-450e-8cdb-040ec5ccdcb0"
      },
      "execution_count": null,
      "outputs": [
        {
          "output_type": "display_data",
          "data": {
            "text/plain": [
              "<Figure size 640x480 with 1 Axes>"
            ],
            "image/png": "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\n"
          },
          "metadata": {}
        }
      ]
    },
    {
      "cell_type": "markdown",
      "source": [
        "> Mapa"
      ],
      "metadata": {
        "id": "kEevD3kW0BAO"
      }
    },
    {
      "cell_type": "code",
      "source": [
        "# Criar um mapa\n",
        "mapa = folium.Map(location=[df['latitude'].mean(), df['longitude'].mean()], zoom_start=11)\n",
        "\n",
        "# Adicionar marcadores ao mapa com base nas coordenadas de latitude e longitude\n",
        "for index, row in df.iterrows():\n",
        "    folium.Marker([row['latitude'], row['longitude']], popup=row['ID']).add_to(mapa)\n",
        "\n",
        "# Exibir o mapa\n",
        "mapa      
      ],
      "metadata": {
        "id": "F5qrll2XS6kU"
      },
      "execution_count": null,
      "outputs": []
    },
    {
      "cell_type": "markdown",
      "source": [
        "# **Resultados**"
      ],
      "metadata": {
        "id": "J2u4AuCXj33e"
      }
    },
    {
      "cell_type": "markdown",
      "source": [
        "A análise dos dados revelou oportunidades e ameaças para o empreendimento Airbnb. Dentre tantos fatores relevantes temos:\n",
        "\n",
        "1. forte correlação positiva (0.65) entre a avaliação de limpeza e a avaliação\n",
        "geral;\n",
        "Isso indica que a percepção dos usuários em relação à limpeza tem um impacto significativo na avaliação geral da acomodação.\n",
        "\n",
        "2. correlação moderada (0.30) entre a avaliação geral e o status de Superhost;\n",
        "Isso sugere que os anfitriões com o status de superhost tendem a receber avaliações mais positivas dos usuários.\n",
        "\n",
        "3. correlação moderada (0.31) entre o status de superhost e a avaliação de limpeza;\n",
        "indicando que os superhosts têm maior probabilidade de receber avaliações positivas em relação à limpeza.\n",
        "\n",
        "4. correlação negativa fraca (-0.06) entre o preço e o status de superhost;\n",
        " Isso sugere que os superhosts podem cobrar preços mais altos em comparação com os anfitriões regulares.No entanto, apenas 29% dos anfitriões são superhosts, o que sugere uma oportunidade para a empresa incentivar mais anfitriões a alcançarem esse status, a fim de atrair mais reservas. Essa informação pode ser útil para que a empresa promova campanhas e incentive mais anfitriões a se tornarem superhosts, pois isso pode resultar em uma melhoria nas avaliações e, potencialmente, em um aumento nos preços.  \n",
        "\n",
        "> Outra descoberta importante foi que a maioria das reservas (99%) é para quartos privados ou espaços/apartamentos inteiros. Isso indica uma tendência dos usuários em buscar privacidade durante suas estadias.\n",
        "\n",
        " Cerca de 80% das reservas são de propriedades localizadas a uma distância de até 4.02km do centro. Essa tendência indica claramente a preferência dos hóspedes pela localização próxima ao centro, valorizando a conveniência e acessibilidade oferecidas por essas propriedades.\"\n",
        "\n",
        " Por fim, notamos que 88% das reservas são de espaços que não possuem ambiente de trabalho, esse dado pode indicar a indisponibilidade do ambiente de trabalho nas propriedades. Com o aumento do trabalho remoto e do home office, é recomendado que a empresa promova a disponibilidade de acomodações com espaços adequados para trabalho, a fim de atender à demanda crescente para este público.\n",
        "\n",
        "\n",
        "Com base nas descobertas, a empresa Airbnb pode tomar medidas para melhorar a qualidade das acomodações, promover o status de superhost, diversificar as opções de acomodação a fim de atender às necessidades dos usuários, garantindo uma experiência positiva e atraindo mais reservas.\n",
        "\n",
        "Além das descobertas mencionadas, é importante ressaltar que a análise de dados da empresa Airbnb foi limitada devido à falta de algumas informações relevantes. Entre essas informações ausentes, destaca-se o número total de acomodações disponíveis, suas características específicas e perfil dos usuários que realizaram as reservas. Portanto, é recomendável a coleta e armazenamento adequado dessas informações faltantes, a fim de enriquecer a análise de dados futura visto que esses dados seriam essenciais para entender melhor a distribuição das reservas e identificar possíveis oportunidades, assim como fornecer insights valiosos para direcionar estratégias de marketing e personalizar a experiência do usuário."
      ],
      "metadata": {
        "id": "cUHNtADG8XXs"
      }
    }
  ],
  "metadata": {
    "colab": {
      "provenance": [],
      "history_visible": true,
      "include_colab_link": true
    },
    "kernelspec": {
      "display_name": "Python 3",
      "name": "python3"
    },
    "language_info": {
      "name": "python"
    }
  },
  "nbformat": 4,
  "nbformat_minor": 0
}
